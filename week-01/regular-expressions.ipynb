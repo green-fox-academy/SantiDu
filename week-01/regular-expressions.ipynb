{
 "cells": [
  {
   "cell_type": "markdown",
   "metadata": {},
   "source": [
    "# Regular expressions\n",
    "\n",
    "## Materials & Resources\n",
    "\n",
    "| Material                                                                              |        Time |\n",
    "|:--------------------------------------------------------------------------------------|------------:|\n",
    "| [RegexOne - Learn Regular Expressions](https://regexone.com/lesson/introduction_abcs) | interactive |\n",
    "\n",
    "### Optional Materials & Resources\n",
    "\n",
    "| Material                                                                           |    Time |\n",
    "|:-----------------------------------------------------------------------------------|--------:|\n",
    "| [CS50 - Regular Expressions Tutorial](https://www.youtube.com/watch?v=9cCaCwBKf5Y) | 1:38:35 |\n",
    "| [Regular-Expressions.info](https://www.regular-expressions.info/)                  | reading |\n",
    "\n",
    "## Material Review\n",
    "\n",
    "- What are regular expressions?\n",
    "  <!--\n",
    "    A regular expression (regex or regexp for short) is a special text string\n",
    "    for describing a search pattern.\n",
    "  -->\n",
    "- Is it case sensitive?\n",
    "  <!--\n",
    "    Yes it is but you can disable it with the i flag.\n",
    "  -->\n",
    "- How can you search for specific text?\n",
    "  <!--\n",
    "    Texts like \"apple\" or \"pear\" are valid regular expressions.\n",
    "  -->\n",
    "- How can you search for digits from 0 to 4?\n",
    "  <!--\n",
    "    You can use [0-4].\n",
    "  -->\n",
    "- How can you search for certain characters?\n",
    "  <!--\n",
    "    You can use character sets like [abc].\n",
    "  -->\n",
    "- How can you search for any digits?\n",
    "  <!--\n",
    "    You can use the \\d token. In some regular expression libraries it is\n",
    "    different from [0-9].\n",
    "  -->\n",
    "- How can you search for non-digits?\n",
    "  <!--\n",
    "    You can use the \\D token.\n",
    "  -->\n",
    "- How can you search for any character?\n",
    "  <!--\n",
    "    You can use the . token.\n",
    "  -->\n",
    "- How can you search for any alphanumeric character?\n",
    "  <!--\n",
    "    You can use the \\w token.\n",
    "  -->\n",
    "- How can you search for repetitions?\n",
    "  <!--\n",
    "      a? - for zero or one of a\n",
    "      a* - for zero or more of a\n",
    "      a+ - for one or more of a\n",
    "      a{3} - exactly 3 of a\n",
    "      a{3,} - 3 or more of a\n",
    "      a{3,6} - between 3 and 6 of a\n",
    "  -->\n",
    "- How can you search for any whitespace?\n",
    "  <!--\n",
    "    You can use the \\s token.\n",
    "  -->\n",
    "- How can you find out if the string starts or ends with a specific word?\n",
    "  <!--\n",
    "    You can use the start of string (^) anchor.\n",
    "  -->\n",
    "- What are the capture groups?\n",
    "  <!--\n",
    "    They capture the text matched by the regex inside them into a numbered group\n",
    "    that can be reused with a numbered backreference.\n",
    "  -->\n",
    "\n",
    "## Workshop"
   ]
  },
  {
   "cell_type": "code",
   "execution_count": 1,
   "metadata": {},
   "outputs": [],
   "source": [
    "import re\n",
    "\n",
    "def test(regex, table, cG=False):\n",
    "    output = {}\n",
    "    p = re.compile(regex)\n",
    "    for text in table:\n",
    "        obj = p.match(text)\n",
    "        if obj:\n",
    "            if cG:\n",
    "                output[text] = (\"y\", obj.group())\n",
    "            else:\n",
    "                output[text] = \"y\"\n",
    "        else:\n",
    "            output[text] = \"n\"\n",
    "    print(output == table, \"\\n\", output, \"\\n\", table)"
   ]
  },
  {
   "cell_type": "markdown",
   "metadata": {},
   "source": [
    "- **Reserved admin**\n",
    "\n",
    "Create a regular expression that matches if for the following words:\n",
    "\n",
    "- Admin\n",
    "- admin"
   ]
  },
  {
   "cell_type": "code",
   "execution_count": 2,
   "metadata": {},
   "outputs": [
    {
     "name": "stdout",
     "output_type": "stream",
     "text": [
      "<re.Match object; span=(0, 5), match='admin'>\n",
      "<re.Match object; span=(0, 5), match='Admin'>\n"
     ]
    }
   ],
   "source": [
    "p = \"[a,A]dmin\"\n",
    "p = re.compile(p)\n",
    "\n",
    "print(p.match(\"admin\"))\n",
    "print(p.match(\"Admin\"))"
   ]
  },
  {
   "cell_type": "markdown",
   "metadata": {},
   "source": [
    "- Numbers below 100\n",
    "\n",
    "Create a regular expression that matches the numbers between 0 (including) and\n",
    "100 (including).\n",
    "\n",
    "| Task  | Text |\n",
    "|:------|-----:|\n",
    "| Match |    0 |\n",
    "| Match |    9 |\n",
    "| Match |   55 |\n",
    "| Match |  100 |\n",
    "| Skip  |  101 |\n",
    "| Skip  |   -4 |"
   ]
  },
  {
   "cell_type": "code",
   "execution_count": 3,
   "metadata": {},
   "outputs": [],
   "source": [
    "table = {\"0\":\"y\", \"9\":\"y\", \"55\":\"y\", \"100\":\"y\", \"101\":\"n\", \"-4\":\"n\"}"
   ]
  },
  {
   "cell_type": "code",
   "execution_count": 4,
   "metadata": {},
   "outputs": [
    {
     "name": "stdout",
     "output_type": "stream",
     "text": [
      "True \n",
      " {'0': 'y', '9': 'y', '55': 'y', '100': 'y', '101': 'n', '-4': 'n'} \n",
      " {'0': 'y', '9': 'y', '55': 'y', '100': 'y', '101': 'n', '-4': 'n'}\n"
     ]
    }
   ],
   "source": [
    "p = r\"^\\d{1,2}0?$\"\n",
    "test(p, table)"
   ]
  },
  {
   "cell_type": "markdown",
   "metadata": {},
   "source": [
    "- Hungarian mobile numbers\n",
    "\n",
    "Create a regular expression that matches the valid\n",
    "[Hungarian mobile numbers][1].\n",
    "\n",
    "[1]: https://en.wikipedia.org/wiki/Telephone_numbers_in_Hungary\n",
    "\n",
    "| Task  |              Text |\n",
    "|:------|------------------:|\n",
    "| Match |   +36 20 473 2746 |\n",
    "| Match |   +36 30 217 4912 |\n",
    "| Match | 00 36 70 381 1288 |\n",
    "| Match | 00 36 31 471 2818 |\n",
    "| Skip  |  +36 20 3173 4717 |\n",
    "| Skip  |  +36 102 237 1121 |\n",
    "| Skip  |   +49 20 483 1273 |\n",
    "| Skip  |    36 70 381 2183 |"
   ]
  },
  {
   "cell_type": "code",
   "execution_count": 5,
   "metadata": {},
   "outputs": [
    {
     "name": "stdout",
     "output_type": "stream",
     "text": [
      "True \n",
      " {'+36 20 473 2746': 'y', '+36 30 217 4912': 'y', '00 36 70 381 1288': 'y', '00 36 31 471 2818': 'y', '+36 20 3173 4717': 'n', '+36 102 237 1121': 'n', '+49 20 483 1273': 'n', '36 70 381 2183': 'n'} \n",
      " {'+36 20 473 2746': 'y', '+36 30 217 4912': 'y', '00 36 70 381 1288': 'y', '00 36 31 471 2818': 'y', '+36 20 3173 4717': 'n', '+36 102 237 1121': 'n', '+49 20 483 1273': 'n', '36 70 381 2183': 'n'}\n"
     ]
    }
   ],
   "source": [
    "mobn = {  \"+36 20 473 2746\":\"y\", \n",
    "          \"+36 30 217 4912\":\"y\",\n",
    "        \"00 36 70 381 1288\":\"y\",\n",
    "        \"00 36 31 471 2818\":\"y\",\n",
    "          \"+36 20 3173 4717\":\"n\",\n",
    "          \"+36 102 237 1121\":\"n\",\n",
    "          \"+49 20 483 1273\":\"n\",\n",
    "           \"36 70 381 2183\":\"n\"}\n",
    "\n",
    "s = \"(\\+|00 )36 \\d{1,2} \\d{3} \\d{4}\"\n",
    "\n",
    "test(s, mobn)"
   ]
  },
  {
   "cell_type": "markdown",
   "metadata": {},
   "source": [
    "- GFA email address\n",
    "\n",
    "Create a regular expression that matches all Green Fox Academy email address.\n",
    "\n",
    "| Task    |                         Text | Capture Groups |\n",
    "|:--------|-----------------------------:|----------------|\n",
    "| Capture |     john@greenfoxacademy.com | `john`         |\n",
    "| Capture | jane.doe@greenfoxacademy.com | `jane.doe`     |\n",
    "| Capture |        jane@greenfox.academy | `jane`         |\n",
    "| Skip    |                john@wick.com |                |\n",
    "| Skip    |            jane@citromail.hu |                |\n",
    "| Skip    |      janegreenfoxacademy.com |                |"
   ]
  },
  {
   "cell_type": "code",
   "execution_count": 6,
   "metadata": {},
   "outputs": [
    {
     "name": "stdout",
     "output_type": "stream",
     "text": [
      "True \n",
      " {'john@greenfoxacademy.com': ('y', 'john'), 'jane.doe@greenfoxacademy.com': ('y', 'jane.doe'), 'jane@greenfox.academy': ('y', 'jane'), 'john@wick.com': 'n', 'jane@citromail.hu': 'n', 'janegreenfoxacademy.com': 'n'} \n",
      " {'john@greenfoxacademy.com': ('y', 'john'), 'jane.doe@greenfoxacademy.com': ('y', 'jane.doe'), 'jane@greenfox.academy': ('y', 'jane'), 'john@wick.com': 'n', 'jane@citromail.hu': 'n', 'janegreenfoxacademy.com': 'n'}\n"
     ]
    }
   ],
   "source": [
    "gfa = {\"john@greenfoxacademy.com\":(\"y\", \"john\"), \n",
    "       \"jane.doe@greenfoxacademy.com\":(\"y\",\"jane.doe\"), \n",
    "       \"jane@greenfox.academy\":(\"y\",\"jane\"),\n",
    "       \"john@wick.com\":\"n\",\n",
    "       \"jane@citromail.hu\":\"n\",\n",
    "       \"janegreenfoxacademy.com\":\"n\"}\n",
    "\n",
    "s = r\"[\\w\\.]+(?=(@greenfox\\.?academy(.com)?))\"\n",
    "\n",
    "test(s, gfa, cG=True)"
   ]
  },
  {
   "cell_type": "markdown",
   "metadata": {},
   "source": [
    "- Mobile numbers\n",
    "\n",
    "Create a regular expression that matches any other country's mobile numbers than\n",
    "Hungary."
   ]
  },
  {
   "cell_type": "code",
   "execution_count": 7,
   "metadata": {},
   "outputs": [
    {
     "name": "stdout",
     "output_type": "stream",
     "text": [
      "<re.Match object; span=(0, 18), match='00 34 189503 06261'>\n"
     ]
    }
   ],
   "source": [
    "s = \"(\\+|00 )(?!36)[\\d\\s]+(?= $)\"\n",
    "\n",
    "print(re.match(s, \"00 34 189503 06261 \"))"
   ]
  },
  {
   "cell_type": "markdown",
   "metadata": {},
   "source": [
    "- Image source\n",
    "\n",
    "Create a regular expression that matches the source from\n",
    "[HTML image element](1).\n",
    "\n",
    "[1]:https://developer.mozilla.org/en-US/docs/Web/HTML/Element/img\n",
    "\n",
    "| Task    |                                                Text | Capture Groups        |\n",
    "|:--------|----------------------------------------------------:|-----------------------|\n",
    "| Capture |                               `<img src=\"dog.png\">` | `dog.png`             |\n",
    "| Capture | `<img alt=\"Cat picture\" src=\"./images/cat-01.png\">` | `./images/cat-01.png` |\n",
    "| Skip    |                 `<script src=\"jquery.js\"></script>` |                       |"
   ]
  },
  {
   "cell_type": "code",
   "execution_count": 8,
   "metadata": {},
   "outputs": [
    {
     "name": "stdout",
     "output_type": "stream",
     "text": [
      "True \n",
      " {'<img src=\"dog.png\">': ('y', 'dog.png'), '<img alt=\"Cat picture\" src=\"./images/cat-01.png\">': ('y', './images/cat-01.png'), '<script src=\"jquery.js\"></script>': 'n'} \n",
      " {'<img src=\"dog.png\">': ('y', 'dog.png'), '<img alt=\"Cat picture\" src=\"./images/cat-01.png\">': ('y', './images/cat-01.png'), '<script src=\"jquery.js\"></script>': 'n'}\n"
     ]
    }
   ],
   "source": [
    "table = {'<img src=\"dog.png\">':('y','dog.png'), \n",
    "         '<img alt=\"Cat picture\" src=\"./images/cat-01.png\">':('y','./images/cat-01.png'),\n",
    "         '<script src=\"jquery.js\"></script>':'n'}\n",
    "\n",
    "pattern = r'(?<=(<img )).+(?<=(src=\\\"))(?P<img>.+)(?=\\\")'\n",
    "\n",
    "output = {}\n",
    "p = re.compile(pattern)\n",
    "for text in table:\n",
    "    obj = p.search(text)\n",
    "    if obj:\n",
    "        output[text] = (\"y\", obj.group(\"img\"))\n",
    "    else:\n",
    "        output[text] = \"n\"\n",
    "\n",
    "print(output == table, \"\\n\", output, \"\\n\", table)"
   ]
  },
  {
   "cell_type": "markdown",
   "metadata": {},
   "source": [
    "- Solve the [problems on RegexOne](https://regexone.com/problem/matching_decimal_numbers)\n",
    "- Practice more on [HackerRank](https://www.hackerrank.com/domains/regex)"
   ]
  }
 ],
 "metadata": {
  "kernelspec": {
   "display_name": "Python 3",
   "language": "python",
   "name": "python3"
  },
  "language_info": {
   "codemirror_mode": {
    "name": "ipython",
    "version": 3
   },
   "file_extension": ".py",
   "mimetype": "text/x-python",
   "name": "python",
   "nbconvert_exporter": "python",
   "pygments_lexer": "ipython3",
   "version": "3.7.3"
  }
 },
 "nbformat": 4,
 "nbformat_minor": 2
}

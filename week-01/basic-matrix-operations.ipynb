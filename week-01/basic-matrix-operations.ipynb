{
 "cells": [
  {
   "cell_type": "markdown",
   "metadata": {},
   "source": [
    "# Basic matrix operations\n",
    "\n",
    "## Materials & Resources\n",
    "\n",
    "| Material                                                            |  Time |\n",
    "|:--------------------------------------------------------------------|------:|\n",
    "| [Introduction to matrices](https://youtu.be/xyAuNHPsq-g)            | 11:50 |\n",
    "| [Matrix addition and subtraction](https://youtu.be/WR9qCSXJlyY)     |  5:34 |\n",
    "| [Scalar multiplication](https://youtu.be/TbaltFbJ3wE)               |  2:17 |\n",
    "| [Transpose of a matrix](https://youtu.be/TZrKrNVhbjI)               |  3:41 |\n",
    "| [Matrix multiplication introduction](https://youtu.be/kT4Mp9EdVqs)  |  6:25 |\n",
    "| [Multiplying a matrix by a matrix](https://youtu.be/OMA2Mwo0aZg)    |  5:29 |\n",
    "\n",
    "## Material Review\n",
    "\n",
    "- What is a matrix?\n",
    "  <!--\n",
    "    A table of numbers. It has rows and columns. It's just a data\n",
    "    representation. It can represent tons of things like pixels on your screen.\n",
    "  -->\n",
    "- How do you add two matrices?\n",
    "  <!--\n",
    "    Just add A[ij] to B[ij].\n",
    "  -->\n",
    "- Is `A + B` equals `B + A`?\n",
    "  <!--\n",
    "    Yes, addition on matrices are commutative.\n",
    "  -->\n",
    "- How do you subtract two matrices?\n",
    "  <!--\n",
    "    Just subtract A[ij] from B[ij].\n",
    "  -->\n",
    "- Can you apply add or subtract operation on matrices with different dimensions?\n",
    "  <!--\n",
    "    No, because the output would be undefined.\n",
    "  -->\n",
    "- What is a scalar?\n",
    "  <!--\n",
    "    A regular number like 2, π, 4+2i...\n",
    "  -->\n",
    "- How do you do scalar multiplication?\n",
    "  <!--\n",
    "    Just multiply A[ij] with the scalar.\n",
    "  -->\n",
    "- What does transpose of a matrix mean?\n",
    "  <!--\n",
    "    It means that rows become columns and columns become rows\n",
    "    A[ij] to B[ji].\n",
    "  -->\n",
    "- Can you always multiply two matrices?\n",
    "  <!--\n",
    "    No you can't. You can only multiply two matrices if the number of columns of\n",
    "    A matrix equals to the number of rows of B matrix.\n",
    "  -->\n",
    "- How do you multiply two matrices?\n",
    "  <!--\n",
    "    You multiply A's row with B's column.\n",
    "  -->\n",
    "- Is `A × B` equals `B × A`?\n",
    "  <!--\n",
    "    Not necessarily.\n",
    "  -->\n",
    "- Which operations change the output matrix's dimensions?\n",
    "  <!--\n",
    "    Transposition: m×n to n×m\n",
    "    Matrix multiplication: A(m×n), B(m×k) to C(n×k)\n",
    "    Addition, subtraction, scalar multiplication and transposition won't change.\n",
    "  -->\n",
    "\n",
    "## Workshop\n",
    "\n",
    "- Addition\n",
    "\n",
    "Create a program that can add two matrices together."
   ]
  },
  {
   "cell_type": "code",
   "execution_count": 4,
   "metadata": {},
   "outputs": [
    {
     "data": {
      "text/plain": [
       "[[3, 3], [3, 3]]"
      ]
     },
     "execution_count": 4,
     "metadata": {},
     "output_type": "execute_result"
    }
   ],
   "source": [
    "def add(a, b):\n",
    "    s = []\n",
    "    for i in range(len(a)):\n",
    "        s.append([])\n",
    "        for j in range(len(a[i])):\n",
    "            s[i].append(a[i][j] + b[i][j])\n",
    "    return s\n",
    "\n",
    "add([[1,2],[1,2]], [[2,1],[2,1]])"
   ]
  },
  {
   "cell_type": "markdown",
   "metadata": {},
   "source": [
    "- Subtraction\n",
    "\n",
    "Create a program that can subtract two matrices from each other."
   ]
  },
  {
   "cell_type": "code",
   "execution_count": null,
   "metadata": {},
   "outputs": [],
   "source": [
    "sub "
   ]
  },
  {
   "cell_type": "markdown",
   "metadata": {},
   "source": [
    "- Scalar multiplication\n",
    "\n",
    "Create a program that can multiply a matrix with a scalar."
   ]
  },
  {
   "cell_type": "code",
   "execution_count": null,
   "metadata": {},
   "outputs": [],
   "source": [
    "sMul"
   ]
  },
  {
   "cell_type": "markdown",
   "metadata": {},
   "source": [
    "- Transposition\n",
    "\n",
    "Create a program that calculates the transposition of a matrix."
   ]
  },
  {
   "cell_type": "code",
   "execution_count": null,
   "metadata": {},
   "outputs": [],
   "source": [
    "t"
   ]
  },
  {
   "cell_type": "markdown",
   "metadata": {},
   "source": [
    "- Matrix multiplication\n",
    "\n",
    "Create a program that does matrix multiplication."
   ]
  },
  {
   "cell_type": "code",
   "execution_count": null,
   "metadata": {},
   "outputs": [],
   "source": [
    "mMul"
   ]
  },
  {
   "cell_type": "markdown",
   "metadata": {},
   "source": [
    "- Vertical flipping\n",
    "\n",
    "Create a program that can vertically flip a matrix."
   ]
  },
  {
   "cell_type": "code",
   "execution_count": null,
   "metadata": {},
   "outputs": [],
   "source": [
    "vflip"
   ]
  },
  {
   "cell_type": "markdown",
   "metadata": {},
   "source": [
    "- Main anti-diagonal mirroring\n",
    "\n",
    "Create a program that can mirror the given matrix across the main anti-diagonal."
   ]
  },
  {
   "cell_type": "code",
   "execution_count": null,
   "metadata": {},
   "outputs": [],
   "source": [
    "antiMirr"
   ]
  },
  {
   "cell_type": "markdown",
   "metadata": {},
   "source": [
    "- Horizontal flipping\n",
    "\n",
    "Create a program that can horizontally flip a matrix."
   ]
  },
  {
   "cell_type": "code",
   "execution_count": null,
   "metadata": {},
   "outputs": [],
   "source": [
    "hflip"
   ]
  },
  {
   "cell_type": "markdown",
   "metadata": {},
   "source": [
    "- Matrix rotation\n",
    "\n",
    "Create a program that can rotate a matrix by 90 degree.\n",
    "\n",
    "Extend your program to work with any multiplication of 90 degree."
   ]
  },
  {
   "cell_type": "code",
   "execution_count": null,
   "metadata": {},
   "outputs": [],
   "source": [
    "rotate"
   ]
  }
 ],
 "metadata": {
  "kernelspec": {
   "display_name": "Python 3",
   "language": "python",
   "name": "python3"
  },
  "language_info": {
   "codemirror_mode": {
    "name": "ipython",
    "version": 3
   },
   "file_extension": ".py",
   "mimetype": "text/x-python",
   "name": "python",
   "nbconvert_exporter": "python",
   "pygments_lexer": "ipython3",
   "version": "3.7.3"
  }
 },
 "nbformat": 4,
 "nbformat_minor": 2
}

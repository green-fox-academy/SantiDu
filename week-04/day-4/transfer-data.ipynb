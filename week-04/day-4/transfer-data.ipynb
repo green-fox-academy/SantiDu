{
 "cells": [
  {
   "cell_type": "code",
   "execution_count": 1,
   "metadata": {},
   "outputs": [],
   "source": [
    "import json, psycopg2, re, networkx as nx\n",
    "from datetime import datetime\n",
    "from re import compile"
   ]
  },
  {
   "cell_type": "code",
   "execution_count": 2,
   "metadata": {},
   "outputs": [],
   "source": [
    "with open(\"thanks_channel.json\", encoding=\"UTF8\") as f:\n",
    "    msges = json.load(f)"
   ]
  },
  {
   "cell_type": "code",
   "execution_count": 3,
   "metadata": {},
   "outputs": [],
   "source": [
    "conn = psycopg2.connect(host=\"localhost\",\n",
    "                 database=\"slack\",\n",
    "                 user=\"postgres\",\n",
    "                 password=\"password\")\n",
    "\n",
    "cur = conn.cursor()"
   ]
  },
  {
   "cell_type": "code",
   "execution_count": 4,
   "metadata": {},
   "outputs": [],
   "source": [
    "sql_msg_table = \"CREATE TABLE messages (id VARCHAR PRIMARY KEY, text VARCHAR, user_id VARCHAR, channel VARCHAR, \\\n",
    "                                        subtype VARCHAR, is_parent_thread BOOLEAN, post_time TIMESTAMP, edit_time TIMESTAMP);\"\n",
    "cur.execute(sql_msg_table)\n",
    "\n",
    "\n",
    "# sql_reply_table = \"CREATE TABLE replies (reply_id VARCHAR PRIMARY KEY, parent_msg_id VARCHAR REFERENCES messages (id), \\\n",
    "#                                         user_id VARCHAR, reply_time TIMESTAMP)\"\n",
    "# cur.execute(sql_reply_table)\n",
    "\n",
    "\n",
    "sql_reaction_table = \"CREATE TABLE reactions (user_id VARCHAR, msg_id VARCHAR REFERENCES messages (id), reaction VARCHAR);\"\n",
    "cur.execute(sql_reaction_table)\n",
    "\n",
    "\n",
    "sql_mention_table = \"CREATE TABLE mentions (msg_id VARCHAR REFERENCES messages (id), user_id VARCHAR);\"\n",
    "cur.execute(sql_mention_table)"
   ]
  },
  {
   "cell_type": "code",
   "execution_count": 5,
   "metadata": {},
   "outputs": [],
   "source": [
    "sql_fill_msg = \"INSERT INTO messages (id, text, user_id, channel, subtype, is_parent_thread, post_time, edit_time)\\\n",
    "VALUES (%(id)s, %(text)s, %(user_id)s, %(channel)s, %(subtype)s, %(is_parent_thread)s, %(post_time)s, %(edit_time)s);\"\n",
    "\n",
    "# sql_reply_table = \"INSERT INTO replies (reply_id, parent_msg_id, user_id, reply_time)\\\n",
    "# VALUES (%(reply_id)s, %(parent_msg_id)s, %(user_id)s, %(reply_time)s);\"\n",
    "\n",
    "sql_fill_reaction_table = \"INSERT INTO reactions (msg_id, user_id, reaction)\\\n",
    "VALUES (%(msg_id)s, %(user_id)s, %(reaction)s);\"\n",
    "\n",
    "sql_fill_mention_table = \"INSERT INTO mentions (msg_id, user_id)\\\n",
    "VALUES (%(msg_id)s, %(user_id)s);\"\n",
    "\n",
    "user_pattern_in_mention = compile(\"(?<=<@).{9}(?=>)\")\n",
    "\n",
    "for msg in msges:\n",
    "    msg_id = msg[\"ts\"]\n",
    "    text = msg[\"text\"]\n",
    "    user_id = msg.get(\"user\")\n",
    "    channel = \"thanks\"\n",
    "    subtype = msg.get(\"subtype\")\n",
    "    is_parent_thread = (True if msg.get(\"thread_ts\") and msg[\"thread_ts\"] == msg[\"ts\"] else None)\n",
    "    post_time = datetime.utcfromtimestamp(float(msg_id)).strftime('%Y-%m-%d %H:%M:%S')\n",
    "    if msg.get(\"edited\"):\n",
    "        edit_time = datetime.utcfromtimestamp(float(msg[\"edited\"][\"ts\"])).strftime('%Y-%m-%d %H:%M:%S')\n",
    "    else:\n",
    "        edit_time = None\n",
    "    cur.execute(sql_fill_msg, {\"id\": msg_id, \"text\": text, \"user_id\": user_id, \"channel\": channel, \"subtype\": subtype, \n",
    "                               \"is_parent_thread\": is_parent_thread, \"post_time\": post_time, \"edit_time\": edit_time})\n",
    "#     if msg.get(\"replies\"):\n",
    "#         for reply in msg.get(\"replies\"):\n",
    "#             reply_time = datetime.utcfromtimestamp(float(reply[\"ts\"])).strftime('%Y-%m-%d %H:%M:%S')\n",
    "#             cur.execute(sql_reply_table, {\"reply_id\": reply[\"ts\"], \"parent_msg_id\": msg_id,\n",
    "#                                           \"user_id\": reply[\"user\"], \"reply_time\": reply_time})\n",
    "    reactions = msg.get(\"reactions\")\n",
    "    if reactions:\n",
    "        for reaction in reactions:\n",
    "            for user in reaction[\"users\"]:\n",
    "                cur.execute(sql_fill_reaction_table, {\"msg_id\": msg_id, \"user_id\": user, \"reaction\": reaction[\"name\"]})\n",
    "    for user in user_pattern_in_mention.findall(text):\n",
    "        cur.execute(sql_fill_mention_table, {\"msg_id\": msg_id, \"user_id\": user})"
   ]
  },
  {
   "cell_type": "code",
   "execution_count": 12,
   "metadata": {},
   "outputs": [],
   "source": [
    "cur.close()\n",
    "conn.commit()\n",
    "conn.close()"
   ]
  }
 ],
 "metadata": {
  "kernelspec": {
   "display_name": "Python 3",
   "language": "python",
   "name": "python3"
  },
  "language_info": {
   "codemirror_mode": {
    "name": "ipython",
    "version": 3
   },
   "file_extension": ".py",
   "mimetype": "text/x-python",
   "name": "python",
   "nbconvert_exporter": "python",
   "pygments_lexer": "ipython3",
   "version": "3.7.3"
  }
 },
 "nbformat": 4,
 "nbformat_minor": 2
}

{
 "cells": [
  {
   "cell_type": "markdown",
   "metadata": {},
   "source": [
    "# Data structures\n",
    "\n",
    "Practice working with data structures\n",
    "\n",
    "## Materials and resources\n",
    "\n",
    "Recap these videos, they might come handy again.\n",
    "\n",
    "| Material                                                                                            | Time |\n",
    "|:----------------------------------------------------------------------------------------------------|-----:|\n",
    "| [Python Programming Tutorial - 4 - Slicing up Strings](https://www.youtube.com/watch?v=YbipxqSKx-E) | 5:40 |\n",
    "| [Python Programming Tutorial - 5 - Lists](https://www.youtube.com/watch?v=1yUn-ydsgKk)              | 7:43 |\n",
    "| [Python Programming Tutorial - 20 - Dictionary](https://www.youtube.com/watch?v=BSNFRKG1MfE)        | 5:23 |\n",
    "\n",
    "## Material Review\n",
    "\n",
    "- What is a list?\n",
    "  <!--\n",
    "    It is a data structure with many operations.\n",
    "  -->\n",
    "- What's the difference between an array and a list?\n",
    "  <!--\n",
    "    An array has a fixed length while the list is dynamic.\n",
    "  -->\n",
    "- What is a dictionary?\n",
    "  <!--\n",
    "    It is a key-value pair data structure.\n",
    "  -->\n",
    "- What is the difference between a dictionary and a map?\n",
    "  <!--\n",
    "    The two terms are the same thing. It is also called associative array.\n",
    "  -->\n",
    "\n",
    "## Workshop\n",
    "\n",
    "As strategy to progress, pick one from each section as you go along with the\n",
    "exercises.\n",
    "\n",
    "Make sure you finish the sorting assignment, rewatch the videos if needed.\n",
    "\n",
    "### Strings\n",
    "\n",
    "Strings are basic data structures, they can be treated like lists / arrays.\n",
    "\n",
    "- Simple replace"
   ]
  },
  {
   "cell_type": "code",
   "execution_count": 1,
   "metadata": {},
   "outputs": [
    {
     "name": "stdout",
     "output_type": "stream",
     "text": [
      "In a galaxy far far away\n"
     ]
    }
   ],
   "source": [
    "example = \"In a dishwasher far far away\";\n",
    "\n",
    "# I would like to replace \"dishwasher\" with \"galaxy\" in this example\n",
    "# Please fix it for me!\n",
    "# Expected ouput: In a galaxy far far away\n",
    "example = example.replace(\"dishwasher\", \"galaxy\")\n",
    "print(example)"
   ]
  },
  {
   "cell_type": "markdown",
   "metadata": {},
   "source": [
    "- Url fixer"
   ]
  },
  {
   "cell_type": "code",
   "execution_count": 2,
   "metadata": {},
   "outputs": [
    {
     "name": "stdout",
     "output_type": "stream",
     "text": [
      "https://www.reddit.com/r/nevertellmetheodds\n"
     ]
    }
   ],
   "source": [
    "# Accidentally I got the wrong URL for a funny subreddit. It's probably \"odds\" and not \"bots\"\n",
    "# Also, the URL is missing a crutial component, find out what it is and insert it too!\n",
    "\n",
    "url = \"https//www.reddit.com/r/nevertellmethebots\"\n",
    "url = url.replace(\"bots\", \"odds\")\n",
    "url = url[:5] + \":\" + url[5:] \n",
    "print(url)"
   ]
  },
  {
   "cell_type": "markdown",
   "metadata": {},
   "source": [
    "- Takes longer"
   ]
  },
  {
   "cell_type": "code",
   "execution_count": 3,
   "metadata": {},
   "outputs": [
    {
     "name": "stdout",
     "output_type": "stream",
     "text": [
      "Hofstadter's Law: It always takes longer than you expect, even when you take into account Hofstadter's Law.\n"
     ]
    }
   ],
   "source": [
    "# When saving this quote a disk error has occured. Please fix it.\n",
    "# Add \"always takes longer than\" between the words \"It\" and \"you\"\n",
    "\n",
    "quote = \"Hofstadter's Law: It you expect, even when you take into account Hofstadter's Law.\"\n",
    "\n",
    "ins = \"always takes longer than\"\n",
    "cut = quote.find(\"you\")\n",
    "quote = quote[:cut] + ins + quote[cut-1:]\n",
    "print(quote)"
   ]
  },
  {
   "cell_type": "markdown",
   "metadata": {},
   "source": [
    "- Todo print"
   ]
  },
  {
   "cell_type": "code",
   "execution_count": 4,
   "metadata": {},
   "outputs": [
    {
     "name": "stdout",
     "output_type": "stream",
     "text": [
      "My todo:\n",
      " - Buy milk\n",
      " - Download games\n",
      "     - Diablo\n"
     ]
    }
   ],
   "source": [
    "# Add \"My todo:\" to the beginning of the todoText\n",
    "# Add \" - Download games\" to the end of the todoText\n",
    "# Add \" - Diablo\" to the end of the todoText but with indention\n",
    "\n",
    "# Expected outpt:\n",
    "\n",
    "# My todo:\n",
    "#  - Buy milk\n",
    "#  - Download games\n",
    "#      - Diablo\n",
    "\n",
    "todoText = \"My todo:\\n - Buy milk\\n - Download games\\n     - Diablo\"\n",
    "\n",
    "print(todoText)"
   ]
  },
  {
   "cell_type": "markdown",
   "metadata": {},
   "source": [
    "- Reverse"
   ]
  },
  {
   "cell_type": "code",
   "execution_count": 5,
   "metadata": {},
   "outputs": [
    {
     "name": "stdout",
     "output_type": "stream",
     "text": [
      "If the meanings of true and false were switched, this sentence wouldn't be false.\n"
     ]
    }
   ],
   "source": [
    "# Create a function called 'reverse' which takes a string as a parameter\n",
    "# The function reverses it and returns with the reversed string\n",
    "\n",
    "def reverse(string):\n",
    "    return string[::-1]\n",
    "\n",
    "reverseds = \".eslaf eb t'ndluow ecnetnes siht ,dehctiws erew eslaf dna eurt fo sgninaem eht fI\"\n",
    "print(reverse(reverseds))"
   ]
  },
  {
   "cell_type": "markdown",
   "metadata": {},
   "source": [
    "### Data structures\n",
    "\n",
    "- **List introduction 1**"
   ]
  },
  {
   "cell_type": "code",
   "execution_count": 6,
   "metadata": {},
   "outputs": [
    {
     "name": "stdout",
     "output_type": "stream",
     "text": [
      "0\n",
      "False\n",
      "3\n",
      "Amanda\n",
      "William\n",
      "John\n",
      "Amanda\n",
      "1. William\n",
      "2. John\n",
      "3. Amanda\n",
      "Amanda\n",
      "William\n"
     ]
    }
   ],
   "source": [
    "# We are going to play with lists. Feel free to use the built-in methods where\n",
    "# possible.\n",
    "\n",
    "# - Create an empty list which will contain names (strings)\n",
    "names = []\n",
    "\n",
    "# - Print out the number of elements in the list\n",
    "print(len(names))\n",
    "\n",
    "# - Add William to the list\n",
    "names.append(\"William\")\n",
    "\n",
    "# - Print out whether the list is empty ornot\n",
    "print(not any(names))\n",
    "\n",
    "# - Add John to the list\n",
    "names.append(\"John\")\n",
    "\n",
    "# - Add Amanda to the list\n",
    "names.append(\"Amanda\")\n",
    "\n",
    "# - Print out the number of elements in the list\n",
    "print(len(names))\n",
    "\n",
    "# - Print out the 3rd element\n",
    "print(names[2])\n",
    "\n",
    "# - Iterate through the list and print out each name\n",
    "#   ```\n",
    "#   William\n",
    "#   John\n",
    "#   Amanda\n",
    "#   ```\n",
    "for name in names:\n",
    "    print(name)\n",
    "    \n",
    "# - Iterate through the list and print\n",
    "#   ```\n",
    "#   1. William\n",
    "#   2. John\n",
    "#   3. Amanda\n",
    "#   ```\n",
    "for i in range(len(names)):\n",
    "    c = i + 1\n",
    "    print(f\"{c}. {names[i]}\")\n",
    "    \n",
    "# - Remove the 2nd element\n",
    "names.pop(1)\n",
    "\n",
    "# - Iterate through the list in a reversed order and print out each name\n",
    "for i in range(len(names)-1, -1, -1):\n",
    "    print(names[i])\n",
    "    \n",
    "#   ```\n",
    "#   Amanda\n",
    "#   William\n",
    "#   ```\n",
    "# - Remove all elements\n",
    "names.clear()"
   ]
  },
  {
   "cell_type": "markdown",
   "metadata": {},
   "source": [
    "- **Map introduction 1**\n",
    "\n",
    "We are going to play with maps. Feel free to use the built-in methods where\n",
    "possible."
   ]
  },
  {
   "cell_type": "code",
   "execution_count": 7,
   "metadata": {},
   "outputs": [
    {
     "name": "stdout",
     "output_type": "stream",
     "text": [
      "True\n",
      "dict_keys([97, 98, 99, 65, 66, 67])\n",
      "dict_values(['a', 'b', 'c', 'A', 'B', 'C'])\n",
      "7\n",
      "c\n",
      "{98: 'b', 99: 'c', 65: 'A', 66: 'B', 67: 'C', 68: 'D'}\n",
      "None\n"
     ]
    }
   ],
   "source": [
    "# - Create an empty map where the keys are integers and the values are characters\n",
    "amap = {}\n",
    "\n",
    "# - Print out whether the map is empty or not\n",
    "print(not any(amap))\n",
    "\n",
    "# - Add the following key-value pairs to the map\n",
    "#   | Key | Value |\n",
    "#   |:----|:------|\n",
    "#   | 97  | a     |\n",
    "#   | 98  | b     |\n",
    "#   | 99  | c     |\n",
    "#   | 65  | A     |\n",
    "#   | 66  | B     |\n",
    "#   | 67  | C     |\n",
    "amap[97] = \"a\"\n",
    "amap[98] = \"b\"\n",
    "amap[99] = \"c\"\n",
    "amap[65] = \"A\"\n",
    "amap[66] = \"B\"\n",
    "amap[67] = \"C\"\n",
    "\n",
    "# - Print all the keys\n",
    "print(amap.keys())\n",
    "\n",
    "# - Print all the values\n",
    "print(amap.values())\n",
    "\n",
    "# - Add value D with the key 68\n",
    "amap[68] = \"D\"\n",
    "\n",
    "# - Print how many key-value pairs are in the map\n",
    "print(len(amap))\n",
    "\n",
    "# - Print the value that is associated with key 99\n",
    "print(amap[99])\n",
    "\n",
    "# - Remove the key-value pair where with key 97\n",
    "amap.pop(97)\n",
    "print(amap)\n",
    "\n",
    "# - Print whether there is an associated value with key 100 or not\n",
    "print(amap.get(100))\n",
    "\n",
    "# - Remove all the key-value pairs\n",
    "amap.clear()"
   ]
  },
  {
   "cell_type": "markdown",
   "metadata": {},
   "source": [
    "- **List introduction 2**\n",
    "\n",
    "- Create a list ('`List A`') which contains the following values\n",
    "  ```\n",
    "  Apple, Avocado, Blueberries, Durian, Lychee\n",
    "  ```\n",
    "- Create a new list ('`List B`') with the values of `List A`\n",
    "- Print out whether `List A` contains Durian or not\n",
    "- Remove Durian from `List B`\n",
    "- Add Kiwifruit to `List A` after the 4th element\n",
    "- Compare the size of `List A` and `List B`\n",
    "- Get the index of Avocado from `List A`\n",
    "- Get the index of Durian from `List B`\n",
    "- Add Passion Fruit and Pummelo to `List B` in a single statement\n",
    "- Print out the 3rd element from `List A`"
   ]
  },
  {
   "cell_type": "code",
   "execution_count": 8,
   "metadata": {},
   "outputs": [
    {
     "name": "stdout",
     "output_type": "stream",
     "text": [
      "6 4\n",
      "Durian is not in the list\n",
      "Bluberries\n"
     ]
    }
   ],
   "source": [
    "lsA = [\"Apple\", \"Avocado\", \"Bluberries\", \"Durian\", \"Lychee\"]\n",
    "lsB = lsA.copy()\n",
    "\"Durian\" in lsA\n",
    "lsB.remove(\"Durian\")\n",
    "lsA.insert(4, \"Kiwifruit\")\n",
    "print(len(lsA), len(lsB))\n",
    "lsA.index(\"Avocado\")\n",
    "\n",
    "try:\n",
    "    lsB.index(\"Durian\")\n",
    "except ValueError:\n",
    "    print(\"Durian is not in the list\")\n",
    "\n",
    "lsB.extend([\"Passion Fruit\", \"Pummelo\"])\n",
    "print(lsA[2])"
   ]
  },
  {
   "cell_type": "markdown",
   "metadata": {},
   "source": [
    "- **Map introduction 2**"
   ]
  },
  {
   "cell_type": "code",
   "execution_count": 9,
   "metadata": {},
   "outputs": [
    {
     "name": "stdout",
     "output_type": "stream",
     "text": [
      "A Letter to Jo (ISBN: 978-1-60309-452-8)\n",
      "Lupus (ISBN: 978-1-60309-459-7)\n",
      "Red Panda and Moon Bear (ISBN: 978-1-60309-444-3)\n",
      "The Lab (ISBN: 978-1-60309-461-0)\n",
      "None\n",
      "None\n"
     ]
    }
   ],
   "source": [
    "# - Create a map where the keys are strings and the values are strings with the\n",
    "# following initial values\n",
    "\n",
    "#   | Key               | Value                   |\n",
    "#   |:------------------|:------------------------|\n",
    "#   | 978-1-60309-452-8 | A Letter to Jo          |\n",
    "#   | 978-1-60309-459-7 | Lupus                   |\n",
    "#   | 978-1-60309-444-3 | Red Panda and Moon Bear |\n",
    "#   | 978-1-60309-461-0 | The Lab                 |\n",
    "books = {\"978-1-60309-452-8\":\"A Letter to Jo\",\n",
    "        \"978-1-60309-459-7\":\"Lupus\",\n",
    "        \"978-1-60309-444-3\":\"Red Panda and Moon Bear\",\n",
    "        \"978-1-60309-461-0\":\"The Lab\"}\n",
    "\n",
    "# - Print all the key-value pairs in the following format\n",
    "#   ```\n",
    "#   A Letter to Jo (ISBN: 978-1-60309-452-8)\n",
    "#   Lupus (ISBN: 978-1-60309-459-7)\n",
    "#   Red Panda and Moon Bear (ISBN: 978-1-60309-444-3)\n",
    "#   The Lab (ISBN: 978-1-60309-461-0)\n",
    "#   ```\n",
    "for k, v in books.items():\n",
    "    print(f\"{v} (ISBN: {k})\")\n",
    "    \n",
    "# - Remove the key-value pair with key 978-1-60309-444-3\n",
    "books.pop(\"978-1-60309-444-3\")\n",
    "\n",
    "# - Remove the key-value pair with value The Lab\n",
    "books = {k:v for k, v in books.items() if v != \"The Lab\"}\n",
    "\n",
    "# - Add the following key-value pairs to the map\n",
    "\n",
    "#   | Key               | Value                 |\n",
    "#   |:------------------|:----------------------|\n",
    "#   | 978-1-60309-450-4 | They Called Us Enemy  |\n",
    "#   | 978-1-60309-453-5 | Why Did We Trust Him? |\n",
    "books[\"978-1-60309-450-4\"] = \"They Called Us Enemy\"\n",
    "books[\"978-1-60309-453-5\"] = \"Why Did We Trust Him?\"\n",
    "\n",
    "# - Print whether there is an associated value with key 478-0-61159-424-8 or not\n",
    "print(books.get(\"478-0-61159-424-8\"))\n",
    "\n",
    "# - Print the value associated with key 978-1-60309-453-5\n",
    "print(books.get(978-1-60309-453-5))"
   ]
  },
  {
   "cell_type": "markdown",
   "metadata": {},
   "source": [
    "- **Personal finance**\n",
    "\n",
    "We are going to represent our expenses in a list containing integers.\n",
    "\n",
    "- Create a list with the following items.\n",
    "  - 500, 1000, 1250, 175, 800 and 120\n",
    "- Create an application which solves the following problems.\n",
    "  - How much did we spend?\n",
    "  - Which was our greatest expense?\n",
    "  - Which was our cheapest spending?\n",
    "  - What was the average amount of our spendings?"
   ]
  },
  {
   "cell_type": "code",
   "execution_count": 10,
   "metadata": {},
   "outputs": [
    {
     "name": "stdout",
     "output_type": "stream",
     "text": [
      "3845 1250 120 640.8333333333334\n"
     ]
    }
   ],
   "source": [
    "fin = [500, 1000, 1250, 175, 800, 120]\n",
    "\n",
    "print(sum(fin), max(fin), min(fin), sum(fin)/len(fin))"
   ]
  },
  {
   "cell_type": "markdown",
   "metadata": {},
   "source": [
    "- **Telephone book**\n",
    "\n",
    "We are going to represent our contacts in a map where the keys are going to be\n",
    "strings and the values are going to be strings as well.\n",
    "\n",
    "- Create a map with the following key-value pairs.\n",
    "\n",
    "| Name (key)          | Phone number (value) |\n",
    "|:--------------------|:---------------------|\n",
    "| William A. Lathan   | 405-709-1865         |\n",
    "| John K. Miller      | 402-247-8568         |\n",
    "| Hortensia E. Foster | 606-481-6467         |\n",
    "| Amanda D. Newland   | 319-243-5613         |\n",
    "| Brooke P. Askew     | 307-687-2982         |\n",
    "\n",
    "- Create an application which solves the following problems.\n",
    "  - What is John K. Miller's phone number?\n",
    "  - Whose phone number is 307-687-2982?\n",
    "  - Do we know Chris E. Myers' phone number?"
   ]
  },
  {
   "cell_type": "code",
   "execution_count": 11,
   "metadata": {},
   "outputs": [
    {
     "name": "stdout",
     "output_type": "stream",
     "text": [
      "402-247-8568\n",
      "Brooke P. Askew\n",
      "No\n"
     ]
    }
   ],
   "source": [
    "mobn = {\"William A. Lathan\":\"405-709-1865\",\n",
    "        \"John K. Miller\":\"402-247-8568\",\n",
    "        \"Hortensia E. Foster\":\"606-481-6467\",\n",
    "        \"Amanda D. Newland\":\"319-243-5613\",\n",
    "        \"Brooke P. Askew\":\"307-687-2982\"}\n",
    "\n",
    "print(mobn[\"John K. Miller\"])\n",
    "for k in mobn:\n",
    "    if mobn[k] == \"307-687-2982\":\n",
    "        print(k)\n",
    "if not mobn.get(\"Chris E. Myers\"):\n",
    "    print(\"No\")"
   ]
  },
  {
   "cell_type": "markdown",
   "metadata": {},
   "source": [
    "- **Shopping list**\n",
    "\n",
    "We are going to represent a shopping list in a list containing strings.\n",
    "\n",
    "- Create a list with the following items.\n",
    "  - Eggs, milk, fish, apples, bread and chicken\n",
    "- Create an application which solves the following problems.\n",
    "  - Do we have milk on the list?\n",
    "  - Do we have bananas on the list?"
   ]
  },
  {
   "cell_type": "code",
   "execution_count": 12,
   "metadata": {},
   "outputs": [
    {
     "name": "stdout",
     "output_type": "stream",
     "text": [
      "True\n",
      "False\n"
     ]
    }
   ],
   "source": [
    "food = [\"Eggs\", \"milk\", \"fish\", \"apples\", \"bread and chicken\"]\n",
    "print(\"milk\" in food)\n",
    "print(\"bananas\" in food)"
   ]
  },
  {
   "cell_type": "markdown",
   "metadata": {},
   "source": [
    "- **Product database**\n",
    "\n",
    "We are going to represent our products in a map where the keys are strings\n",
    "representing the product's name and the values are numbers representing the\n",
    "product's price.\n",
    "\n",
    "- Create a map with the following key-value pairs.\n",
    "\n",
    "| Product name (key) | Price (value) |\n",
    "|:-------------------|:--------------|\n",
    "| Eggs               | 200           |\n",
    "| Milk               | 200           |\n",
    "| Fish               | 400           |\n",
    "| Apples             | 150           |\n",
    "| Bread              | 50            |\n",
    "| Chicken            | 550           |"
   ]
  },
  {
   "cell_type": "code",
   "execution_count": 13,
   "metadata": {},
   "outputs": [
    {
     "name": "stdout",
     "output_type": "stream",
     "text": [
      "400\n",
      "Chicken\n",
      "258.3333333333333\n",
      "4\n",
      "Bread\n"
     ]
    }
   ],
   "source": [
    "# - Create an application which solves the following problems.\n",
    "scooter = {\"Eggs\":200,\n",
    "         \"Milk\":200,\n",
    "         \"Fish\":400,\n",
    "         \"Apples\":150,\n",
    "         \"Bread\":50,\n",
    "         \"Chicken\":550}\n",
    "\n",
    "#   - [How much is the fish?](https://www.youtube.com/watch?v=cbB3iGRHtqA)\n",
    "print(scooter[\"Fish\"])\n",
    "\n",
    "#   - What is the most expensive product?\n",
    "p = max(scooter.values())\n",
    "for k,v in scooter.items():\n",
    "    if v == p:\n",
    "        print(k)\n",
    "        \n",
    "#   - What is the average price?\n",
    "print(sum(scooter.values())/len(scooter.values()))\n",
    "\n",
    "#   - How many products' price is below 300?\n",
    "count = 0\n",
    "for v in scooter.values():\n",
    "    if v < 300:\n",
    "        count += 1\n",
    "print(count)\n",
    "\n",
    "#   - Is there anything we can buy for exactly 125?\n",
    "for k,v in scooter.items():\n",
    "    if v == 125:\n",
    "        print(k)\n",
    "        \n",
    "#   - What is the cheapest product?\n",
    "p = min(scooter.values())\n",
    "for k,v in scooter.items():\n",
    "    if v == p:\n",
    "        print(k)"
   ]
  },
  {
   "cell_type": "markdown",
   "metadata": {},
   "source": [
    "- **Product database 2**\n",
    "\n",
    "We are going to represent our products in a map where the keys are strings\n",
    "representing the product's name and the values are numbers representing the\n",
    "product's price.\n",
    "\n",
    "- Create a map with the following key-value pairs.\n",
    "\n",
    "| Product name (key) | Price (value) |\n",
    "|:-------------------|:--------------|\n",
    "| Eggs               | 200           |\n",
    "| Milk               | 200           |\n",
    "| Fish               | 400           |\n",
    "| Apples             | 150           |\n",
    "| Bread              | 50            |\n",
    "| Chicken            | 550           |\n",
    "\n",
    "- Create an application which solves the following problems.\n",
    "  - Which products cost less than 201? (just the name)\n",
    "  - Which products cost more than 150? (name + price)"
   ]
  },
  {
   "cell_type": "code",
   "execution_count": 14,
   "metadata": {},
   "outputs": [
    {
     "name": "stdout",
     "output_type": "stream",
     "text": [
      "Eggs\n",
      "Milk\n",
      "Apples\n",
      "Bread\n",
      "Eggs 200\n",
      "Milk 200\n",
      "Fish 400\n",
      "Chicken 550\n"
     ]
    }
   ],
   "source": [
    "prod = {\"Eggs\":200,\n",
    "        \"Milk\":200,\n",
    "        \"Fish\":400,\n",
    "        \"Apples\":150,\n",
    "        \"Bread\":50,\n",
    "        \"Chicken\":550}\n",
    "\n",
    "for k, v in prod.items():\n",
    "    if v < 201:\n",
    "        print(k)\n",
    "        \n",
    "for k, v in prod.items():\n",
    "    if v > 150:\n",
    "        print(k, v)"
   ]
  },
  {
   "cell_type": "markdown",
   "metadata": {},
   "source": [
    "- **Shopping list 2**"
   ]
  },
  {
   "cell_type": "code",
   "execution_count": 15,
   "metadata": {},
   "outputs": [
    {
     "name": "stdout",
     "output_type": "stream",
     "text": [
      "72.09\n",
      "64.2\n",
      "1 2\n",
      "None 1\n",
      "5 8\n",
      "19 16\n"
     ]
    }
   ],
   "source": [
    "# - Represent the following products with their prices\n",
    "\n",
    "#   | Product         | Amount |\n",
    "#   |:----------------|:-------|\n",
    "#   | Milk            | 1.07   |\n",
    "#   | Rice            | 1.59   |\n",
    "#   | Eggs            | 3.14   |\n",
    "#   | Cheese          | 12.60  |\n",
    "#   | Chicken Breasts | 9.40   |\n",
    "#   | Apples          | 2.31   |\n",
    "#   | Tomato          | 2.58   |\n",
    "#   | Potato          | 1.75   |\n",
    "#   | Onion           | 1.10   |\n",
    "prod = {\"Milk\":1.07,\n",
    "        \"Rice\":1.59,\n",
    "        \"Eggs\":3.14,\n",
    "        \"Cheese\":12.60,\n",
    "        \"Chicken Breasts\":9.40,\n",
    "        \"Apples\":2.31,\n",
    "        \"Tomato\":2.58,\n",
    "        \"Potato\":1.75,\n",
    "        \"Onion\":1.10}\n",
    "  \n",
    "# - Represent Bob's shopping list\n",
    "\n",
    "#   | Product         | Amount |\n",
    "#   |-----------------|--------|\n",
    "#   | Milk            | 3      |\n",
    "#   | Rice            | 2      |\n",
    "#   | Eggs            | 2      |\n",
    "#   | Cheese          | 1      |\n",
    "#   | Chicken Breasts | 4      |\n",
    "#   | Apples          | 1      |\n",
    "#   | Tomato          | 2      |\n",
    "#   | Potato          | 1      |\n",
    "lsBob = {\"Milk\":3,\n",
    "         \"Rice\":2,\n",
    "         \"Eggs\":2,\n",
    "         \"Cheese\":1,\n",
    "         \"Chicken Breasts\":4,\n",
    "         \"Apples\":1,\n",
    "         \"Tomato\":2,\n",
    "         \"Potato\":1}\n",
    "\n",
    "# - Represent Alice's shopping list\n",
    "\n",
    "#   | Product         | Amount |\n",
    "#   |-----------------|--------|\n",
    "#   | Rice            | 1      |\n",
    "#   | Eggs            | 5      |\n",
    "#   | Chicken Breasts | 2      |\n",
    "#   | Apples          | 1      |\n",
    "#   | Tomato          | 10     |\n",
    "lsAlice = {\"Rice\":1,\n",
    "         \"Eggs\":5,\n",
    "         \"Chicken Breasts\":2,\n",
    "         \"Apples\":1,\n",
    "         \"Tomato\":10}\n",
    "\n",
    "# - Create an application which solves the following problems.\n",
    "#   - How much does Bob pay?\n",
    "s = 0\n",
    "for k,v in lsBob.items():\n",
    "    price = prod[k]\n",
    "    amount = v\n",
    "    s += price * amount\n",
    "print(s)\n",
    "\n",
    "#   - How much does Alice pay?\n",
    "s = 0\n",
    "for k,v in lsAlice.items():\n",
    "    price = prod[k]\n",
    "    amount = v\n",
    "    s += price * amount\n",
    "print(s)\n",
    "\n",
    "#   - Who buys more Rice?\n",
    "print(lsAlice[\"Rice\"], lsBob[\"Rice\"])\n",
    "\n",
    "#   - Who buys more Potato?\n",
    "print(lsAlice.get(\"Potato\"), lsBob.get(\"Potato\"))\n",
    "\n",
    "#   - Who buys more different products?\n",
    "print(len(lsAlice), len(lsBob))\n",
    "\n",
    "#   - Who buys more products? (piece)\n",
    "print(sum(lsAlice.values()), sum(lsBob.values()))"
   ]
  },
  {
   "cell_type": "markdown",
   "metadata": {},
   "source": [
    "### Old exercises (Optional)\n",
    "\n",
    "- [Solar System](solarsystem/solar_system.py)\n",
    "- [Matchmaking](matchmaking/matchmaking.py)\n",
    "- [Append letter](appendletter/append_letter.py)\n",
    "- [Candy shop](candyshop/candyshop.py)\n",
    "- [Element finder](elementfinder/element_finder.py)\n",
    "- [Is in list](isinlist/is_in_list.py)\n",
    "- [Quote swap](quoteswap/quote_swap.py)\n",
    "- [Calculator](calculator/calculator.py)\n",
    "- [He will never](hewillnever/he_will_never.py)\n",
    "- [Student counter](student-counter/student_counter.py)\n",
    "- [Student filter](student-filter/student_filter.py)\n",
    "- [Bank transfer](bank-transfer/bank_transfer.py)\n",
    "- [Festival entry](festival-entry/festival_entry.py)\n",
    "- [Table printer](table-printer/table_printer.py)\n",
    "- [Find the substring in the list](substrlist/substrlist.py)\n",
    "- [Guess my number](guess-my-number/guess-my-number.md)\n",
    "- [Josephus Problem](josephus-problem/josephus-problem.md)\n",
    "- [Armstrong Number](armstrong-number/armstrong-number.md)\n",
    "\n",
    "## Individual Workshop Review\n",
    "\n",
    "Please follow the styleguide: [Our Python styleguide](../../styleguide/python.md)\n",
    "\n",
    "- Is the directory structure and the name of the files correct?\n",
    "- Are the includes palced on the top of the files?\n",
    "- Is the indentation good in each file?\n",
    "- Is there unnecessary code?\n",
    "- Can you find unnecessary code in comments?\n",
    "- Is there unnecessary code duplication?\n",
    "- Are there unnecessary empty blocks?\n",
    "- Can you spot unused variables?\n",
    "- Is the commit message meaningful?\n",
    "- Can iterating over lists and arrays simplifed?\n",
    "- Are the names of things following the styleguide?\n",
    "- Are all of the brackets in the perfect place?\n",
    "- Whitespaces, where they should be, where shouldn't?"
   ]
  }
 ],
 "metadata": {
  "kernelspec": {
   "display_name": "Python 3",
   "language": "python",
   "name": "python3"
  },
  "language_info": {
   "codemirror_mode": {
    "name": "ipython",
    "version": 3
   },
   "file_extension": ".py",
   "mimetype": "text/x-python",
   "name": "python",
   "nbconvert_exporter": "python",
   "pygments_lexer": "ipython3",
   "version": "3.7.3"
  }
 },
 "nbformat": 4,
 "nbformat_minor": 2
}

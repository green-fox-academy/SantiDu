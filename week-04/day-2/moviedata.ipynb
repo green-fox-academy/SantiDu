{
 "cells": [
  {
   "cell_type": "markdown",
   "metadata": {},
   "source": [
    "Find the titles of all movies directed by Steven Spielberg. \n",
    "```mysql\n",
    "SELECT title\n",
    "FROM Movie\n",
    "WHERE director = 'Steven Spielberg';\n",
    "```"
   ]
  },
  {
   "cell_type": "markdown",
   "metadata": {},
   "source": [
    "Find all years that have a movie that received a rating of 4 or 5, and sort them in increasing order. \n",
    "```mysql\n",
    "SELECT DISTINCT year\n",
    "FROM Movie\n",
    "INNER JOIN Rating\n",
    "    ON Rating.mID = Movie.mID\n",
    "WHERE Rating.stars > 3\n",
    "ORDER BY year\n",
    "```"
   ]
  },
  {
   "cell_type": "markdown",
   "metadata": {},
   "source": [
    "Find the titles of all movies that have no ratings. \n",
    "```mysql\n",
    "SELECT title\n",
    "FROM Movie\n",
    "LEFT JOIN Rating\n",
    "    ON Rating.mID = Movie.mID\n",
    "WHERE Rating.rID IS NULL;\n",
    "```"
   ]
  },
  {
   "cell_type": "markdown",
   "metadata": {},
   "source": [
    "Some reviewers didn't provide a date with their rating. Find the names of all reviewers who have ratings with a NULL value for the date. \n",
    "```mysql\n",
    "SELECT name\n",
    "FROM Reviewer\n",
    "INNER JOIN Rating\n",
    "    ON Reviewer.rID = Rating.rID\n",
    "WHERE ratingDate IS NULL;\n",
    "```"
   ]
  },
  {
   "cell_type": "markdown",
   "metadata": {},
   "source": [
    "Write a query to return the ratings data in a more readable format: reviewer name, movie title, stars, and ratingDate. Also, sort the data, first by reviewer name, then by movie title, and lastly by number of stars. \n",
    "```mysql\n",
    "SELECT Reviewer.name, Movie.title, Rating.stars, Rating.ratingDate\n",
    "FROM Rating\n",
    "LEFT JOIN Reviewer\n",
    "    ON Reviewer.rID = Rating.rID\n",
    "LEFT JOIN Movie\n",
    "    ON Movie.mID = Rating.mID\n",
    "ORDER BY Reviewer.name, Movie.title, Rating.stars;\n",
    "```"
   ]
  },
  {
   "cell_type": "markdown",
   "metadata": {},
   "source": [
    "Find the names of all reviewers who rated Gone with the Wind. \n",
    "```mysql\n",
    "SELECT DISTINCT Reviewer.name\n",
    "FROM Reviewer\n",
    "INNER JOIN Rating\n",
    "    ON Rating.rID = Reviewer.rID\n",
    "INNER JOIN Movie\n",
    "    ON Movie.mID = Rating.mID\n",
    "WHERE Movie.title = 'Gone with the Wind';\n",
    "```"
   ]
  },
  {
   "cell_type": "markdown",
   "metadata": {},
   "source": [
    "For any rating where the reviewer is the same as the director of the movie, return the reviewer name, movie title, and number of stars. \n",
    "```mysql\n",
    "SELECT Reviewer.name, Movie.title, Rating.stars\n",
    "FROM Reviewer\n",
    "INNER JOIN Rating\n",
    "    ON Rating.rID = Reviewer.rID\n",
    "INNER JOIN Movie\n",
    "    ON Rating.mID = Movie.mID\n",
    "WHERE Reviewer.name = Movie.director;\n",
    "```"
   ]
  },
  {
   "cell_type": "markdown",
   "metadata": {},
   "source": [
    "Create a view where you display the reviewer's name and the amount of their review\n",
    "```mysql\n",
    "CREATE VIEW name_review AS \n",
    "    SELECT Reviewer.name, n_review\n",
    "    FROM(\n",
    "        SELECT Rating.rID as rid, COUNT(*) as n_review\n",
    "        FROM Rating\n",
    "        INNER JOIN Reviewer\n",
    "            ON Rating.rID = Reviewer.rID\n",
    "        GROUP BY Rating.rID\n",
    "        ) reviewer_id\n",
    "    JOIN Reviewer\n",
    "    ON Reviewer.rID = reviewer_id.rID;\n",
    "```"
   ]
  },
  {
   "cell_type": "markdown",
   "metadata": {},
   "source": [
    "Create a view where you display the movies which have no review\n",
    "```mysql\n",
    "CREATE VIEW movie_no_review AS\n",
    "    SELECT Movie.title\n",
    "    FROM Movie\n",
    "    LEFT JOIN Rating\n",
    "        ON Rating.mID = Movie.mID\n",
    "    WHERE Rating.rID IS NULL;\n",
    "```"
   ]
  },
  {
   "cell_type": "markdown",
   "metadata": {},
   "source": [
    "Create a view where you display all the directors (do not include null values)\n",
    "```mysql\n",
    "CREATE VIEW all_director AS\n",
    "    SELECT director\n",
    "    FROM Movie\n",
    "    WHERE director IS NOT NULL;\n",
    "```"
   ]
  },
  {
   "cell_type": "markdown",
   "metadata": {},
   "source": [
    "Create a view where you display the movie title and the average rating\n",
    "```mysql\n",
    "CREATE VIEW movie_rating AS\n",
    "    SELECT Movie.title, avg_rating\n",
    "    FROM (\n",
    "        SELECT Rating.mID, AVG(stars) AS avg_rating\n",
    "        FROM Rating\n",
    "        GROUP BY Rating.mID\n",
    "        ) AS avg_Rating\n",
    "    INNER JOIN Movie\n",
    "    ON Movie.mID = avg_Rating.mID;\n",
    "```"
   ]
  }
 ],
 "metadata": {
  "kernelspec": {
   "display_name": "Python 3",
   "language": "python",
   "name": "python3"
  },
  "language_info": {
   "codemirror_mode": {
    "name": "ipython",
    "version": 3
   },
   "file_extension": ".py",
   "mimetype": "text/x-python",
   "name": "python",
   "nbconvert_exporter": "python",
   "pygments_lexer": "ipython3",
   "version": "3.7.3"
  }
 },
 "nbformat": 4,
 "nbformat_minor": 2
}

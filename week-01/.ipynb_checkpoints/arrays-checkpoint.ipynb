{
 "cells": [
  {
   "cell_type": "markdown",
   "metadata": {},
   "source": [
    "# Arrays\n",
    "\n",
    "## Materials & Resources\n",
    "\n",
    "| Material                                                                                                       | Time |\n",
    "|:---------------------------------------------------------------------------------------------------------------|-----:|\n",
    "| [Python Programming Tutorial - 5 - Lists](https://www.youtube.com/watch?v=1yUn-ydsgKk)                         | 7:43 |\n",
    "\n",
    "## Material Review\n",
    "\n",
    "- What is an array? What are the characteristics of them?\n",
    "- How do you *declare* an Array?\n",
    "- How do you set the initial values of an Array?\n",
    "- What is the index of the first element in the array?\n",
    "- How do you get the total number of elements of an Array?\n",
    "- How do you iterate through the elements of an array? (i.e. go through each\n",
    "  element one by one)\n",
    "- How do you sort the elements of an Array?\n",
    "- What is a multi dimensonal array?\n",
    "\n",
    "## Workshop\n",
    "\n",
    "```python\n",
    "[1, 2, 3]\n",
    "[]\n",
    "[1, 2] + [3]\n",
    "[1] - [2]\n",
    "[1, 2] * 3\n",
    "1 in [1, 2]\n",
    "len([1, 2, 3])\n",
    "arr = [1, 2, 3]\n",
    "arr[0]\n",
    "arr[1:3]\n",
    "[] is []\n",
    "```\n",
    "\n",
    "### Exercises\n",
    "- Print elements"
   ]
  },
  {
   "cell_type": "code",
   "execution_count": 1,
   "metadata": {},
   "outputs": [
    {
     "name": "stdout",
     "output_type": "stream",
     "text": [
      "[4, 5, 6, 7]\n"
     ]
    }
   ],
   "source": [
    "# - Create a variable named `numbers`\n",
    "#   with the following content: `[4, 5, 6, 7]`\n",
    "# - Print all the elements of `numbers`\n",
    "numbers = [4,5,6,7]\n",
    "print(numbers)"
   ]
  },
  {
   "cell_type": "markdown",
   "metadata": {},
   "source": [
    "- Third"
   ]
  },
  {
   "cell_type": "code",
   "execution_count": 2,
   "metadata": {},
   "outputs": [
    {
     "name": "stdout",
     "output_type": "stream",
     "text": [
      "6\n"
     ]
    }
   ],
   "source": [
    "# - Create a variable named `q`\n",
    "#   with the following content: `[4, 5, 6, 7]`\n",
    "# - Print the third element of `q`\n",
    "q = [4,5,6,7]\n",
    "print(q[2])"
   ]
  },
  {
   "cell_type": "markdown",
   "metadata": {},
   "source": [
    "- Compare Length"
   ]
  },
  {
   "cell_type": "code",
   "execution_count": 3,
   "metadata": {},
   "outputs": [],
   "source": [
    "# - Create a variable named `p1`\n",
    "#   with the following content: `[1, 2, 3]`\n",
    "# - Create a variable named `p2`\n",
    "#   with the following content: `[4, 5]`\n",
    "# - Print \"p2 is longer\" if `p2` has more elements than `p1`\n",
    "p1 = [1,2,3]\n",
    "p2 = [4,5]\n",
    "if len(p1) < len(p2):\n",
    "    print(\"p2 is longer\")"
   ]
  },
  {
   "cell_type": "markdown",
   "metadata": {},
   "source": [
    "- Sum elements"
   ]
  },
  {
   "cell_type": "code",
   "execution_count": 4,
   "metadata": {},
   "outputs": [
    {
     "name": "stdout",
     "output_type": "stream",
     "text": [
      "89\n"
     ]
    }
   ],
   "source": [
    "# - Create a variable named `r`\n",
    "#   with the following content: `[54, 23, 66, 12]`\n",
    "# - Print the sum of the second and the third element\n",
    "r = [54,23,66,12]\n",
    "print(r[1] + r[2])"
   ]
  },
  {
   "cell_type": "markdown",
   "metadata": {},
   "source": [
    "- Change element"
   ]
  },
  {
   "cell_type": "code",
   "execution_count": 5,
   "metadata": {},
   "outputs": [
    {
     "name": "stdout",
     "output_type": "stream",
     "text": [
      "4\n"
     ]
    }
   ],
   "source": [
    "# - Create an array variable named `s`\n",
    "#   with the following content: `[1, 2, 3, 8, 5, 6]`\n",
    "# - Change the 8 to 4\n",
    "# - Print the fourth element\n",
    "s = [1,2,3,8,5,6]\n",
    "s[3] = 4\n",
    "print(s[3])"
   ]
  },
  {
   "cell_type": "markdown",
   "metadata": {},
   "source": [
    "- Increment element"
   ]
  },
  {
   "cell_type": "code",
   "execution_count": 6,
   "metadata": {},
   "outputs": [
    {
     "name": "stdout",
     "output_type": "stream",
     "text": [
      "4\n"
     ]
    }
   ],
   "source": [
    "# - Create a variable named `t`\n",
    "#   with the following content: `[1, 2, 3, 4, 5]`\n",
    "# - Increment the third element\n",
    "# - Print the third element\n",
    "t = [1,2,3,4,5]\n",
    "t[2] += 1\n",
    "print(t[2])"
   ]
  },
  {
   "cell_type": "markdown",
   "metadata": {},
   "source": [
    "- Matrix"
   ]
  },
  {
   "cell_type": "code",
   "execution_count": 7,
   "metadata": {},
   "outputs": [
    {
     "name": "stdout",
     "output_type": "stream",
     "text": [
      "[[1, 0, 0, 0], [0, 1, 0, 0], [0, 0, 1, 0], [0, 0, 0, 1]]\n"
     ]
    }
   ],
   "source": [
    "# - Create (dynamically) a two dimensional list\n",
    "#   with the following matrix. Use a loop!\n",
    "#\n",
    "#   1 0 0 0\n",
    "#   0 1 0 0\n",
    "#   0 0 1 0\n",
    "#   0 0 0 1\n",
    "#\n",
    "# - Print this two dimensional list to the output\n",
    "matrix = []\n",
    "for i in range(4):\n",
    "    row = [0] * 4\n",
    "    row[i] = 1\n",
    "    matrix.append(row)\n",
    "print(matrix)"
   ]
  },
  {
   "cell_type": "markdown",
   "metadata": {},
   "source": [
    "- Double items"
   ]
  },
  {
   "cell_type": "code",
   "execution_count": 8,
   "metadata": {},
   "outputs": [
    {
     "name": "stdout",
     "output_type": "stream",
     "text": [
      "[6, 8, 10, 12, 14]\n"
     ]
    }
   ],
   "source": [
    "# - Create an array variable named `numList`\n",
    "#   with the following content: `[3, 4, 5, 6, 7]`\n",
    "# - Double all the values in the array\n",
    "numList = [3,4,5,6,7]\n",
    "for i in range(len(numList)):\n",
    "    numList[i] *= 2\n",
    "print(numList)"
   ]
  },
  {
   "cell_type": "markdown",
   "metadata": {},
   "source": [
    "- Colors"
   ]
  },
  {
   "cell_type": "code",
   "execution_count": 9,
   "metadata": {},
   "outputs": [
    {
     "name": "stdout",
     "output_type": "stream",
     "text": [
      "[['lime', 'forest green', 'olive', 'pale green', 'spring green'], ['orange red', 'red', 'tomato'], ['orchid', 'violet', 'pink', 'hot pink']]\n"
     ]
    }
   ],
   "source": [
    "# - Create a two dimensional list\n",
    "#   which can contain the different shades of specified colors\n",
    "# - In `colors[0]` store the shades of green:\n",
    "#   `\"lime\", \"forest green\", \"olive\", \"pale green\", \"spring green\"`\n",
    "# - In `colors[1]` store the shades of red:\n",
    "#   `\"orange red\", \"red\", \"tomato\"`\n",
    "# - In `colors[2]` store the shades of pink:\n",
    "#   `\"orchid\", \"violet\", \"pink\", \"hot pink\"`\n",
    "colors = []\n",
    "colors.append([\"lime\", \"forest green\", \"olive\", \"pale green\", \"spring green\"])\n",
    "colors.append([\"orange red\", \"red\", \"tomato\"])\n",
    "colors.append([\"orchid\", \"violet\", \"pink\", \"hot pink\"])\n",
    "print(colors)"
   ]
  },
  {
   "cell_type": "markdown",
   "metadata": {},
   "source": [
    "- Append a"
   ]
  },
  {
   "cell_type": "code",
   "execution_count": 10,
   "metadata": {},
   "outputs": [],
   "source": [
    "# - Create a variable named `animals`\n",
    "#   with the following content: `[\"koal\", \"pand\", \"zebr\"]`\n",
    "# - Add all elements an `\"a\"` at the end\n",
    "animals = [\"koal\", \"pand\", \"zebr\"]\n",
    "animals.append(\"a\")"
   ]
  },
  {
   "cell_type": "markdown",
   "metadata": {},
   "source": [
    "- Swap elements"
   ]
  },
  {
   "cell_type": "code",
   "execution_count": 11,
   "metadata": {},
   "outputs": [],
   "source": [
    "# - Create a variable named `abc`\n",
    "#   with the following content: `[\"first\", \"second\", \"third\"]`\n",
    "# - Swap the first and the third element of `abc`\n",
    "abc = [\"first\", \"second\", \"third\"]\n",
    "abc[0], abc[2] = abc[2], abc[0]"
   ]
  },
  {
   "cell_type": "markdown",
   "metadata": {},
   "source": [
    "- Sum all elements"
   ]
  },
  {
   "cell_type": "code",
   "execution_count": 12,
   "metadata": {},
   "outputs": [
    {
     "name": "stdout",
     "output_type": "stream",
     "text": [
      "25\n"
     ]
    }
   ],
   "source": [
    "# - Create a variable named `ai`\n",
    "#   with the following content: `[3, 4, 5, 6, 7]`\n",
    "# - Print the sum of the elements in `ai`\n",
    "ai = [3, 4, 5, 6, 7]\n",
    "print(sum(ai))"
   ]
  },
  {
   "cell_type": "markdown",
   "metadata": {},
   "source": [
    "- Reverse list"
   ]
  },
  {
   "cell_type": "code",
   "execution_count": 13,
   "metadata": {},
   "outputs": [
    {
     "name": "stdout",
     "output_type": "stream",
     "text": [
      "[7, 6, 5, 4, 3]\n"
     ]
    }
   ],
   "source": [
    "# - Create a variable named `aj`\n",
    "#   with the following content: `[3, 4, 5, 6, 7]`\n",
    "# - Reverse the order of the elements in `aj`\n",
    "# - Print the elements of the reversed `aj`\n",
    "aj = [3, 4, 5, 6, 7]\n",
    "print(list(reversed(aj)))"
   ]
  }
 ],
 "metadata": {
  "kernelspec": {
   "display_name": "Python 3",
   "language": "python",
   "name": "python3"
  },
  "language_info": {
   "codemirror_mode": {
    "name": "ipython",
    "version": 3
   },
   "file_extension": ".py",
   "mimetype": "text/x-python",
   "name": "python",
   "nbconvert_exporter": "python",
   "pygments_lexer": "ipython3",
   "version": "3.7.3"
  }
 },
 "nbformat": 4,
 "nbformat_minor": 2
}

{
 "cells": [
  {
   "cell_type": "markdown",
   "metadata": {},
   "source": [
    "# File Formats\n",
    "\n",
    "There are thousands of file formats for different purpose. Like\n",
    "\n",
    "- Audio files\n",
    "- Binary files\n",
    "- Database files\n",
    "- Documents\n",
    "- Image files\n",
    "- Source codes\n",
    "- Video files\n",
    "- ...\n",
    "\n",
    "In this workshop we will focus on markup and generic text based files used\n",
    "all over the web.\n",
    "\n",
    "## Materials & Resources\n",
    "\n",
    "| Material                                                                                              | Time |\n",
    "|:------------------------------------------------------------------------------------------------------|-----:|\n",
    "| [Files & File Systems: Crash Course Computer Science #20](https://youtu.be/KN8YgJnShPM) (*till 4:45*) | 4:45 |\n",
    "| [Text Files (Part 1) What is a text file?](https://youtu.be/H7R0LN41N8c)                              | 3:56 |\n",
    "| [5 Minute Metadata - What is a CSV?](https://youtu.be/_blfh7uR05A)                                    | 4:42 |\n",
    "| [XML Tutorial for Beginners \\| What is XML \\| Learn XML](https://youtu.be/KeLiQXqVgMI)                | 6:38 |\n",
    "| [What is JSON? - 3 Minutes of Code](https://youtu.be/sSL2to7Jg5g)                                     | 2:33 |\n",
    "\n",
    "## Material Review\n",
    "\n",
    "- What is XML?\n",
    "  <!--\n",
    "    It stands for eXtensible Markup Language. A simple text file format to store\n",
    "    and transport data.\n",
    "  -->\n",
    "- How the data is stored in XML files?\n",
    "  <!--\n",
    "    It is stored between an opening and a closing tag. More tags can follow each\n",
    "    other so it can represent any complex structure. It is similar to HTML however\n",
    "    in XML there are no predefined tags. It is flexible and customizable.\n",
    "  -->\n",
    "- Can we nest data in XML files?\n",
    "  <!--\n",
    "    Just like in HTML any tag can contain 0 or more other tags, so you can nest\n",
    "    data.\n",
    "    <employee>\n",
    "      <name>...</name>\n",
    "      <department>...</department>\n",
    "    </employee>\n",
    "  -->\n",
    "- How can we add special information to the data in XML?\n",
    "  <!--\n",
    "    We can define attributes on the tags just like in HTML.\n",
    "  -->\n",
    "- What is the CSV format used for?\n",
    "  <!--\n",
    "    CSV can describe data as it would be a table. It has columns and rows.\n",
    "    Columns are separated by a colon.\n",
    "  -->\n",
    "- What is the difference between CSV and TSV?\n",
    "  <!--\n",
    "    In TSV the columns are separated with tabs.\n",
    "  -->\n",
    "- Are there different types of CSV?\n",
    "  <!--\n",
    "    Sometimes we separate the columns with a semi-colon, to prevent the confusion\n",
    "    when a value contains a colon.\n",
    "  -->\n",
    "- What is JSON?\n",
    "  <!--\n",
    "    JavaScript Object Notation, a widely used file format to transfer and store\n",
    "    data. It comes from the JS object format.\n",
    "  -->\n",
    "- What are the valid data types in JSON?\n",
    "  <!--\n",
    "    Array, boolean, number, string, null, object\n",
    "  -->\n",
    "- What is the benefit/drawback of JSON over XML?\n",
    "  <!--\n",
    "    JSON is much shorter so it takes less space.\n",
    "    XML can add metadata to the values.\n",
    "  -->\n",
    "\n",
    "## Workshop"
   ]
  },
  {
   "cell_type": "code",
   "execution_count": 71,
   "metadata": {},
   "outputs": [],
   "source": [
    "from pandas import read_csv, read_json\n",
    "from pandas.io.json import json_normalize\n",
    "from bs4 import BeautifulSoup\n",
    "import re"
   ]
  },
  {
   "cell_type": "code",
   "execution_count": 2,
   "metadata": {},
   "outputs": [],
   "source": [
    "%load_ext pycodestyle_magic"
   ]
  },
  {
   "cell_type": "markdown",
   "metadata": {},
   "source": [
    "### Find oldest movie\n",
    "\n",
    "Read this [input file](./movies.csv) and print the title of the oldest movie.\n",
    "The file has the following columns:\n",
    "\n",
    "- Title\n",
    "- Year\n",
    "- Director"
   ]
  },
  {
   "cell_type": "code",
   "execution_count": 3,
   "metadata": {},
   "outputs": [],
   "source": [
    "df = read_csv(\"movies.csv\", sep=\";\", header=None)"
   ]
  },
  {
   "cell_type": "code",
   "execution_count": 4,
   "metadata": {},
   "outputs": [
    {
     "data": {
      "text/plain": [
       "'The Dark Knight Rises'"
      ]
     },
     "execution_count": 4,
     "metadata": {},
     "output_type": "execute_result"
    }
   ],
   "source": [
    "df.iloc[df[1].idxmax(),0]"
   ]
  },
  {
   "cell_type": "markdown",
   "metadata": {},
   "source": [
    "### Remove useless data\n",
    "\n",
    "In [this file](./election.csv) you can find the raw data of a public election.\n",
    "Unfortunately something went wrong and there are some row which cannot be used\n",
    "(a value is missing). We need to remove these rows and then print them to the\n",
    "console. Columns (mandatory fields are signed with *):\n",
    "\n",
    "- Name *\n",
    "- Candidate *\n",
    "- Time\n",
    "- State *"
   ]
  },
  {
   "cell_type": "code",
   "execution_count": 5,
   "metadata": {},
   "outputs": [],
   "source": [
    "df = read_csv(\"election.csv\", header=None)"
   ]
  },
  {
   "cell_type": "code",
   "execution_count": 6,
   "metadata": {},
   "outputs": [
    {
     "data": {
      "text/html": [
       "<div>\n",
       "<style scoped>\n",
       "    .dataframe tbody tr th:only-of-type {\n",
       "        vertical-align: middle;\n",
       "    }\n",
       "\n",
       "    .dataframe tbody tr th {\n",
       "        vertical-align: top;\n",
       "    }\n",
       "\n",
       "    .dataframe thead th {\n",
       "        text-align: right;\n",
       "    }\n",
       "</style>\n",
       "<table border=\"1\" class=\"dataframe\">\n",
       "  <thead>\n",
       "    <tr style=\"text-align: right;\">\n",
       "      <th></th>\n",
       "      <th>0</th>\n",
       "      <th>1</th>\n",
       "      <th>2</th>\n",
       "      <th>3</th>\n",
       "    </tr>\n",
       "  </thead>\n",
       "  <tbody>\n",
       "    <tr>\n",
       "      <th>2</th>\n",
       "      <td>Richard Gere</td>\n",
       "      <td>NaN</td>\n",
       "      <td>2018-09-21 11:41:53</td>\n",
       "      <td>FL</td>\n",
       "    </tr>\n",
       "    <tr>\n",
       "      <th>4</th>\n",
       "      <td>NaN</td>\n",
       "      <td>John Doe</td>\n",
       "      <td>2018-09-21 12:50:29</td>\n",
       "      <td>WA</td>\n",
       "    </tr>\n",
       "    <tr>\n",
       "      <th>5</th>\n",
       "      <td>Michael Jackson</td>\n",
       "      <td>Jane Doe</td>\n",
       "      <td>2018-09-21 16:11:57</td>\n",
       "      <td>NaN</td>\n",
       "    </tr>\n",
       "  </tbody>\n",
       "</table>\n",
       "</div>"
      ],
      "text/plain": [
       "                 0         1                    2    3\n",
       "2     Richard Gere       NaN  2018-09-21 11:41:53   FL\n",
       "4              NaN  John Doe  2018-09-21 12:50:29   WA\n",
       "5  Michael Jackson  Jane Doe  2018-09-21 16:11:57  NaN"
      ]
     },
     "execution_count": 6,
     "metadata": {},
     "output_type": "execute_result"
    }
   ],
   "source": [
    "df[~df.index.isin(df.dropna().index)]"
   ]
  },
  {
   "cell_type": "markdown",
   "metadata": {},
   "source": [
    "### Find the post with the most popular comments\n",
    "\n",
    "You can find some posts and their comments in [this file](./posts.json). Now\n",
    "you need to find the post which got the most popular comments. Most popular\n",
    "comments mean the sum of the likes on the comments."
   ]
  },
  {
   "cell_type": "code",
   "execution_count": 45,
   "metadata": {},
   "outputs": [],
   "source": [
    "df = read_json(\"post.json\", encoding=\"utf8\")"
   ]
  },
  {
   "cell_type": "code",
   "execution_count": 46,
   "metadata": {},
   "outputs": [],
   "source": [
    "df = df.dropna(subset=[\"comments\"])"
   ]
  },
  {
   "cell_type": "code",
   "execution_count": 59,
   "metadata": {},
   "outputs": [],
   "source": [
    "for i in df.index:\n",
    "    df.loc[i, \"commentlikes\"] = json_normalize(df.loc[i, \"comments\"]).like_count.sum()"
   ]
  },
  {
   "cell_type": "code",
   "execution_count": 64,
   "metadata": {},
   "outputs": [
    {
     "data": {
      "text/plain": [
       "author_id                                                     210\n",
       "comments        [{'id': 64523, 'author_id': 12, 'published_at'...\n",
       "content                                      Happy new year guys!\n",
       "id                                                            145\n",
       "is_public                                                    True\n",
       "like_count                                                     87\n",
       "published_at                                  2019-01-01 00:01:14\n",
       "commentlikes                                                  320\n",
       "Name: 1, dtype: object"
      ]
     },
     "execution_count": 64,
     "metadata": {},
     "output_type": "execute_result"
    }
   ],
   "source": [
    "df.iloc[df.commentlikes.idxmax(),:]"
   ]
  },
  {
   "cell_type": "markdown",
   "metadata": {},
   "source": [
    "### USD transactions\n",
    "\n",
    "In the [transactions.xml](./transactions.xml) you can find money transfers. Your\n",
    "task is to filter all USD transactions and print them to the console in a user\n",
    "friendly format."
   ]
  },
  {
   "cell_type": "code",
   "execution_count": 179,
   "metadata": {},
   "outputs": [],
   "source": [
    "with open(\"transactions.xml\") as f:\n",
    "    soup = BeautifulSoup(f.read(), 'xml')"
   ]
  },
  {
   "cell_type": "code",
   "execution_count": 202,
   "metadata": {},
   "outputs": [],
   "source": [
    "trans = soup.find_all(\"amount\", currency=\"USD\")"
   ]
  },
  {
   "cell_type": "code",
   "execution_count": 236,
   "metadata": {},
   "outputs": [
    {
     "name": "stdout",
     "output_type": "stream",
     "text": [
      "From: 465345 To: 46548743 2350 USD\n",
      "From: 38644 To: 8756113 8000 USD\n"
     ]
    }
   ],
   "source": [
    "for tran in trans:\n",
    "    print(f\"\"\"From: {tran.parent.find(\"from\").string} \\\n",
    "To: {tran.parent.find(\"to\").string} \\\n",
    "{tran.parent.find(\"amount\").string} USD\"\"\")"
   ]
  },
  {
   "cell_type": "markdown",
   "metadata": {},
   "source": [
    "### Exam performance\n",
    "\n",
    "Here is a fictive [result](./exams.tsv) of an exam. The examiners have tracked\n",
    "the user id, the result and time spent on the exam. There were no standard time\n",
    "format so each mentor used their own. Now you need to find the user who has got\n",
    "the most points within one min. Your task is to find the highest points/mins\n",
    "ratio within the dataset."
   ]
  },
  {
   "cell_type": "code",
   "execution_count": 72,
   "metadata": {},
   "outputs": [],
   "source": [
    "df = read_csv(\"exams.tsv\", sep=\"\\t\")"
   ]
  },
  {
   "cell_type": "code",
   "execution_count": 163,
   "metadata": {},
   "outputs": [],
   "source": [
    "def calculateMin(string):\n",
    "    s = re.match(r\"\\.?\\d+(?=s)\", string)\n",
    "    m = re.match(r\"\\.?\\d+(?=m)\", string)\n",
    "    h = re.match(r\"\\.?\\d+(?=h)\", string)\n",
    "    hms = re.match(r\"(\\d{1,2})\\D(\\d{1,2})\\D(\\d{1,2})\", string)\n",
    "    if hms:\n",
    "        return float(hms.group(1)) * 60 + float(hms.group(2)) + float(hms.group(3)) / 60\n",
    "    elif s:\n",
    "        return float(s.group()) / 60\n",
    "    elif m:\n",
    "        return float(m.group())\n",
    "    elif h:\n",
    "        return float(h.group()) * 60"
   ]
  },
  {
   "cell_type": "code",
   "execution_count": 174,
   "metadata": {},
   "outputs": [],
   "source": [
    "df = df.dropna(subset=[\"time\"])\n",
    "df[\"min\"] = df.time.apply(calculateMin).apply(round, ndigits=2)"
   ]
  },
  {
   "cell_type": "code",
   "execution_count": 175,
   "metadata": {},
   "outputs": [
    {
     "data": {
      "text/html": [
       "<div>\n",
       "<style scoped>\n",
       "    .dataframe tbody tr th:only-of-type {\n",
       "        vertical-align: middle;\n",
       "    }\n",
       "\n",
       "    .dataframe tbody tr th {\n",
       "        vertical-align: top;\n",
       "    }\n",
       "\n",
       "    .dataframe thead th {\n",
       "        text-align: right;\n",
       "    }\n",
       "</style>\n",
       "<table border=\"1\" class=\"dataframe\">\n",
       "  <thead>\n",
       "    <tr style=\"text-align: right;\">\n",
       "      <th></th>\n",
       "      <th>user</th>\n",
       "      <th>points</th>\n",
       "      <th>time</th>\n",
       "      <th>min</th>\n",
       "    </tr>\n",
       "  </thead>\n",
       "  <tbody>\n",
       "    <tr>\n",
       "      <th>0</th>\n",
       "      <td>1</td>\n",
       "      <td>13</td>\n",
       "      <td>3600s</td>\n",
       "      <td>60.00</td>\n",
       "    </tr>\n",
       "    <tr>\n",
       "      <th>1</th>\n",
       "      <td>2</td>\n",
       "      <td>18</td>\n",
       "      <td>1h2m20s</td>\n",
       "      <td>62.33</td>\n",
       "    </tr>\n",
       "    <tr>\n",
       "      <th>2</th>\n",
       "      <td>3</td>\n",
       "      <td>2</td>\n",
       "      <td>600s</td>\n",
       "      <td>10.00</td>\n",
       "    </tr>\n",
       "    <tr>\n",
       "      <th>3</th>\n",
       "      <td>4</td>\n",
       "      <td>20</td>\n",
       "      <td>32m</td>\n",
       "      <td>32.00</td>\n",
       "    </tr>\n",
       "    <tr>\n",
       "      <th>4</th>\n",
       "      <td>5</td>\n",
       "      <td>19</td>\n",
       "      <td>.5h</td>\n",
       "      <td>30.00</td>\n",
       "    </tr>\n",
       "    <tr>\n",
       "      <th>5</th>\n",
       "      <td>6</td>\n",
       "      <td>25</td>\n",
       "      <td>1h12m38s</td>\n",
       "      <td>72.63</td>\n",
       "    </tr>\n",
       "    <tr>\n",
       "      <th>6</th>\n",
       "      <td>7</td>\n",
       "      <td>13</td>\n",
       "      <td>65m</td>\n",
       "      <td>65.00</td>\n",
       "    </tr>\n",
       "    <tr>\n",
       "      <th>7</th>\n",
       "      <td>8</td>\n",
       "      <td>0</td>\n",
       "      <td>98s</td>\n",
       "      <td>1.63</td>\n",
       "    </tr>\n",
       "    <tr>\n",
       "      <th>8</th>\n",
       "      <td>9</td>\n",
       "      <td>17</td>\n",
       "      <td>1:02:08</td>\n",
       "      <td>62.13</td>\n",
       "    </tr>\n",
       "  </tbody>\n",
       "</table>\n",
       "</div>"
      ],
      "text/plain": [
       "   user  points      time    min\n",
       "0     1      13     3600s  60.00\n",
       "1     2      18   1h2m20s  62.33\n",
       "2     3       2      600s  10.00\n",
       "3     4      20       32m  32.00\n",
       "4     5      19       .5h  30.00\n",
       "5     6      25  1h12m38s  72.63\n",
       "6     7      13       65m  65.00\n",
       "7     8       0       98s   1.63\n",
       "8     9      17   1:02:08  62.13"
      ]
     },
     "execution_count": 175,
     "metadata": {},
     "output_type": "execute_result"
    }
   ],
   "source": [
    "df"
   ]
  },
  {
   "cell_type": "markdown",
   "metadata": {},
   "source": [
    "### Transform data\n",
    "\n",
    "- Transform [users.csv](./users.csv) into `json` and save it."
   ]
  },
  {
   "cell_type": "code",
   "execution_count": null,
   "metadata": {},
   "outputs": [],
   "source": []
  },
  {
   "cell_type": "markdown",
   "metadata": {},
   "source": [
    "- Transform [flowers.json](./flowers.json) into `xml` and save it."
   ]
  },
  {
   "cell_type": "code",
   "execution_count": null,
   "metadata": {},
   "outputs": [],
   "source": []
  },
  {
   "cell_type": "markdown",
   "metadata": {},
   "source": [
    "### A66 (Green Fox HQ) entering\n",
    "\n",
    "Write a method which can read and parse a file containing information about\n",
    "the door chip usage at the A66. The method must return how many times a chip \n",
    "was used at the main door each day *(A66 - 04 FÕBEJÁRAT (F-1) Door #1)*.\n",
    "\n",
    "During the development you will need only three fields from the input:\n",
    "\n",
    "- Date\n",
    "- Description #1 - the used door\n",
    "- Card number\n",
    "\n",
    "\n",
    "#### Example\n",
    "\n",
    "[Example file can be found here.](./logs.csv)\n",
    "\n",
    "Each line represents an entry and contains the following information:\n",
    "\n",
    "```csv\n",
    "Id,Date and Time,Event message,Event number,Object #1,Description #1,Object #2,Description #2,Object #3,Description #3,Object #4,Description #4,Card number\n",
    "1,2019.01.02. 9:21:49,Access granted,203,12,A66 - 04 FÕBEJÁRAT (F-1) Door #1,5,Czender András,0,,0,,00215:09895\n",
    "...\n",
    "```\n",
    "\n",
    "Example output (numbers can be different)\n",
    "\n",
    "```js\n",
    "{\n",
    "  ...,\n",
    "  '00088:56736': {\n",
    "    '2019.01.02.': 3,\n",
    "    '2019.01.03.': 5,\n",
    "    '2019.01.04.': 1,\n",
    "    ...\n",
    "  },\n",
    "  '00247:27091': {\n",
    "    '2019.01.02.': 7,\n",
    "    '2019.01.04.': 4,\n",
    "    ...\n",
    "  },\n",
    "  '00038:28945': {\n",
    "    '2019.01.02.': 2,\n",
    "    '2019.01.03.': 1,\n",
    "    '2019.01.05.': 6,\n",
    "    ...\n",
    "  },\n",
    "  ...\n",
    "}\n",
    "```"
   ]
  }
 ],
 "metadata": {
  "kernelspec": {
   "display_name": "Python 3",
   "language": "python",
   "name": "python3"
  },
  "language_info": {
   "codemirror_mode": {
    "name": "ipython",
    "version": 3
   },
   "file_extension": ".py",
   "mimetype": "text/x-python",
   "name": "python",
   "nbconvert_exporter": "python",
   "pygments_lexer": "ipython3",
   "version": "3.7.3"
  }
 },
 "nbformat": 4,
 "nbformat_minor": 2
}

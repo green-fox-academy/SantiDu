{
 "cells": [
  {
   "cell_type": "code",
   "execution_count": 1,
   "metadata": {},
   "outputs": [],
   "source": [
    "import pandas as pd\n",
    "from datetime import datetime\n",
    "import matplotlib.pyplot as plt"
   ]
  },
  {
   "cell_type": "code",
   "execution_count": 2,
   "metadata": {},
   "outputs": [],
   "source": [
    "df = pd.read_csv(\"logs.csv\", header=None)"
   ]
  },
  {
   "cell_type": "code",
   "execution_count": 3,
   "metadata": {},
   "outputs": [],
   "source": [
    "names = df[7].unique()"
   ]
  },
  {
   "cell_type": "code",
   "execution_count": 4,
   "metadata": {},
   "outputs": [],
   "source": [
    "df[1] = df[1].apply(datetime.strptime, args=(\"%Y.%m.%d. %H:%M:%S\",))"
   ]
  },
  {
   "cell_type": "code",
   "execution_count": 5,
   "metadata": {},
   "outputs": [],
   "source": [
    "df.index = df[0]\n",
    "dfcp = df.drop(columns=[0, 3, 4, 6, 8, 9, 10, 11])\n",
    "dfcp[\"hour\"] = dfcp[1].apply(lambda x: x.hour)\n",
    "dfcp[\"day\"] = dfcp[1].apply(lambda x: x.day)"
   ]
  },
  {
   "cell_type": "code",
   "execution_count": 6,
   "metadata": {
    "slideshow": {
     "slide_type": "-"
    }
   },
   "outputs": [
    {
     "data": {
      "text/plain": [
       "Text(0.5, 1.0, 'All Records of Jan by Hours of Day')"
      ]
     },
     "execution_count": 6,
     "metadata": {},
     "output_type": "execute_result"
    },
    {
     "data": {
      "image/png": "[encoded data removed]",
      "text/plain": [
       "<Figure size 432x288 with 1 Axes>"
      ]
     },
     "metadata": {
      "needs_background": "light"
     },
     "output_type": "display_data"
    }
   ],
   "source": [
    "dfcp[\"hour\"].hist(bins=13, range=[7, 20], align=\"mid\", grid=False)\n",
    "plt.title(\"All Records of Jan by Hours of Day\", fontsize=20)"
   ]
  },
  {
   "cell_type": "code",
   "execution_count": 7,
   "metadata": {
    "slideshow": {
     "slide_type": "-"
    }
   },
   "outputs": [
    {
     "data": {
      "text/plain": [
       "Text(0.5, 1.0, 'All Records of Jan by Day of Month')"
      ]
     },
     "execution_count": 7,
     "metadata": {},
     "output_type": "execute_result"
    },
    {
     "data": {
      "image/png": "[encoded data removed]",
      "text/plain": [
       "<Figure size 432x288 with 1 Axes>"
      ]
     },
     "metadata": {
      "needs_background": "light"
     },
     "output_type": "display_data"
    }
   ],
   "source": [
    "dfcp[\"day\"].hist(bins=31, range=[1, 32], align=\"mid\", grid=False)\n",
    "plt.title(\"All Records of Jan by Day of Month\", fontsize=20)"
   ]
  },
  {
   "cell_type": "code",
   "execution_count": 8,
   "metadata": {},
   "outputs": [],
   "source": [
    "dfcp2 = dfcp.drop_duplicates([7, \"day\"])"
   ]
  },
  {
   "cell_type": "code",
   "execution_count": 9,
   "metadata": {
    "slideshow": {
     "slide_type": "-"
    }
   },
   "outputs": [
    {
     "data": {
      "text/plain": [
       "Text(0.5, 1.0, 'First Records by Day of Month')"
      ]
     },
     "execution_count": 9,
     "metadata": {},
     "output_type": "execute_result"
    },
    {
     "data": {
      "image/png": "[encoded data removed]",
      "text/plain": [
       "<Figure size 432x288 with 1 Axes>"
      ]
     },
     "metadata": {
      "needs_background": "light"
     },
     "output_type": "display_data"
    }
   ],
   "source": [
    "dfcp2[\"day\"].hist(bins=31, range=[1, 32], align=\"mid\", grid=False)\n",
    "plt.title(\"First Records by Day of Month\", fontsize=20)"
   ]
  },
  {
   "cell_type": "code",
   "execution_count": 10,
   "metadata": {},
   "outputs": [
    {
     "data": {
      "text/html": [
       "<div>\n",
       "<style scoped>\n",
       "    .dataframe tbody tr th:only-of-type {\n",
       "        vertical-align: middle;\n",
       "    }\n",
       "\n",
       "    .dataframe tbody tr th {\n",
       "        vertical-align: top;\n",
       "    }\n",
       "\n",
       "    .dataframe thead th {\n",
       "        text-align: right;\n",
       "    }\n",
       "</style>\n",
       "<table border=\"1\" class=\"dataframe\">\n",
       "  <thead>\n",
       "    <tr style=\"text-align: right;\">\n",
       "      <th></th>\n",
       "      <th>1</th>\n",
       "      <th>2</th>\n",
       "      <th>5</th>\n",
       "      <th>7</th>\n",
       "      <th>12</th>\n",
       "      <th>hour</th>\n",
       "      <th>day</th>\n",
       "    </tr>\n",
       "    <tr>\n",
       "      <th>0</th>\n",
       "      <th></th>\n",
       "      <th></th>\n",
       "      <th></th>\n",
       "      <th></th>\n",
       "      <th></th>\n",
       "      <th></th>\n",
       "      <th></th>\n",
       "    </tr>\n",
       "  </thead>\n",
       "  <tbody>\n",
       "    <tr>\n",
       "      <th>1</th>\n",
       "      <td>2019-01-02 09:21:49</td>\n",
       "      <td>Access granted</td>\n",
       "      <td>A66 - 04 FÕBEJÁRAT (F-1) Door #1</td>\n",
       "      <td>Czender András</td>\n",
       "      <td>00215:09895</td>\n",
       "      <td>9</td>\n",
       "      <td>2</td>\n",
       "    </tr>\n",
       "    <tr>\n",
       "      <th>3</th>\n",
       "      <td>2019-01-02 09:29:15</td>\n",
       "      <td>Access granted</td>\n",
       "      <td>A66 - 12 Recepció (2-1) Door #1</td>\n",
       "      <td>Puskás Nóra</td>\n",
       "      <td>00059:58046</td>\n",
       "      <td>9</td>\n",
       "      <td>2</td>\n",
       "    </tr>\n",
       "    <tr>\n",
       "      <th>5</th>\n",
       "      <td>2019-01-02 09:36:51</td>\n",
       "      <td>Access granted</td>\n",
       "      <td>A66 - 04 FÕBEJÁRAT (F-1) Door #1</td>\n",
       "      <td>Ripka Péter</td>\n",
       "      <td>00110:57041</td>\n",
       "      <td>9</td>\n",
       "      <td>2</td>\n",
       "    </tr>\n",
       "    <tr>\n",
       "      <th>7</th>\n",
       "      <td>2019-01-02 09:44:46</td>\n",
       "      <td>Access granted</td>\n",
       "      <td>A66 - 04 FÕBEJÁRAT (F-1) Door #1</td>\n",
       "      <td>Szívós István</td>\n",
       "      <td>00008:58673</td>\n",
       "      <td>9</td>\n",
       "      <td>2</td>\n",
       "    </tr>\n",
       "    <tr>\n",
       "      <th>9</th>\n",
       "      <td>2019-01-02 10:02:19</td>\n",
       "      <td>Access granted</td>\n",
       "      <td>A66 - 04 FÕBEJÁRAT (F-1) Door #1</td>\n",
       "      <td>Megyaszai Dániel</td>\n",
       "      <td>00055:39162</td>\n",
       "      <td>10</td>\n",
       "      <td>2</td>\n",
       "    </tr>\n",
       "  </tbody>\n",
       "</table>\n",
       "</div>"
      ],
      "text/plain": [
       "                    1               2                                 5  \\\n",
       "0                                                                         \n",
       "1 2019-01-02 09:21:49  Access granted  A66 - 04 FÕBEJÁRAT (F-1) Door #1   \n",
       "3 2019-01-02 09:29:15  Access granted   A66 - 12 Recepció (2-1) Door #1   \n",
       "5 2019-01-02 09:36:51  Access granted  A66 - 04 FÕBEJÁRAT (F-1) Door #1   \n",
       "7 2019-01-02 09:44:46  Access granted  A66 - 04 FÕBEJÁRAT (F-1) Door #1   \n",
       "9 2019-01-02 10:02:19  Access granted  A66 - 04 FÕBEJÁRAT (F-1) Door #1   \n",
       "\n",
       "                  7           12  hour  day  \n",
       "0                                            \n",
       "1    Czender András  00215:09895     9    2  \n",
       "3       Puskás Nóra  00059:58046     9    2  \n",
       "5       Ripka Péter  00110:57041     9    2  \n",
       "7     Szívós István  00008:58673     9    2  \n",
       "9  Megyaszai Dániel  00055:39162    10    2  "
      ]
     },
     "execution_count": 10,
     "metadata": {},
     "output_type": "execute_result"
    }
   ],
   "source": [
    "dfcp2.head()"
   ]
  },
  {
   "cell_type": "code",
   "execution_count": 11,
   "metadata": {},
   "outputs": [],
   "source": [
    "dfcp2 = dfcp2[dfcp2[\"day\"] >= 14]\n",
    "dfcp2 = dfcp2[~dfcp2[\"day\"].isin([5, 6, 12, 13, 19, 20, 26, 27])]"
   ]
  },
  {
   "cell_type": "code",
   "execution_count": 12,
   "metadata": {
    "slideshow": {
     "slide_type": "-"
    }
   },
   "outputs": [
    {
     "data": {
      "text/plain": [
       "Text(0.5, 1.0, 'First Records by Day of Month')"
      ]
     },
     "execution_count": 12,
     "metadata": {},
     "output_type": "execute_result"
    },
    {
     "data": {
      "image/png": "[encoded data removed]",
      "text/plain": [
       "<Figure size 432x288 with 1 Axes>"
      ]
     },
     "metadata": {
      "needs_background": "light"
     },
     "output_type": "display_data"
    }
   ],
   "source": [
    "dfcp2[\"day\"].hist(bins=31, range=[1, 32], align=\"mid\", grid=False)\n",
    "plt.title(\"First Records by Day of Month\", fontsize=20)"
   ]
  },
  {
   "cell_type": "code",
   "execution_count": 13,
   "metadata": {
    "slideshow": {
     "slide_type": "-"
    }
   },
   "outputs": [
    {
     "data": {
      "text/plain": [
       "Text(0.5, 1.0, 'Individual Working Days')"
      ]
     },
     "execution_count": 13,
     "metadata": {},
     "output_type": "execute_result"
    },
    {
     "data": {
      "image/png": "[encoded data removed]",
      "text/plain": [
       "<Figure size 432x288 with 1 Axes>"
      ]
     },
     "metadata": {
      "needs_background": "light"
     },
     "output_type": "display_data"
    }
   ],
   "source": [
    "count = dfcp2.groupby(7)[2].count()\n",
    "plt.boxplot(count.sort_values(ascending=False).values)\n",
    "plt.title(\"Individual Working Days\", fontsize=20)"
   ]
  },
  {
   "cell_type": "code",
   "execution_count": 14,
   "metadata": {},
   "outputs": [],
   "source": [
    "dfcp2 = dfcp2[dfcp2[7].isin(count[count >= 11].index)]"
   ]
  },
  {
   "cell_type": "code",
   "execution_count": 15,
   "metadata": {
    "slideshow": {
     "slide_type": "-"
    }
   },
   "outputs": [
    {
     "data": {
      "text/plain": [
       "Text(0.5, 1.0, 'Record by Hour of Day')"
      ]
     },
     "execution_count": 15,
     "metadata": {},
     "output_type": "execute_result"
    },
    {
     "data": {
      "image/png": "[encoded data removed]",
      "text/plain": [
       "<Figure size 432x288 with 1 Axes>"
      ]
     },
     "metadata": {
      "needs_background": "light"
     },
     "output_type": "display_data"
    }
   ],
   "source": [
    "dfcp2[\"hour\"].hist(bins=13, range=[7, 20], align=\"mid\", grid=False)\n",
    "plt.title(\"Record by Hour of Day\", fontsize=20)"
   ]
  },
  {
   "cell_type": "code",
   "execution_count": 16,
   "metadata": {},
   "outputs": [],
   "source": [
    "dfcp3 = dfcp2.copy()"
   ]
  },
  {
   "cell_type": "code",
   "execution_count": 17,
   "metadata": {},
   "outputs": [],
   "source": [
    "dfcp3[\"min\"] = dfcp3[1].apply(lambda x: x.minute)\n",
    "dfcp3[\"sec\"] = dfcp3[1].apply(lambda x: x.second)\n",
    "dfcp3[\"hourover9\"] = dfcp3[\"hour\"] - 9"
   ]
  },
  {
   "cell_type": "code",
   "execution_count": 18,
   "metadata": {},
   "outputs": [
    {
     "data": {
      "text/html": [
       "<div>\n",
       "<style scoped>\n",
       "    .dataframe tbody tr th:only-of-type {\n",
       "        vertical-align: middle;\n",
       "    }\n",
       "\n",
       "    .dataframe tbody tr th {\n",
       "        vertical-align: top;\n",
       "    }\n",
       "\n",
       "    .dataframe thead th {\n",
       "        text-align: right;\n",
       "    }\n",
       "</style>\n",
       "<table border=\"1\" class=\"dataframe\">\n",
       "  <thead>\n",
       "    <tr style=\"text-align: right;\">\n",
       "      <th></th>\n",
       "      <th>1</th>\n",
       "      <th>2</th>\n",
       "      <th>5</th>\n",
       "      <th>7</th>\n",
       "      <th>12</th>\n",
       "      <th>hour</th>\n",
       "      <th>day</th>\n",
       "      <th>min</th>\n",
       "      <th>sec</th>\n",
       "      <th>hourover9</th>\n",
       "    </tr>\n",
       "    <tr>\n",
       "      <th>0</th>\n",
       "      <th></th>\n",
       "      <th></th>\n",
       "      <th></th>\n",
       "      <th></th>\n",
       "      <th></th>\n",
       "      <th></th>\n",
       "      <th></th>\n",
       "      <th></th>\n",
       "      <th></th>\n",
       "      <th></th>\n",
       "    </tr>\n",
       "  </thead>\n",
       "  <tbody>\n",
       "    <tr>\n",
       "      <th>1832</th>\n",
       "      <td>2019-01-14 07:58:17</td>\n",
       "      <td>Access granted</td>\n",
       "      <td>A66 - 04 FÕBEJÁRAT (F-1) Door #1</td>\n",
       "      <td>Barczi Mihály</td>\n",
       "      <td>00070:04181</td>\n",
       "      <td>7</td>\n",
       "      <td>14</td>\n",
       "      <td>58</td>\n",
       "      <td>17</td>\n",
       "      <td>-2</td>\n",
       "    </tr>\n",
       "    <tr>\n",
       "      <th>1834</th>\n",
       "      <td>2019-01-14 08:26:32</td>\n",
       "      <td>Access granted</td>\n",
       "      <td>A66 - 04 FÕBEJÁRAT (F-1) Door #1</td>\n",
       "      <td>Barish Nilofer Virág</td>\n",
       "      <td>00018:06288</td>\n",
       "      <td>8</td>\n",
       "      <td>14</td>\n",
       "      <td>26</td>\n",
       "      <td>32</td>\n",
       "      <td>-1</td>\n",
       "    </tr>\n",
       "    <tr>\n",
       "      <th>1836</th>\n",
       "      <td>2019-01-14 08:27:48</td>\n",
       "      <td>Access granted</td>\n",
       "      <td>A66 - 04 FÕBEJÁRAT (F-1) Door #1</td>\n",
       "      <td>Barta Gergõ</td>\n",
       "      <td>00243:07476</td>\n",
       "      <td>8</td>\n",
       "      <td>14</td>\n",
       "      <td>27</td>\n",
       "      <td>48</td>\n",
       "      <td>-1</td>\n",
       "    </tr>\n",
       "    <tr>\n",
       "      <th>1837</th>\n",
       "      <td>2019-01-14 08:28:26</td>\n",
       "      <td>Access granted</td>\n",
       "      <td>A66 - 04 FÕBEJÁRAT (F-1) Door #1</td>\n",
       "      <td>Takács Róbert</td>\n",
       "      <td>00178:59777</td>\n",
       "      <td>8</td>\n",
       "      <td>14</td>\n",
       "      <td>28</td>\n",
       "      <td>26</td>\n",
       "      <td>-1</td>\n",
       "    </tr>\n",
       "    <tr>\n",
       "      <th>1838</th>\n",
       "      <td>2019-01-14 08:29:22</td>\n",
       "      <td>Access granted</td>\n",
       "      <td>A66 - 04 FÕBEJÁRAT (F-1) Door #1</td>\n",
       "      <td>Salfay Anna</td>\n",
       "      <td>00161:44433</td>\n",
       "      <td>8</td>\n",
       "      <td>14</td>\n",
       "      <td>29</td>\n",
       "      <td>22</td>\n",
       "      <td>-1</td>\n",
       "    </tr>\n",
       "  </tbody>\n",
       "</table>\n",
       "</div>"
      ],
      "text/plain": [
       "                       1               2                                 5  \\\n",
       "0                                                                            \n",
       "1832 2019-01-14 07:58:17  Access granted  A66 - 04 FÕBEJÁRAT (F-1) Door #1   \n",
       "1834 2019-01-14 08:26:32  Access granted  A66 - 04 FÕBEJÁRAT (F-1) Door #1   \n",
       "1836 2019-01-14 08:27:48  Access granted  A66 - 04 FÕBEJÁRAT (F-1) Door #1   \n",
       "1837 2019-01-14 08:28:26  Access granted  A66 - 04 FÕBEJÁRAT (F-1) Door #1   \n",
       "1838 2019-01-14 08:29:22  Access granted  A66 - 04 FÕBEJÁRAT (F-1) Door #1   \n",
       "\n",
       "                         7           12  hour  day  min  sec  hourover9  \n",
       "0                                                                        \n",
       "1832         Barczi Mihály  00070:04181     7   14   58   17         -2  \n",
       "1834  Barish Nilofer Virág  00018:06288     8   14   26   32         -1  \n",
       "1836           Barta Gergõ  00243:07476     8   14   27   48         -1  \n",
       "1837         Takács Róbert  00178:59777     8   14   28   26         -1  \n",
       "1838           Salfay Anna  00161:44433     8   14   29   22         -1  "
      ]
     },
     "execution_count": 18,
     "metadata": {},
     "output_type": "execute_result"
    }
   ],
   "source": [
    "dfcp3.head()"
   ]
  },
  {
   "cell_type": "code",
   "execution_count": 19,
   "metadata": {},
   "outputs": [],
   "source": [
    "bol1 = (dfcp3[\"min\"] > 0) | (dfcp3[\"sec\"] > 0)\n",
    "bol2 = bol1 & (dfcp3[\"hourover9\"] == 0)\n",
    "bol3 = bol2 | (dfcp3[\"hourover9\"] > 0)"
   ]
  },
  {
   "cell_type": "code",
   "execution_count": 20,
   "metadata": {},
   "outputs": [],
   "source": [
    "dfcp3 = dfcp3[bol3]"
   ]
  },
  {
   "cell_type": "code",
   "execution_count": 21,
   "metadata": {},
   "outputs": [],
   "source": [
    "dfcp3[\"lateInMin\"] = dfcp3[\"hourover9\"] * 60 + dfcp3[\"min\"] + dfcp3[\"sec\"] / 60"
   ]
  },
  {
   "cell_type": "code",
   "execution_count": 22,
   "metadata": {},
   "outputs": [
    {
     "data": {
      "text/plain": [
       "array(['A66 - 04 FÕBEJÁRAT (F-1) Door #1',\n",
       "       'A66 - 06 Kávézó terasz (F-3) Door #1',\n",
       "       'A66 - 12 Recepció (2-1) Door #1',\n",
       "       'A66 - 17 Recepció (3-1) Door #1',\n",
       "       'A66 - 18 Elõtér 316 (3-2) Door #1',\n",
       "       'A66 - 07 Recepció (1-1) Door #1'], dtype=object)"
      ]
     },
     "execution_count": 22,
     "metadata": {},
     "output_type": "execute_result"
    }
   ],
   "source": [
    "dfcp3[5].unique()"
   ]
  },
  {
   "cell_type": "code",
   "execution_count": 23,
   "metadata": {},
   "outputs": [
    {
     "data": {
      "text/html": [
       "<div>\n",
       "<style scoped>\n",
       "    .dataframe tbody tr th:only-of-type {\n",
       "        vertical-align: middle;\n",
       "    }\n",
       "\n",
       "    .dataframe tbody tr th {\n",
       "        vertical-align: top;\n",
       "    }\n",
       "\n",
       "    .dataframe thead th {\n",
       "        text-align: right;\n",
       "    }\n",
       "</style>\n",
       "<table border=\"1\" class=\"dataframe\">\n",
       "  <thead>\n",
       "    <tr style=\"text-align: right;\">\n",
       "      <th></th>\n",
       "      <th>1</th>\n",
       "      <th>2</th>\n",
       "      <th>5</th>\n",
       "      <th>7</th>\n",
       "      <th>12</th>\n",
       "      <th>hour</th>\n",
       "      <th>day</th>\n",
       "      <th>min</th>\n",
       "      <th>sec</th>\n",
       "      <th>hourover9</th>\n",
       "      <th>lateInMin</th>\n",
       "    </tr>\n",
       "    <tr>\n",
       "      <th>0</th>\n",
       "      <th></th>\n",
       "      <th></th>\n",
       "      <th></th>\n",
       "      <th></th>\n",
       "      <th></th>\n",
       "      <th></th>\n",
       "      <th></th>\n",
       "      <th></th>\n",
       "      <th></th>\n",
       "      <th></th>\n",
       "      <th></th>\n",
       "    </tr>\n",
       "  </thead>\n",
       "  <tbody>\n",
       "    <tr>\n",
       "      <th>8682</th>\n",
       "      <td>2019-01-28 18:16:39</td>\n",
       "      <td>Access granted</td>\n",
       "      <td>A66 - 04 FÕBEJÁRAT (F-1) Door #1</td>\n",
       "      <td>Balogh Botond</td>\n",
       "      <td>00144:27781</td>\n",
       "      <td>18</td>\n",
       "      <td>28</td>\n",
       "      <td>16</td>\n",
       "      <td>39</td>\n",
       "      <td>9</td>\n",
       "      <td>556.650000</td>\n",
       "    </tr>\n",
       "    <tr>\n",
       "      <th>2303</th>\n",
       "      <td>2019-01-14 18:11:00</td>\n",
       "      <td>Access - door opened</td>\n",
       "      <td>A66 - 04 FÕBEJÁRAT (F-1) Door #1</td>\n",
       "      <td>Ivány Melinda Lili</td>\n",
       "      <td>00008:42946</td>\n",
       "      <td>18</td>\n",
       "      <td>14</td>\n",
       "      <td>11</td>\n",
       "      <td>0</td>\n",
       "      <td>9</td>\n",
       "      <td>551.000000</td>\n",
       "    </tr>\n",
       "    <tr>\n",
       "      <th>9908</th>\n",
       "      <td>2019-01-30 18:07:57</td>\n",
       "      <td>Access granted</td>\n",
       "      <td>A66 - 04 FÕBEJÁRAT (F-1) Door #1</td>\n",
       "      <td>Tóth Márk</td>\n",
       "      <td>00182:60961</td>\n",
       "      <td>18</td>\n",
       "      <td>30</td>\n",
       "      <td>7</td>\n",
       "      <td>57</td>\n",
       "      <td>9</td>\n",
       "      <td>547.950000</td>\n",
       "    </tr>\n",
       "    <tr>\n",
       "      <th>2302</th>\n",
       "      <td>2019-01-14 18:07:38</td>\n",
       "      <td>Access - door opened</td>\n",
       "      <td>A66 - 04 FÕBEJÁRAT (F-1) Door #1</td>\n",
       "      <td>Nagy Orsolya</td>\n",
       "      <td>00239:14514</td>\n",
       "      <td>18</td>\n",
       "      <td>14</td>\n",
       "      <td>7</td>\n",
       "      <td>38</td>\n",
       "      <td>9</td>\n",
       "      <td>547.633333</td>\n",
       "    </tr>\n",
       "    <tr>\n",
       "      <th>2298</th>\n",
       "      <td>2019-01-14 18:05:09</td>\n",
       "      <td>Access granted</td>\n",
       "      <td>A66 - 17 Recepció (3-1) Door #1</td>\n",
       "      <td>Puskás Tamás</td>\n",
       "      <td>00241:05554</td>\n",
       "      <td>18</td>\n",
       "      <td>14</td>\n",
       "      <td>5</td>\n",
       "      <td>9</td>\n",
       "      <td>9</td>\n",
       "      <td>545.150000</td>\n",
       "    </tr>\n",
       "  </tbody>\n",
       "</table>\n",
       "</div>"
      ],
      "text/plain": [
       "                       1                     2  \\\n",
       "0                                                \n",
       "8682 2019-01-28 18:16:39        Access granted   \n",
       "2303 2019-01-14 18:11:00  Access - door opened   \n",
       "9908 2019-01-30 18:07:57        Access granted   \n",
       "2302 2019-01-14 18:07:38  Access - door opened   \n",
       "2298 2019-01-14 18:05:09        Access granted   \n",
       "\n",
       "                                     5                   7           12  hour  \\\n",
       "0                                                                               \n",
       "8682  A66 - 04 FÕBEJÁRAT (F-1) Door #1       Balogh Botond  00144:27781    18   \n",
       "2303  A66 - 04 FÕBEJÁRAT (F-1) Door #1  Ivány Melinda Lili  00008:42946    18   \n",
       "9908  A66 - 04 FÕBEJÁRAT (F-1) Door #1           Tóth Márk  00182:60961    18   \n",
       "2302  A66 - 04 FÕBEJÁRAT (F-1) Door #1        Nagy Orsolya  00239:14514    18   \n",
       "2298   A66 - 17 Recepció (3-1) Door #1        Puskás Tamás  00241:05554    18   \n",
       "\n",
       "      day  min  sec  hourover9   lateInMin  \n",
       "0                                           \n",
       "8682   28   16   39          9  556.650000  \n",
       "2303   14   11    0          9  551.000000  \n",
       "9908   30    7   57          9  547.950000  \n",
       "2302   14    7   38          9  547.633333  \n",
       "2298   14    5    9          9  545.150000  "
      ]
     },
     "execution_count": 23,
     "metadata": {},
     "output_type": "execute_result"
    }
   ],
   "source": [
    "dfcp3.sort_values(\"lateInMin\", ascending=False).head()"
   ]
  },
  {
   "cell_type": "code",
   "execution_count": 24,
   "metadata": {},
   "outputs": [
    {
     "data": {
      "text/html": [
       "<div>\n",
       "<style scoped>\n",
       "    .dataframe tbody tr th:only-of-type {\n",
       "        vertical-align: middle;\n",
       "    }\n",
       "\n",
       "    .dataframe tbody tr th {\n",
       "        vertical-align: top;\n",
       "    }\n",
       "\n",
       "    .dataframe thead th {\n",
       "        text-align: right;\n",
       "    }\n",
       "</style>\n",
       "<table border=\"1\" class=\"dataframe\">\n",
       "  <thead>\n",
       "    <tr style=\"text-align: right;\">\n",
       "      <th></th>\n",
       "      <th>1</th>\n",
       "      <th>2</th>\n",
       "      <th>5</th>\n",
       "      <th>7</th>\n",
       "      <th>12</th>\n",
       "      <th>hour</th>\n",
       "      <th>day</th>\n",
       "      <th>min</th>\n",
       "      <th>sec</th>\n",
       "      <th>hourover9</th>\n",
       "      <th>lateInMin</th>\n",
       "    </tr>\n",
       "    <tr>\n",
       "      <th>0</th>\n",
       "      <th></th>\n",
       "      <th></th>\n",
       "      <th></th>\n",
       "      <th></th>\n",
       "      <th></th>\n",
       "      <th></th>\n",
       "      <th></th>\n",
       "      <th></th>\n",
       "      <th></th>\n",
       "      <th></th>\n",
       "      <th></th>\n",
       "    </tr>\n",
       "  </thead>\n",
       "  <tbody>\n",
       "    <tr>\n",
       "      <th>2069</th>\n",
       "      <td>2019-01-14 13:32:19</td>\n",
       "      <td>Access granted</td>\n",
       "      <td>A66 - 06 Kávézó terasz (F-3) Door #1</td>\n",
       "      <td>Balogh Botond</td>\n",
       "      <td>00144:27781</td>\n",
       "      <td>13</td>\n",
       "      <td>14</td>\n",
       "      <td>32</td>\n",
       "      <td>19</td>\n",
       "      <td>4</td>\n",
       "      <td>272.316667</td>\n",
       "    </tr>\n",
       "    <tr>\n",
       "      <th>7313</th>\n",
       "      <td>2019-01-24 14:37:40</td>\n",
       "      <td>Access granted</td>\n",
       "      <td>A66 - 12 Recepció (2-1) Door #1</td>\n",
       "      <td>Balogh Botond</td>\n",
       "      <td>00144:27781</td>\n",
       "      <td>14</td>\n",
       "      <td>24</td>\n",
       "      <td>37</td>\n",
       "      <td>40</td>\n",
       "      <td>5</td>\n",
       "      <td>337.666667</td>\n",
       "    </tr>\n",
       "    <tr>\n",
       "      <th>8682</th>\n",
       "      <td>2019-01-28 18:16:39</td>\n",
       "      <td>Access granted</td>\n",
       "      <td>A66 - 04 FÕBEJÁRAT (F-1) Door #1</td>\n",
       "      <td>Balogh Botond</td>\n",
       "      <td>00144:27781</td>\n",
       "      <td>18</td>\n",
       "      <td>28</td>\n",
       "      <td>16</td>\n",
       "      <td>39</td>\n",
       "      <td>9</td>\n",
       "      <td>556.650000</td>\n",
       "    </tr>\n",
       "  </tbody>\n",
       "</table>\n",
       "</div>"
      ],
      "text/plain": [
       "                       1               2  \\\n",
       "0                                          \n",
       "2069 2019-01-14 13:32:19  Access granted   \n",
       "7313 2019-01-24 14:37:40  Access granted   \n",
       "8682 2019-01-28 18:16:39  Access granted   \n",
       "\n",
       "                                         5              7           12  hour  \\\n",
       "0                                                                              \n",
       "2069  A66 - 06 Kávézó terasz (F-3) Door #1  Balogh Botond  00144:27781    13   \n",
       "7313       A66 - 12 Recepció (2-1) Door #1  Balogh Botond  00144:27781    14   \n",
       "8682      A66 - 04 FÕBEJÁRAT (F-1) Door #1  Balogh Botond  00144:27781    18   \n",
       "\n",
       "      day  min  sec  hourover9   lateInMin  \n",
       "0                                           \n",
       "2069   14   32   19          4  272.316667  \n",
       "7313   24   37   40          5  337.666667  \n",
       "8682   28   16   39          9  556.650000  "
      ]
     },
     "execution_count": 24,
     "metadata": {},
     "output_type": "execute_result"
    }
   ],
   "source": [
    "dfcp3[dfcp3[7] == \"Balogh Botond\"]"
   ]
  },
  {
   "cell_type": "code",
   "execution_count": 25,
   "metadata": {},
   "outputs": [
    {
     "data": {
      "text/html": [
       "<div>\n",
       "<style scoped>\n",
       "    .dataframe tbody tr th:only-of-type {\n",
       "        vertical-align: middle;\n",
       "    }\n",
       "\n",
       "    .dataframe tbody tr th {\n",
       "        vertical-align: top;\n",
       "    }\n",
       "\n",
       "    .dataframe thead th {\n",
       "        text-align: right;\n",
       "    }\n",
       "</style>\n",
       "<table border=\"1\" class=\"dataframe\">\n",
       "  <thead>\n",
       "    <tr style=\"text-align: right;\">\n",
       "      <th></th>\n",
       "      <th>1</th>\n",
       "      <th>2</th>\n",
       "      <th>5</th>\n",
       "      <th>7</th>\n",
       "      <th>12</th>\n",
       "      <th>hour</th>\n",
       "      <th>day</th>\n",
       "      <th>min</th>\n",
       "      <th>sec</th>\n",
       "      <th>hourover9</th>\n",
       "      <th>lateInMin</th>\n",
       "    </tr>\n",
       "    <tr>\n",
       "      <th>0</th>\n",
       "      <th></th>\n",
       "      <th></th>\n",
       "      <th></th>\n",
       "      <th></th>\n",
       "      <th></th>\n",
       "      <th></th>\n",
       "      <th></th>\n",
       "      <th></th>\n",
       "      <th></th>\n",
       "      <th></th>\n",
       "      <th></th>\n",
       "    </tr>\n",
       "  </thead>\n",
       "  <tbody>\n",
       "    <tr>\n",
       "      <th>2303</th>\n",
       "      <td>2019-01-14 18:11:00</td>\n",
       "      <td>Access - door opened</td>\n",
       "      <td>A66 - 04 FÕBEJÁRAT (F-1) Door #1</td>\n",
       "      <td>Ivány Melinda Lili</td>\n",
       "      <td>00008:42946</td>\n",
       "      <td>18</td>\n",
       "      <td>14</td>\n",
       "      <td>11</td>\n",
       "      <td>0</td>\n",
       "      <td>9</td>\n",
       "      <td>551.000000</td>\n",
       "    </tr>\n",
       "    <tr>\n",
       "      <th>9524</th>\n",
       "      <td>2019-01-30 09:27:11</td>\n",
       "      <td>Access granted</td>\n",
       "      <td>A66 - 04 FÕBEJÁRAT (F-1) Door #1</td>\n",
       "      <td>Ivány Melinda Lili</td>\n",
       "      <td>00008:42946</td>\n",
       "      <td>9</td>\n",
       "      <td>30</td>\n",
       "      <td>27</td>\n",
       "      <td>11</td>\n",
       "      <td>0</td>\n",
       "      <td>27.183333</td>\n",
       "    </tr>\n",
       "  </tbody>\n",
       "</table>\n",
       "</div>"
      ],
      "text/plain": [
       "                       1                     2  \\\n",
       "0                                                \n",
       "2303 2019-01-14 18:11:00  Access - door opened   \n",
       "9524 2019-01-30 09:27:11        Access granted   \n",
       "\n",
       "                                     5                   7           12  hour  \\\n",
       "0                                                                               \n",
       "2303  A66 - 04 FÕBEJÁRAT (F-1) Door #1  Ivány Melinda Lili  00008:42946    18   \n",
       "9524  A66 - 04 FÕBEJÁRAT (F-1) Door #1  Ivány Melinda Lili  00008:42946     9   \n",
       "\n",
       "      day  min  sec  hourover9   lateInMin  \n",
       "0                                           \n",
       "2303   14   11    0          9  551.000000  \n",
       "9524   30   27   11          0   27.183333  "
      ]
     },
     "execution_count": 25,
     "metadata": {},
     "output_type": "execute_result"
    }
   ],
   "source": [
    "dfcp3[dfcp3[7] == \"Ivány Melinda Lili\"]"
   ]
  },
  {
   "cell_type": "code",
   "execution_count": 26,
   "metadata": {},
   "outputs": [
    {
     "data": {
      "text/html": [
       "<div>\n",
       "<style scoped>\n",
       "    .dataframe tbody tr th:only-of-type {\n",
       "        vertical-align: middle;\n",
       "    }\n",
       "\n",
       "    .dataframe tbody tr th {\n",
       "        vertical-align: top;\n",
       "    }\n",
       "\n",
       "    .dataframe thead th {\n",
       "        text-align: right;\n",
       "    }\n",
       "</style>\n",
       "<table border=\"1\" class=\"dataframe\">\n",
       "  <thead>\n",
       "    <tr style=\"text-align: right;\">\n",
       "      <th></th>\n",
       "      <th>1</th>\n",
       "      <th>2</th>\n",
       "      <th>5</th>\n",
       "      <th>7</th>\n",
       "      <th>12</th>\n",
       "      <th>hour</th>\n",
       "      <th>day</th>\n",
       "      <th>min</th>\n",
       "      <th>sec</th>\n",
       "      <th>hourover9</th>\n",
       "      <th>lateInMin</th>\n",
       "    </tr>\n",
       "    <tr>\n",
       "      <th>0</th>\n",
       "      <th></th>\n",
       "      <th></th>\n",
       "      <th></th>\n",
       "      <th></th>\n",
       "      <th></th>\n",
       "      <th></th>\n",
       "      <th></th>\n",
       "      <th></th>\n",
       "      <th></th>\n",
       "      <th></th>\n",
       "      <th></th>\n",
       "    </tr>\n",
       "  </thead>\n",
       "  <tbody>\n",
       "    <tr>\n",
       "      <th>1905</th>\n",
       "      <td>2019-01-14 09:02:30</td>\n",
       "      <td>Access granted</td>\n",
       "      <td>A66 - 06 Kávézó terasz (F-3) Door #1</td>\n",
       "      <td>Tóth Márk</td>\n",
       "      <td>00182:60961</td>\n",
       "      <td>9</td>\n",
       "      <td>14</td>\n",
       "      <td>2</td>\n",
       "      <td>30</td>\n",
       "      <td>0</td>\n",
       "      <td>2.500000</td>\n",
       "    </tr>\n",
       "    <tr>\n",
       "      <th>2537</th>\n",
       "      <td>2019-01-15 09:29:53</td>\n",
       "      <td>Access granted</td>\n",
       "      <td>A66 - 18 Elõtér 316 (3-2) Door #1</td>\n",
       "      <td>Tóth Márk</td>\n",
       "      <td>00182:60961</td>\n",
       "      <td>9</td>\n",
       "      <td>15</td>\n",
       "      <td>29</td>\n",
       "      <td>53</td>\n",
       "      <td>0</td>\n",
       "      <td>29.883333</td>\n",
       "    </tr>\n",
       "    <tr>\n",
       "      <th>3137</th>\n",
       "      <td>2019-01-16 09:16:01</td>\n",
       "      <td>Access granted</td>\n",
       "      <td>A66 - 04 FÕBEJÁRAT (F-1) Door #1</td>\n",
       "      <td>Tóth Márk</td>\n",
       "      <td>00182:60961</td>\n",
       "      <td>9</td>\n",
       "      <td>16</td>\n",
       "      <td>16</td>\n",
       "      <td>1</td>\n",
       "      <td>0</td>\n",
       "      <td>16.016667</td>\n",
       "    </tr>\n",
       "    <tr>\n",
       "      <th>3833</th>\n",
       "      <td>2019-01-17 09:30:09</td>\n",
       "      <td>Access granted</td>\n",
       "      <td>A66 - 04 FÕBEJÁRAT (F-1) Door #1</td>\n",
       "      <td>Tóth Márk</td>\n",
       "      <td>00182:60961</td>\n",
       "      <td>9</td>\n",
       "      <td>17</td>\n",
       "      <td>30</td>\n",
       "      <td>9</td>\n",
       "      <td>0</td>\n",
       "      <td>30.150000</td>\n",
       "    </tr>\n",
       "    <tr>\n",
       "      <th>4457</th>\n",
       "      <td>2019-01-18 09:37:00</td>\n",
       "      <td>Access granted</td>\n",
       "      <td>A66 - 04 FÕBEJÁRAT (F-1) Door #1</td>\n",
       "      <td>Tóth Márk</td>\n",
       "      <td>00182:60961</td>\n",
       "      <td>9</td>\n",
       "      <td>18</td>\n",
       "      <td>37</td>\n",
       "      <td>0</td>\n",
       "      <td>0</td>\n",
       "      <td>37.000000</td>\n",
       "    </tr>\n",
       "    <tr>\n",
       "      <th>5127</th>\n",
       "      <td>2019-01-21 09:06:22</td>\n",
       "      <td>Access granted</td>\n",
       "      <td>A66 - 04 FÕBEJÁRAT (F-1) Door #1</td>\n",
       "      <td>Tóth Márk</td>\n",
       "      <td>00182:60961</td>\n",
       "      <td>9</td>\n",
       "      <td>21</td>\n",
       "      <td>6</td>\n",
       "      <td>22</td>\n",
       "      <td>0</td>\n",
       "      <td>6.366667</td>\n",
       "    </tr>\n",
       "    <tr>\n",
       "      <th>5765</th>\n",
       "      <td>2019-01-22 09:13:59</td>\n",
       "      <td>Access granted</td>\n",
       "      <td>A66 - 04 FÕBEJÁRAT (F-1) Door #1</td>\n",
       "      <td>Tóth Márk</td>\n",
       "      <td>00182:60961</td>\n",
       "      <td>9</td>\n",
       "      <td>22</td>\n",
       "      <td>13</td>\n",
       "      <td>59</td>\n",
       "      <td>0</td>\n",
       "      <td>13.983333</td>\n",
       "    </tr>\n",
       "    <tr>\n",
       "      <th>6385</th>\n",
       "      <td>2019-01-23 09:25:38</td>\n",
       "      <td>Access granted</td>\n",
       "      <td>A66 - 04 FÕBEJÁRAT (F-1) Door #1</td>\n",
       "      <td>Tóth Márk</td>\n",
       "      <td>00182:60961</td>\n",
       "      <td>9</td>\n",
       "      <td>23</td>\n",
       "      <td>25</td>\n",
       "      <td>38</td>\n",
       "      <td>0</td>\n",
       "      <td>25.633333</td>\n",
       "    </tr>\n",
       "    <tr>\n",
       "      <th>6991</th>\n",
       "      <td>2019-01-24 09:13:29</td>\n",
       "      <td>Access granted</td>\n",
       "      <td>A66 - 04 FÕBEJÁRAT (F-1) Door #1</td>\n",
       "      <td>Tóth Márk</td>\n",
       "      <td>00182:60961</td>\n",
       "      <td>9</td>\n",
       "      <td>24</td>\n",
       "      <td>13</td>\n",
       "      <td>29</td>\n",
       "      <td>0</td>\n",
       "      <td>13.483333</td>\n",
       "    </tr>\n",
       "    <tr>\n",
       "      <th>7729</th>\n",
       "      <td>2019-01-25 10:08:19</td>\n",
       "      <td>Access granted</td>\n",
       "      <td>A66 - 12 Recepció (2-1) Door #1</td>\n",
       "      <td>Tóth Márk</td>\n",
       "      <td>00182:60961</td>\n",
       "      <td>10</td>\n",
       "      <td>25</td>\n",
       "      <td>8</td>\n",
       "      <td>19</td>\n",
       "      <td>1</td>\n",
       "      <td>68.316667</td>\n",
       "    </tr>\n",
       "    <tr>\n",
       "      <th>8246</th>\n",
       "      <td>2019-01-28 09:07:10</td>\n",
       "      <td>Access granted</td>\n",
       "      <td>A66 - 04 FÕBEJÁRAT (F-1) Door #1</td>\n",
       "      <td>Tóth Márk</td>\n",
       "      <td>00182:60961</td>\n",
       "      <td>9</td>\n",
       "      <td>28</td>\n",
       "      <td>7</td>\n",
       "      <td>10</td>\n",
       "      <td>0</td>\n",
       "      <td>7.166667</td>\n",
       "    </tr>\n",
       "    <tr>\n",
       "      <th>8924</th>\n",
       "      <td>2019-01-29 09:43:18</td>\n",
       "      <td>Access granted</td>\n",
       "      <td>A66 - 04 FÕBEJÁRAT (F-1) Door #1</td>\n",
       "      <td>Tóth Márk</td>\n",
       "      <td>00182:60961</td>\n",
       "      <td>9</td>\n",
       "      <td>29</td>\n",
       "      <td>43</td>\n",
       "      <td>18</td>\n",
       "      <td>0</td>\n",
       "      <td>43.300000</td>\n",
       "    </tr>\n",
       "    <tr>\n",
       "      <th>9908</th>\n",
       "      <td>2019-01-30 18:07:57</td>\n",
       "      <td>Access granted</td>\n",
       "      <td>A66 - 04 FÕBEJÁRAT (F-1) Door #1</td>\n",
       "      <td>Tóth Márk</td>\n",
       "      <td>00182:60961</td>\n",
       "      <td>18</td>\n",
       "      <td>30</td>\n",
       "      <td>7</td>\n",
       "      <td>57</td>\n",
       "      <td>9</td>\n",
       "      <td>547.950000</td>\n",
       "    </tr>\n",
       "    <tr>\n",
       "      <th>10183</th>\n",
       "      <td>2019-01-31 11:39:01</td>\n",
       "      <td>Access granted</td>\n",
       "      <td>A66 - 04 FÕBEJÁRAT (F-1) Door #1</td>\n",
       "      <td>Tóth Márk</td>\n",
       "      <td>00182:60961</td>\n",
       "      <td>11</td>\n",
       "      <td>31</td>\n",
       "      <td>39</td>\n",
       "      <td>1</td>\n",
       "      <td>2</td>\n",
       "      <td>159.016667</td>\n",
       "    </tr>\n",
       "  </tbody>\n",
       "</table>\n",
       "</div>"
      ],
      "text/plain": [
       "                        1               2  \\\n",
       "0                                           \n",
       "1905  2019-01-14 09:02:30  Access granted   \n",
       "2537  2019-01-15 09:29:53  Access granted   \n",
       "3137  2019-01-16 09:16:01  Access granted   \n",
       "3833  2019-01-17 09:30:09  Access granted   \n",
       "4457  2019-01-18 09:37:00  Access granted   \n",
       "5127  2019-01-21 09:06:22  Access granted   \n",
       "5765  2019-01-22 09:13:59  Access granted   \n",
       "6385  2019-01-23 09:25:38  Access granted   \n",
       "6991  2019-01-24 09:13:29  Access granted   \n",
       "7729  2019-01-25 10:08:19  Access granted   \n",
       "8246  2019-01-28 09:07:10  Access granted   \n",
       "8924  2019-01-29 09:43:18  Access granted   \n",
       "9908  2019-01-30 18:07:57  Access granted   \n",
       "10183 2019-01-31 11:39:01  Access granted   \n",
       "\n",
       "                                          5          7           12  hour  \\\n",
       "0                                                                           \n",
       "1905   A66 - 06 Kávézó terasz (F-3) Door #1  Tóth Márk  00182:60961     9   \n",
       "2537      A66 - 18 Elõtér 316 (3-2) Door #1  Tóth Márk  00182:60961     9   \n",
       "3137       A66 - 04 FÕBEJÁRAT (F-1) Door #1  Tóth Márk  00182:60961     9   \n",
       "3833       A66 - 04 FÕBEJÁRAT (F-1) Door #1  Tóth Márk  00182:60961     9   \n",
       "4457       A66 - 04 FÕBEJÁRAT (F-1) Door #1  Tóth Márk  00182:60961     9   \n",
       "5127       A66 - 04 FÕBEJÁRAT (F-1) Door #1  Tóth Márk  00182:60961     9   \n",
       "5765       A66 - 04 FÕBEJÁRAT (F-1) Door #1  Tóth Márk  00182:60961     9   \n",
       "6385       A66 - 04 FÕBEJÁRAT (F-1) Door #1  Tóth Márk  00182:60961     9   \n",
       "6991       A66 - 04 FÕBEJÁRAT (F-1) Door #1  Tóth Márk  00182:60961     9   \n",
       "7729        A66 - 12 Recepció (2-1) Door #1  Tóth Márk  00182:60961    10   \n",
       "8246       A66 - 04 FÕBEJÁRAT (F-1) Door #1  Tóth Márk  00182:60961     9   \n",
       "8924       A66 - 04 FÕBEJÁRAT (F-1) Door #1  Tóth Márk  00182:60961     9   \n",
       "9908       A66 - 04 FÕBEJÁRAT (F-1) Door #1  Tóth Márk  00182:60961    18   \n",
       "10183      A66 - 04 FÕBEJÁRAT (F-1) Door #1  Tóth Márk  00182:60961    11   \n",
       "\n",
       "       day  min  sec  hourover9   lateInMin  \n",
       "0                                            \n",
       "1905    14    2   30          0    2.500000  \n",
       "2537    15   29   53          0   29.883333  \n",
       "3137    16   16    1          0   16.016667  \n",
       "3833    17   30    9          0   30.150000  \n",
       "4457    18   37    0          0   37.000000  \n",
       "5127    21    6   22          0    6.366667  \n",
       "5765    22   13   59          0   13.983333  \n",
       "6385    23   25   38          0   25.633333  \n",
       "6991    24   13   29          0   13.483333  \n",
       "7729    25    8   19          1   68.316667  \n",
       "8246    28    7   10          0    7.166667  \n",
       "8924    29   43   18          0   43.300000  \n",
       "9908    30    7   57          9  547.950000  \n",
       "10183   31   39    1          2  159.016667  "
      ]
     },
     "execution_count": 26,
     "metadata": {},
     "output_type": "execute_result"
    }
   ],
   "source": [
    "dfcp3[dfcp3[7] == \"Tóth Márk\"]"
   ]
  }
 ],
 "metadata": {
  "kernelspec": {
   "display_name": "Python 3",
   "language": "python",
   "name": "python3"
  },
  "language_info": {
   "codemirror_mode": {
    "name": "ipython",
    "version": 3
   },
   "file_extension": ".py",
   "mimetype": "text/x-python",
   "name": "python",
   "nbconvert_exporter": "python",
   "pygments_lexer": "ipython3",
   "version": "3.7.3"
  }
 },
 "nbformat": 4,
 "nbformat_minor": 2
}

{
 "cells": [
  {
   "cell_type": "markdown",
   "metadata": {},
   "source": [
    "Where is this weather station?\n",
    "```cql\n",
    "SELECT * \n",
    "FROM weather_station \n",
    "WHERE id = '724940:23234';\n",
    "```"
   ]
  },
  {
   "cell_type": "markdown",
   "metadata": {},
   "source": [
    "Show the temperature for June 1st, 2008.\n",
    "```cql\n",
    "SELECT * \n",
    "FROM raw_weather_data \n",
    "WHERE wsid = '724940:23234' \n",
    "    AND year = 2008 \n",
    "    AND month = 6 \n",
    "    AND day = 1;\n",
    "```"
   ]
  },
  {
   "cell_type": "markdown",
   "metadata": {},
   "source": [
    "Show the temperatures for June 1st, 2008 from 9AM to 3PM.\n",
    "```cql\n",
    "SELECT * \n",
    "FROM raw_weather_data \n",
    "WHERE wsid = '724940:23234' \n",
    "    AND year = 2008 \n",
    "    AND month = 6 \n",
    "    AND day = 1 \n",
    "    AND hour > 3 \n",
    "    AND hour < 9;```"
   ]
  },
  {
   "cell_type": "markdown",
   "metadata": {},
   "source": [
    "What is the average elevation of the weather stations in Indiana?\n",
    "```cql\n",
    "SELECT AVG(elevation) \n",
    "FROM weather_station \n",
    "WHERE state_code = 'IN' ALLOW FILTERING;\n",
    "```"
   ]
  },
  {
   "cell_type": "markdown",
   "metadata": {},
   "source": [
    "What is the latitude of the northest weather station in Texas?\n",
    "```cql\n",
    "SELECT MAX(lat) \n",
    "FROM weather_station \n",
    "WHERE state_code = 'TX' ALLOW FILTERING;\n",
    "```"
   ]
  },
  {
   "cell_type": "markdown",
   "metadata": {},
   "source": [
    "Insert the current temperature for today.\n",
    "```cql\n",
    "INSERT INTO raw_weather_data (wsid, hour, year, month, day, temperature)\n",
    "VALUES ('NOAA', 5, 2019, 6, 5, 31);\n",
    "```"
   ]
  },
  {
   "cell_type": "markdown",
   "metadata": {},
   "source": [
    "Fill the daily_aggregate_temperature table.\n",
    "```cql\n",
    "INSERT INTO daily_aggregate_temperature\n",
    "SELECT \n",
    "```"
   ]
  }
 ],
 "metadata": {
  "kernelspec": {
   "display_name": "Python 3",
   "language": "python",
   "name": "python3"
  },
  "language_info": {
   "codemirror_mode": {
    "name": "ipython",
    "version": 3
   },
   "file_extension": ".py",
   "mimetype": "text/x-python",
   "name": "python",
   "nbconvert_exporter": "python",
   "pygments_lexer": "ipython3",
   "version": "3.7.3"
  }
 },
 "nbformat": 4,
 "nbformat_minor": 2
}

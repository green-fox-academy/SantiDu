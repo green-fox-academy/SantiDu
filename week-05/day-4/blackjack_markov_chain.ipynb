{
 "cells": [
  {
   "cell_type": "code",
   "execution_count": 54,
   "metadata": {},
   "outputs": [],
   "source": [
    "import pandas as pd\n",
    "import numpy as np"
   ]
  },
  {
   "cell_type": "code",
   "execution_count": 55,
   "metadata": {},
   "outputs": [],
   "source": [
    "index = [0] + [\"Hard\" + str(x) for x in (range(2, 22))] + [\"Face\"] + [\"Soft\" + str(x) for x in (range(11, 22))] + [\"BJ\"] + [\"Bust\"]"
   ]
  },
  {
   "cell_type": "code",
   "execution_count": 56,
   "metadata": {},
   "outputs": [],
   "source": [
    "df = pd.DataFrame(columns=index, index=index)"
   ]
  },
  {
   "cell_type": "code",
   "execution_count": 57,
   "metadata": {},
   "outputs": [],
   "source": [
    "df = df.fillna(0)"
   ]
  },
  {
   "cell_type": "code",
   "execution_count": 59,
   "metadata": {},
   "outputs": [],
   "source": [
    "df.iloc[0, 1:9] = 1/13\n",
    "df.loc[0, [\"Face\",\"Soft11\"]] = [4/13, 1/13]"
   ]
  },
  {
   "cell_type": "code",
   "execution_count": 60,
   "metadata": {},
   "outputs": [],
   "source": [
    "df.iloc[1, 3:11] = 1/13\n",
    "df.loc[\"Hard2\", [\"Hard12\", \"Soft13\"]] = [4/13, 1/13]"
   ]
  },
  {
   "cell_type": "code",
   "execution_count": 61,
   "metadata": {},
   "outputs": [],
   "source": [
    "df.iloc[2, 4:12] = 1/13\n",
    "df.loc[\"Hard3\", [\"Hard13\", \"Soft14\"]] = [4/13, 1/13]"
   ]
  },
  {
   "cell_type": "code",
   "execution_count": 62,
   "metadata": {},
   "outputs": [],
   "source": [
    "df.iloc[3, 5:13] = 1/13\n",
    "df.loc[\"Hard4\", [\"Hard14\", \"Soft15\"]] = [4/13, 1/13]"
   ]
  },
  {
   "cell_type": "code",
   "execution_count": 63,
   "metadata": {},
   "outputs": [],
   "source": [
    "df.iloc[4, 6:14] = 1/13\n",
    "df.loc[\"Hard5\", [\"Hard15\", \"Soft16\"]] = [4/13, 1/13]"
   ]
  },
  {
   "cell_type": "code",
   "execution_count": 64,
   "metadata": {},
   "outputs": [],
   "source": [
    "df.iloc[5, 7:15] = 1/13\n",
    "df.loc[\"Hard6\", [\"Hard16\", \"Soft17\"]] = [4/13, 1/13]"
   ]
  },
  {
   "cell_type": "code",
   "execution_count": 65,
   "metadata": {},
   "outputs": [],
   "source": [
    "df.iloc[6, 8:16] = 1/13\n",
    "df.loc[\"Hard7\", [\"Hard17\", \"Soft18\"]] = [4/13, 1/13]"
   ]
  },
  {
   "cell_type": "code",
   "execution_count": 66,
   "metadata": {},
   "outputs": [],
   "source": [
    "df.iloc[7, 9:17] = 1/13\n",
    "df.loc[\"Hard8\", [\"Hard18\", \"Soft19\"]] = [4/13, 1/13]"
   ]
  },
  {
   "cell_type": "code",
   "execution_count": 67,
   "metadata": {},
   "outputs": [],
   "source": [
    "df.iloc[8, 10:18] = 1/13\n",
    "df.loc[\"Hard9\", [\"Hard19\", \"Soft20\"]] = [4/13, 1/13]"
   ]
  },
  {
   "cell_type": "code",
   "execution_count": 68,
   "metadata": {},
   "outputs": [],
   "source": [
    "df.iloc[9, 11:19] = 1/13\n",
    "df.loc[\"Hard10\", [\"Hard20\", \"Soft21\"]] = [4/13, 1/13]"
   ]
  },
  {
   "cell_type": "code",
   "execution_count": 69,
   "metadata": {},
   "outputs": [],
   "source": [
    "df.iloc[10, 11:20] = 1/13\n",
    "df.iloc[10, 21] = 4/13"
   ]
  },
  {
   "cell_type": "code",
   "execution_count": 70,
   "metadata": {},
   "outputs": [],
   "source": [
    "df.iloc[11, 12:21] = 1/13\n",
    "df.loc[\"Hard12\", \"Bust\"] = 4/13"
   ]
  },
  {
   "cell_type": "code",
   "execution_count": 71,
   "metadata": {},
   "outputs": [],
   "source": [
    "df.iloc[12, 13:21] = 1/13\n",
    "df.loc[\"Hard13\", \"Bust\"] = 5/13"
   ]
  },
  {
   "cell_type": "code",
   "execution_count": 72,
   "metadata": {},
   "outputs": [],
   "source": [
    "df.iloc[13, 14:21] = 1/13\n",
    "df.loc[\"Hard14\", \"Bust\"] = 6/13"
   ]
  },
  {
   "cell_type": "code",
   "execution_count": 73,
   "metadata": {},
   "outputs": [],
   "source": [
    "df.iloc[14, 15:21] = 1/13\n",
    "df.loc[\"Hard15\", \"Bust\"] = 7/13"
   ]
  },
  {
   "cell_type": "code",
   "execution_count": 74,
   "metadata": {},
   "outputs": [],
   "source": [
    "df.iloc[15, 16:21] = 1/13\n",
    "df.loc[\"Hard16\", \"Bust\"] = 8/13"
   ]
  },
  {
   "cell_type": "code",
   "execution_count": 75,
   "metadata": {},
   "outputs": [],
   "source": [
    "df.loc[\"Hard17\", \"Hard17\"] = 13/13\n",
    "df.loc[\"Hard18\", \"Hard18\"] = 13/13\n",
    "df.loc[\"Hard19\", \"Hard19\"] = 13/13\n",
    "df.loc[\"Hard20\", \"Hard20\"] = 13/13\n",
    "df.loc[\"Hard21\", \"Hard21\"] = 13/13"
   ]
  },
  {
   "cell_type": "code",
   "execution_count": 76,
   "metadata": {},
   "outputs": [],
   "source": [
    "df.iloc[21, 11:19] = 1/13\n",
    "df.loc[\"Face\", [\"Hard20\", \"BJ\"]] = [4/13, 1/13]"
   ]
  },
  {
   "cell_type": "code",
   "execution_count": 77,
   "metadata": {},
   "outputs": [],
   "source": [
    "df.loc[\"Soft11\", \"Soft12\":\"Soft20\"] = 1/13\n",
    "df.loc[\"Soft11\", \"BJ\"] = 4/13"
   ]
  },
  {
   "cell_type": "code",
   "execution_count": 78,
   "metadata": {},
   "outputs": [],
   "source": [
    "df.loc[\"Soft12\", \"Hard12\"] = 4/13\n",
    "df.loc[\"Soft12\", \"Soft13\":\"Soft21\"] = 1/13"
   ]
  },
  {
   "cell_type": "code",
   "execution_count": 79,
   "metadata": {},
   "outputs": [],
   "source": [
    "df.loc[\"Soft13\", \"Hard13\"] = 4/13\n",
    "df.loc[\"Soft13\", \"Hard12\"] = 1/13\n",
    "df.loc[\"Soft13\", \"Soft14\":\"Soft21\"] = 1/13"
   ]
  },
  {
   "cell_type": "code",
   "execution_count": 80,
   "metadata": {},
   "outputs": [],
   "source": [
    "df.loc[\"Soft14\", \"Hard14\"] = 4/13\n",
    "df.loc[\"Soft14\", \"Hard12\":\"Hard13\"] = 1/13\n",
    "df.loc[\"Soft14\", \"Soft15\":\"Soft21\"] = 1/13"
   ]
  },
  {
   "cell_type": "code",
   "execution_count": 81,
   "metadata": {},
   "outputs": [],
   "source": [
    "df.loc[\"Soft15\", \"Hard15\"] = 4/13\n",
    "df.loc[\"Soft15\", \"Hard12\":\"Hard14\"] = 1/13\n",
    "df.loc[\"Soft15\", \"Soft16\":\"Soft21\"] = 1/13"
   ]
  },
  {
   "cell_type": "code",
   "execution_count": 82,
   "metadata": {},
   "outputs": [],
   "source": [
    "df.loc[\"Soft16\", \"Hard16\"] = 4/13\n",
    "df.loc[\"Soft16\", \"Hard12\":\"Hard15\"] = 1/13\n",
    "df.loc[\"Soft16\", \"Soft17\":\"Soft21\"] = 1/13"
   ]
  },
  {
   "cell_type": "code",
   "execution_count": 83,
   "metadata": {},
   "outputs": [],
   "source": [
    "df.loc[\"Soft17\", \"Soft17\"] = 13/13\n",
    "df.loc[\"Soft18\", \"Soft18\"] = 13/13\n",
    "df.loc[\"Soft19\", \"Soft19\"] = 13/13\n",
    "df.loc[\"Soft20\", \"Soft20\"] = 13/13\n",
    "df.loc[\"Soft21\", \"Soft21\"] = 13/13\n",
    "df.loc[\"BJ\", \"BJ\"] = 13/13\n",
    "df.loc[\"Bust\", \"Bust\"] = 13/13"
   ]
  },
  {
   "cell_type": "code",
   "execution_count": 86,
   "metadata": {},
   "outputs": [
    {
     "data": {
      "text/html": [
       "<div>\n",
       "<style scoped>\n",
       "    .dataframe tbody tr th:only-of-type {\n",
       "        vertical-align: middle;\n",
       "    }\n",
       "\n",
       "    .dataframe tbody tr th {\n",
       "        vertical-align: top;\n",
       "    }\n",
       "\n",
       "    .dataframe thead th {\n",
       "        text-align: right;\n",
       "    }\n",
       "</style>\n",
       "<table border=\"1\" class=\"dataframe\">\n",
       "  <thead>\n",
       "    <tr style=\"text-align: right;\">\n",
       "      <th></th>\n",
       "      <th>0</th>\n",
       "    </tr>\n",
       "  </thead>\n",
       "  <tbody>\n",
       "    <tr>\n",
       "      <th>0</th>\n",
       "      <td>0.000000</td>\n",
       "    </tr>\n",
       "    <tr>\n",
       "      <th>Hard2</th>\n",
       "      <td>0.000000</td>\n",
       "    </tr>\n",
       "    <tr>\n",
       "      <th>Hard3</th>\n",
       "      <td>0.000000</td>\n",
       "    </tr>\n",
       "    <tr>\n",
       "      <th>Hard4</th>\n",
       "      <td>0.000000</td>\n",
       "    </tr>\n",
       "    <tr>\n",
       "      <th>Hard5</th>\n",
       "      <td>0.000000</td>\n",
       "    </tr>\n",
       "    <tr>\n",
       "      <th>Hard6</th>\n",
       "      <td>0.000000</td>\n",
       "    </tr>\n",
       "    <tr>\n",
       "      <th>Hard7</th>\n",
       "      <td>0.000000</td>\n",
       "    </tr>\n",
       "    <tr>\n",
       "      <th>Hard8</th>\n",
       "      <td>0.000000</td>\n",
       "    </tr>\n",
       "    <tr>\n",
       "      <th>Hard9</th>\n",
       "      <td>0.000000</td>\n",
       "    </tr>\n",
       "    <tr>\n",
       "      <th>Hard10</th>\n",
       "      <td>0.000000</td>\n",
       "    </tr>\n",
       "    <tr>\n",
       "      <th>Hard11</th>\n",
       "      <td>0.000000</td>\n",
       "    </tr>\n",
       "    <tr>\n",
       "      <th>Hard12</th>\n",
       "      <td>0.000000</td>\n",
       "    </tr>\n",
       "    <tr>\n",
       "      <th>Hard13</th>\n",
       "      <td>0.000000</td>\n",
       "    </tr>\n",
       "    <tr>\n",
       "      <th>Hard14</th>\n",
       "      <td>0.000000</td>\n",
       "    </tr>\n",
       "    <tr>\n",
       "      <th>Hard15</th>\n",
       "      <td>0.000000</td>\n",
       "    </tr>\n",
       "    <tr>\n",
       "      <th>Hard16</th>\n",
       "      <td>0.000000</td>\n",
       "    </tr>\n",
       "    <tr>\n",
       "      <th>Hard17</th>\n",
       "      <td>0.119596</td>\n",
       "    </tr>\n",
       "    <tr>\n",
       "      <th>Hard18</th>\n",
       "      <td>0.113678</td>\n",
       "    </tr>\n",
       "    <tr>\n",
       "      <th>Hard19</th>\n",
       "      <td>0.109127</td>\n",
       "    </tr>\n",
       "    <tr>\n",
       "      <th>Hard20</th>\n",
       "      <td>0.110875</td>\n",
       "    </tr>\n",
       "    <tr>\n",
       "      <th>Hard21</th>\n",
       "      <td>0.067241</td>\n",
       "    </tr>\n",
       "    <tr>\n",
       "      <th>Face</th>\n",
       "      <td>0.000000</td>\n",
       "    </tr>\n",
       "    <tr>\n",
       "      <th>Soft11</th>\n",
       "      <td>0.000000</td>\n",
       "    </tr>\n",
       "    <tr>\n",
       "      <th>Soft12</th>\n",
       "      <td>0.000000</td>\n",
       "    </tr>\n",
       "    <tr>\n",
       "      <th>Soft13</th>\n",
       "      <td>0.000000</td>\n",
       "    </tr>\n",
       "    <tr>\n",
       "      <th>Soft14</th>\n",
       "      <td>0.000000</td>\n",
       "    </tr>\n",
       "    <tr>\n",
       "      <th>Soft15</th>\n",
       "      <td>0.000000</td>\n",
       "    </tr>\n",
       "    <tr>\n",
       "      <th>Soft16</th>\n",
       "      <td>0.000000</td>\n",
       "    </tr>\n",
       "    <tr>\n",
       "      <th>Soft17</th>\n",
       "      <td>0.005917</td>\n",
       "    </tr>\n",
       "    <tr>\n",
       "      <th>Soft18</th>\n",
       "      <td>0.011834</td>\n",
       "    </tr>\n",
       "    <tr>\n",
       "      <th>Soft19</th>\n",
       "      <td>0.011834</td>\n",
       "    </tr>\n",
       "    <tr>\n",
       "      <th>Soft20</th>\n",
       "      <td>0.012289</td>\n",
       "    </tr>\n",
       "    <tr>\n",
       "      <th>Soft21</th>\n",
       "      <td>0.012745</td>\n",
       "    </tr>\n",
       "    <tr>\n",
       "      <th>BJ</th>\n",
       "      <td>0.002252</td>\n",
       "    </tr>\n",
       "    <tr>\n",
       "      <th>Bust</th>\n",
       "      <td>0.422612</td>\n",
       "    </tr>\n",
       "  </tbody>\n",
       "</table>\n",
       "</div>"
      ],
      "text/plain": [
       "               0\n",
       "0       0.000000\n",
       "Hard2   0.000000\n",
       "Hard3   0.000000\n",
       "Hard4   0.000000\n",
       "Hard5   0.000000\n",
       "Hard6   0.000000\n",
       "Hard7   0.000000\n",
       "Hard8   0.000000\n",
       "Hard9   0.000000\n",
       "Hard10  0.000000\n",
       "Hard11  0.000000\n",
       "Hard12  0.000000\n",
       "Hard13  0.000000\n",
       "Hard14  0.000000\n",
       "Hard15  0.000000\n",
       "Hard16  0.000000\n",
       "Hard17  0.119596\n",
       "Hard18  0.113678\n",
       "Hard19  0.109127\n",
       "Hard20  0.110875\n",
       "Hard21  0.067241\n",
       "Face    0.000000\n",
       "Soft11  0.000000\n",
       "Soft12  0.000000\n",
       "Soft13  0.000000\n",
       "Soft14  0.000000\n",
       "Soft15  0.000000\n",
       "Soft16  0.000000\n",
       "Soft17  0.005917\n",
       "Soft18  0.011834\n",
       "Soft19  0.011834\n",
       "Soft20  0.012289\n",
       "Soft21  0.012745\n",
       "BJ      0.002252\n",
       "Bust    0.422612"
      ]
     },
     "execution_count": 86,
     "metadata": {},
     "output_type": "execute_result"
    }
   ],
   "source": [
    "pd.DataFrame(np.matmul(np.linalg.matrix_power(np.array(df.transpose()), 20), np.array([0] * 4 + [1] + 30 * [0])), index=index)"
   ]
  },
  {
   "cell_type": "code",
   "execution_count": 87,
   "metadata": {},
   "outputs": [
    {
     "data": {
      "text/html": [
       "<div>\n",
       "<style scoped>\n",
       "    .dataframe tbody tr th:only-of-type {\n",
       "        vertical-align: middle;\n",
       "    }\n",
       "\n",
       "    .dataframe tbody tr th {\n",
       "        vertical-align: top;\n",
       "    }\n",
       "\n",
       "    .dataframe thead th {\n",
       "        text-align: right;\n",
       "    }\n",
       "</style>\n",
       "<table border=\"1\" class=\"dataframe\">\n",
       "  <thead>\n",
       "    <tr style=\"text-align: right;\">\n",
       "      <th></th>\n",
       "      <th>0</th>\n",
       "    </tr>\n",
       "  </thead>\n",
       "  <tbody>\n",
       "    <tr>\n",
       "      <th>0</th>\n",
       "      <td>0.000000</td>\n",
       "    </tr>\n",
       "    <tr>\n",
       "      <th>Hard2</th>\n",
       "      <td>0.000000</td>\n",
       "    </tr>\n",
       "    <tr>\n",
       "      <th>Hard3</th>\n",
       "      <td>0.000000</td>\n",
       "    </tr>\n",
       "    <tr>\n",
       "      <th>Hard4</th>\n",
       "      <td>0.000000</td>\n",
       "    </tr>\n",
       "    <tr>\n",
       "      <th>Hard5</th>\n",
       "      <td>0.000000</td>\n",
       "    </tr>\n",
       "    <tr>\n",
       "      <th>Hard6</th>\n",
       "      <td>0.000000</td>\n",
       "    </tr>\n",
       "    <tr>\n",
       "      <th>Hard7</th>\n",
       "      <td>0.000000</td>\n",
       "    </tr>\n",
       "    <tr>\n",
       "      <th>Hard8</th>\n",
       "      <td>0.000000</td>\n",
       "    </tr>\n",
       "    <tr>\n",
       "      <th>Hard9</th>\n",
       "      <td>0.000000</td>\n",
       "    </tr>\n",
       "    <tr>\n",
       "      <th>Hard10</th>\n",
       "      <td>0.000000</td>\n",
       "    </tr>\n",
       "    <tr>\n",
       "      <th>Hard11</th>\n",
       "      <td>0.000000</td>\n",
       "    </tr>\n",
       "    <tr>\n",
       "      <th>Hard12</th>\n",
       "      <td>0.000000</td>\n",
       "    </tr>\n",
       "    <tr>\n",
       "      <th>Hard13</th>\n",
       "      <td>0.000000</td>\n",
       "    </tr>\n",
       "    <tr>\n",
       "      <th>Hard14</th>\n",
       "      <td>0.000000</td>\n",
       "    </tr>\n",
       "    <tr>\n",
       "      <th>Hard15</th>\n",
       "      <td>0.000000</td>\n",
       "    </tr>\n",
       "    <tr>\n",
       "      <th>Hard16</th>\n",
       "      <td>0.000000</td>\n",
       "    </tr>\n",
       "    <tr>\n",
       "      <th>Hard17</th>\n",
       "      <td>0.111424</td>\n",
       "    </tr>\n",
       "    <tr>\n",
       "      <th>Hard18</th>\n",
       "      <td>0.111424</td>\n",
       "    </tr>\n",
       "    <tr>\n",
       "      <th>Hard19</th>\n",
       "      <td>0.111424</td>\n",
       "    </tr>\n",
       "    <tr>\n",
       "      <th>Hard20</th>\n",
       "      <td>0.342194</td>\n",
       "    </tr>\n",
       "    <tr>\n",
       "      <th>Hard21</th>\n",
       "      <td>0.034501</td>\n",
       "    </tr>\n",
       "    <tr>\n",
       "      <th>Face</th>\n",
       "      <td>0.000000</td>\n",
       "    </tr>\n",
       "    <tr>\n",
       "      <th>Soft11</th>\n",
       "      <td>0.000000</td>\n",
       "    </tr>\n",
       "    <tr>\n",
       "      <th>Soft12</th>\n",
       "      <td>0.000000</td>\n",
       "    </tr>\n",
       "    <tr>\n",
       "      <th>Soft13</th>\n",
       "      <td>0.000000</td>\n",
       "    </tr>\n",
       "    <tr>\n",
       "      <th>Soft14</th>\n",
       "      <td>0.000000</td>\n",
       "    </tr>\n",
       "    <tr>\n",
       "      <th>Soft15</th>\n",
       "      <td>0.000000</td>\n",
       "    </tr>\n",
       "    <tr>\n",
       "      <th>Soft16</th>\n",
       "      <td>0.000000</td>\n",
       "    </tr>\n",
       "    <tr>\n",
       "      <th>Soft17</th>\n",
       "      <td>0.000000</td>\n",
       "    </tr>\n",
       "    <tr>\n",
       "      <th>Soft18</th>\n",
       "      <td>0.000000</td>\n",
       "    </tr>\n",
       "    <tr>\n",
       "      <th>Soft19</th>\n",
       "      <td>0.000000</td>\n",
       "    </tr>\n",
       "    <tr>\n",
       "      <th>Soft20</th>\n",
       "      <td>0.000000</td>\n",
       "    </tr>\n",
       "    <tr>\n",
       "      <th>Soft21</th>\n",
       "      <td>0.000000</td>\n",
       "    </tr>\n",
       "    <tr>\n",
       "      <th>BJ</th>\n",
       "      <td>0.076923</td>\n",
       "    </tr>\n",
       "    <tr>\n",
       "      <th>Bust</th>\n",
       "      <td>0.212109</td>\n",
       "    </tr>\n",
       "  </tbody>\n",
       "</table>\n",
       "</div>"
      ],
      "text/plain": [
       "               0\n",
       "0       0.000000\n",
       "Hard2   0.000000\n",
       "Hard3   0.000000\n",
       "Hard4   0.000000\n",
       "Hard5   0.000000\n",
       "Hard6   0.000000\n",
       "Hard7   0.000000\n",
       "Hard8   0.000000\n",
       "Hard9   0.000000\n",
       "Hard10  0.000000\n",
       "Hard11  0.000000\n",
       "Hard12  0.000000\n",
       "Hard13  0.000000\n",
       "Hard14  0.000000\n",
       "Hard15  0.000000\n",
       "Hard16  0.000000\n",
       "Hard17  0.111424\n",
       "Hard18  0.111424\n",
       "Hard19  0.111424\n",
       "Hard20  0.342194\n",
       "Hard21  0.034501\n",
       "Face    0.000000\n",
       "Soft11  0.000000\n",
       "Soft12  0.000000\n",
       "Soft13  0.000000\n",
       "Soft14  0.000000\n",
       "Soft15  0.000000\n",
       "Soft16  0.000000\n",
       "Soft17  0.000000\n",
       "Soft18  0.000000\n",
       "Soft19  0.000000\n",
       "Soft20  0.000000\n",
       "Soft21  0.000000\n",
       "BJ      0.076923\n",
       "Bust    0.212109"
      ]
     },
     "execution_count": 87,
     "metadata": {},
     "output_type": "execute_result"
    }
   ],
   "source": [
    "pd.DataFrame(np.matmul(np.linalg.matrix_power(np.array(df.transpose()), 20), np.array([0] * 21 + [1] + 13 * [0])), index=index)"
   ]
  }
 ],
 "metadata": {
  "kernelspec": {
   "display_name": "Python 3",
   "language": "python",
   "name": "python3"
  },
  "language_info": {
   "codemirror_mode": {
    "name": "ipython",
    "version": 3
   },
   "file_extension": ".py",
   "mimetype": "text/x-python",
   "name": "python",
   "nbconvert_exporter": "python",
   "pygments_lexer": "ipython3",
   "version": "3.7.3"
  }
 },
 "nbformat": 4,
 "nbformat_minor": 2
}

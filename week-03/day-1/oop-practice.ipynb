{
 "cells": [
  {
   "cell_type": "markdown",
   "metadata": {},
   "source": [
    "# Library\n",
    "\n",
    "You are going to create a simple library where you can store books in a\n",
    "bookshelf.\n",
    "\n",
    "## Book\n",
    "\n",
    "- Book has an author, a title and a release year\n",
    "- Book should have an `toString` method that returns a string in this format:\n",
    "  - Douglas Adams : The Hitchhiker's Guide to the Galaxy (1979)\n",
    "\n",
    "## Bookshelf\n",
    "\n",
    "- Bookshelf has a list of books in it\n",
    "- It must be able to add books to the bookshelf\n",
    "- It must be able to remove books from the bookshelf\n",
    "- It must have a `favouriteAuthor` method which must be able to return who has\n",
    "  written the most books in the shelf\n",
    "- It must have a `earliestPublished` method which must be able to return the\n",
    "  earliest published book.\n",
    "- It must have a `latestPublished` method which must be able to return the\n",
    "  latest published book.\n",
    "- It must have a `toString` method which give us information about the number of\n",
    "  books, the earliest and the latest released books, and the favourite author."
   ]
  },
  {
   "cell_type": "code",
   "execution_count": 73,
   "metadata": {},
   "outputs": [],
   "source": [
    "class Book:\n",
    "    def __init__(self, author, title, releaseYear):\n",
    "        self.author = author\n",
    "        self.title = title\n",
    "        self.year = releaseYear\n",
    "        \n",
    "    def __str__(self):\n",
    "        return f\"{self.author}: {self.title} ({self.year})\"\n",
    "    \n",
    "class Bookshelf:\n",
    "    def __init__(self):\n",
    "        self.books = []\n",
    "        \n",
    "    def add(self, book):\n",
    "        if isinstance(book, Book):\n",
    "            self.books.append(book)\n",
    "        else:\n",
    "            raise Exception(\"This is not a book.\")\n",
    "    \n",
    "    def remove(self, book):\n",
    "        self.books.remove(book)\n",
    "        \n",
    "    def favouriteAuthor(self):\n",
    "        authors = {}\n",
    "        for book in self.books:\n",
    "            if authors.get(book.author):\n",
    "                authors[book.author] += 1\n",
    "            else:\n",
    "                authors.setdefault(book.author, 1)\n",
    "        favoriteAuthors = []\n",
    "        m = max(authors.values())\n",
    "        for k, v in authors.items():\n",
    "            if v == m:\n",
    "                favoriteAuthors.append(k)\n",
    "        return favoriteAuthors\n",
    "    \n",
    "    def earliestPublished(self):\n",
    "        years = {}\n",
    "        for book in self.books:\n",
    "            if years.get(book.year):\n",
    "                years[book.year].append(book.title)\n",
    "            else:\n",
    "                years.setdefault(book.year, [book.title])\n",
    "        return years[min(years)]\n",
    "        \n",
    "    def latestPublished(self):\n",
    "        years = {}\n",
    "        for book in self.books:\n",
    "            if years.get(book.year):\n",
    "                years[book.year].append(book.title)\n",
    "            else:\n",
    "                years.setdefault(book.year, [book.title])\n",
    "        return years[max(years)]\n",
    "        \n",
    "    def toString(self):\n",
    "        print(f\"The number of book(s): {len(self.books)},\\n\\\n",
    "The earliest released book(s): {self.earliestPublished()},\\n\\\n",
    "The latest released book(s): {self.latestPublished()},\\n\\\n",
    "Favorite author(s): {self.favouriteAuthor()}\")\n",
    "        "
   ]
  },
  {
   "cell_type": "code",
   "execution_count": 76,
   "metadata": {},
   "outputs": [
    {
     "name": "stdout",
     "output_type": "stream",
     "text": [
      "Ernst H. Gombrich: title2 (1950)\n",
      "\n",
      "\n",
      "The number of book(s): 4,\n",
      "The earliest released book(s): ['The Story of Art', 'title2'],\n",
      "The latest released book(s): ['Sapiens: A Brief History of Humankind', 'title1'],\n",
      "Favorite author(s): ['Ernst H. Gombrich', 'Yuval Noah Harari']\n"
     ]
    }
   ],
   "source": [
    "b1 = Book(\"Ernst H. Gombrich\", \"The Story of Art\", 1950)\n",
    "b2 = Book(\"Yuval Noah Harari\", \"Sapiens: A Brief History of Humankind\", 2011)\n",
    "b3 = Book(\"Yuval Noah Harari\", \"title1\", 2011)\n",
    "b4 = Book(\"Ernst H. Gombrich\", \"title2\", 1950)\n",
    "print(b4)\n",
    "\n",
    "bookshelf = Bookshelf()\n",
    "bookshelf.add(b1)\n",
    "bookshelf.add(b2)\n",
    "bookshelf.add(b3)\n",
    "bookshelf.add(b4)\n",
    "\n",
    "print(\"\\n\")\n",
    "bookshelf.toString()"
   ]
  },
  {
   "cell_type": "code",
   "execution_count": 69,
   "metadata": {},
   "outputs": [
    {
     "data": {
      "text/plain": [
       "[<__main__.Book at 0x1e6453be358>,\n",
       " <__main__.Book at 0x1e6453be518>,\n",
       " <__main__.Book at 0x1e6453be4e0>]"
      ]
     },
     "execution_count": 69,
     "metadata": {},
     "output_type": "execute_result"
    }
   ],
   "source": [
    "bookshelf.remove(b1)\n",
    "bookshelf.books"
   ]
  },
  {
   "cell_type": "markdown",
   "metadata": {},
   "source": [
    "# Bookshelf\n",
    "\n",
    "Write a program which can store books in a bookshelf.\n",
    "\n",
    "There are two types of books.\n",
    "\n",
    "## Hardcover book\n",
    "\n",
    "- It should have the following fields: title, author, release year, page\n",
    "    number and weight.\n",
    "- The weight must be calculated from the number of pages (every page weighs\n",
    "    10 grams) plus the weight of the cover which is 100 grams.\n",
    "- It must have a method that returns a string which contains the following\n",
    "    information about the book: author, title and year.\n",
    "\n",
    "## Paperback book\n",
    "\n",
    "- It should have the following fields: title, author, release year, page\n",
    "    number and weight.\n",
    "- The weight must be calculated from the number of pages (every page weighs\n",
    "    10 grams) plus the weight of the cover which is 20 grams.\n",
    "- It must have a method that returns a string which contains the following\n",
    "    information about the book: author, title and year.\n",
    "\n",
    "You must be able to add books to the bookshelf and must have methods to answer\n",
    "the following problems:\n",
    "\n",
    "- Who is the author of the lightest book?\n",
    "- Which author wrote the most pages?"
   ]
  },
  {
   "cell_type": "code",
   "execution_count": 92,
   "metadata": {},
   "outputs": [],
   "source": [
    "class Hardcover:\n",
    "    def __init__(self, author, title, releaseYear, pageNumber, wpage = 10, wcover = 100):\n",
    "        self.title = title\n",
    "        self.author = author\n",
    "        self.year = releaseYear\n",
    "        self.npage = pageNumber\n",
    "        self.weight = wpage * self.npage + wcover\n",
    "        \n",
    "    def __str__(self):\n",
    "        return f\"{self.author}: {self.title} ({self.year})\"\n",
    "    \n",
    "class Paperback:\n",
    "    def __init__(self, author, title, releaseYear, pageNumber, wpage = 10, wcover = 20):\n",
    "        self.title = title\n",
    "        self.author = author\n",
    "        self.year = releaseYear\n",
    "        self.npage = pageNumber\n",
    "        self.weight = wpage * self.npage + wcover\n",
    "        \n",
    "    def __str__(self):\n",
    "        return f\"{self.author}: {self.title} ({self.year})\"\n",
    "    \n",
    "class Bookshelf:\n",
    "    def __init__(self):\n",
    "        self.books = []\n",
    "        \n",
    "    def add(self, book):\n",
    "        if isinstance(book, Paperback) or isinstance(book, Hardcover):\n",
    "            self.books.append(book)\n",
    "        else:\n",
    "            raise Exception(\"This is not a book.\")\n",
    "            \n",
    "    def who_wrote_the_lightest(self):\n",
    "        return min(self.books, key=lambda x: x.weight).author # return only one author even if others have the same weight\n",
    "        \n",
    "    def who_wrote_the_most_pages(self):\n",
    "        return max(self.books, key=lambda x: x.npage).author # return only one author even if others have the same page numbers\n",
    "        "
   ]
  },
  {
   "cell_type": "code",
   "execution_count": 95,
   "metadata": {},
   "outputs": [
    {
     "name": "stdout",
     "output_type": "stream",
     "text": [
      "\n",
      "\n",
      "Ernst H. Gombrich\n",
      "Yuval Noah Harari\n"
     ]
    }
   ],
   "source": [
    "b1 = Paperback(\"Ernst H. Gombrich\", \"The Story of Art\", 1950, 20)\n",
    "b2 = Paperback(\"Yuval Noah Harari\", \"Sapiens: A Brief History of Humankind\", 2011, 20)\n",
    "b3 = Hardcover(\"Yuval Noah Harari\", \"title1\", 2011, 500)\n",
    "b4 = Hardcover(\"Ernst H. Gombrich\", \"title2\", 1950, 20)\n",
    "\n",
    "bookshelf = Bookshelf()\n",
    "bookshelf.add(b1)\n",
    "bookshelf.add(b2)\n",
    "bookshelf.add(b3)\n",
    "bookshelf.add(b4)\n",
    "\n",
    "print(\"\\n\")\n",
    "print(bookshelf.who_wrote_the_lightest())\n",
    "print(bookshelf.who_wrote_the_most_pages())"
   ]
  },
  {
   "cell_type": "markdown",
   "metadata": {},
   "source": [
    "# Bank Account\n",
    "\n",
    "You are going to create a Bank Account where you can withdraw and deposit money.\n",
    "\n",
    "## Currency\n",
    "\n",
    "**Currency is an abstract class**\n",
    "\n",
    "- It must have a code, a central bank name and a value field.\n",
    "\n",
    "### USADollar\n",
    "\n",
    "**`USADollar` is a `Currency`**\n",
    "\n",
    "- It must accept a value.\n",
    "- The code must be \"USD\" by default.\n",
    "- The central bank name must be \"Federal Reserve System\" by default.\n",
    "\n",
    "### HungarianForint\n",
    "\n",
    "**`HungarianForint` is a `Currency`**\n",
    "\n",
    "- It must accept a value.\n",
    "- The code must be \"HUF\" by default.\n",
    "- The central bank name must be \"Hungarian National Bank\" by default.\n",
    "\n",
    "## BankAccount\n",
    "\n",
    "- It must have a name a pin code and a Currency.\n",
    "- It must have a `deposit` method that takes a `value` parameter\n",
    "  - check if the given parameter is positive\n",
    "  - then adds the parameter to the Currency's value field\n",
    "- It must have a `withdraw` method with two parameters: a pin code and an amount\n",
    "  - It must check if the given pin is correct (equals with the original pin)\n",
    "  - and the Currency's value is more than the amount parameter\n",
    "  - If so, subtract the amount from the Currency's value and return with the amount.\n",
    "  - Otherwise don't modify the Currency's value and return with 0.\n",
    "\n",
    "## Bank\n",
    "\n",
    "- It must have a `BankAccount` list.\n",
    "- It must have a `createAccount` method with a BankAccount as an input parameter\n",
    "  - it must add the `BankAccount` to the list\n",
    "- It should have a `getAllMoney` method, which returns the sum of\n",
    "  - the accounts' money (sum of Currency values regardless of the Currency type)."
   ]
  },
  {
   "cell_type": "code",
   "execution_count": 97,
   "metadata": {},
   "outputs": [],
   "source": [
    "class Currency:\n",
    "    def __init__(self, code, centralbank, value):\n",
    "        self.code = code\n",
    "        self.cbank = centralbank\n",
    "        self.value = value\n",
    "    \n",
    "class USADollar(Currency):\n",
    "    def __init__(self, value):\n",
    "        super().__init__(\"USD\", \"Federal Reserve System\", value)\n",
    "        \n",
    "class HungarianForint(Currency):\n",
    "    def __init__(self, value):\n",
    "        super().__init__(\"HUF\", \"Hungarian National Bank\", value)\n",
    "        \n",
    "class BankAccount:\n",
    "    def __init__(self, name, pincode, currency):\n",
    "        self.name = name\n",
    "        self.pincode = pincode\n",
    "        self.currency = currency\n",
    "    \n",
    "    def deposite(self, value):\n",
    "        if value > 0:\n",
    "            self.currency.value += value\n",
    "        else:\n",
    "            raise Exception(\"Value is non-positive\")\n",
    "\n",
    "    def withdraw(self, pincode, amount):\n",
    "        if pincode == self.pincode:\n",
    "            if self.currency.value > amount:\n",
    "                self.currency.value -= amount\n",
    "                return amount\n",
    "            else:\n",
    "                return 0\n",
    "        else:\n",
    "            raise Exception(\"Wrong password.\")\n",
    "            \n",
    "class Bank:\n",
    "    def __init__(self):\n",
    "        self.BankAccounts = []\n",
    "    \n",
    "    def createAccount(self, bankAccount):\n",
    "        self.BankAccounts.append(bankAccount)\n",
    "    \n",
    "    def getAllMoney(self):\n",
    "        output = 0\n",
    "        for account in self.BankAccounts:\n",
    "            output += account.currency.value\n",
    "        return output"
   ]
  },
  {
   "cell_type": "code",
   "execution_count": 105,
   "metadata": {},
   "outputs": [
    {
     "name": "stdout",
     "output_type": "stream",
     "text": [
      "HUF\n"
     ]
    },
    {
     "data": {
      "text/plain": [
       "10"
      ]
     },
     "execution_count": 105,
     "metadata": {},
     "output_type": "execute_result"
    }
   ],
   "source": [
    "account = BankAccount(\"John\", \"321456\", HungarianForint(0))\n",
    "account.deposite(20)\n",
    "account.withdraw(\"321456\", 10)\n",
    "print(account.currency.code)\n",
    "cBank = Bank()\n",
    "cBank.createAccount(account)\n",
    "cBank.getAllMoney()"
   ]
  },
  {
   "cell_type": "markdown",
   "metadata": {},
   "source": [
    "### Hospital simulator\n",
    "\n",
    "Now you are going to create a simple hospital simulator game. We will need\n",
    "patients, a hospital and different kinds of queues to handle our patients.\n",
    "You can implement the necessary classes in any order, but I suggest you to\n",
    "follow the descriptions below.\n",
    "\n",
    "#### Patient class\n",
    "\n",
    "The *Patient* class doesn't depend on any other classes.\n",
    "It has two methods:\n",
    "\n",
    "- One to retrieve the severity of the disease.\n",
    "- One to treat the patient, it must decrease the severity by 1.\n",
    "\n",
    "The severity is a random number between 1 and 10, you can set it in the\n",
    "constructor or at the field declaration.\n",
    "*Keep in mind, the severity cannot go below 0*\n",
    "\n",
    "#### Queue class\n",
    "\n",
    "If you have *Patient*s you can create an abstract *Queue* class. It will hold\n",
    "the patients waiting for treatment.\n",
    "\n",
    "- It should have a method to add *Patient*s to the queue.\n",
    "- It should have an abstract method to get the next patient.\n",
    "\n",
    "The implementation is up to you, you can store the patients in any data structure.\n",
    "\n",
    "#### Hospital class\n",
    "\n",
    "Since you have *Queue* class and *Patient*s you can implement your *Hospital*\n",
    "class as well. Which must fulfill the following requirements:\n",
    "\n",
    "- It has a *Queue* which is set through the constructor.\n",
    "- It has a method to add a *Patient* to the queue.\n",
    "- It has a method to treat the next patient in the queue.\n",
    "\n",
    "#### SafeQueue class\n",
    "\n",
    "The safe queue is a special queue which is not abstract anymore. Its method\n",
    "to retrieve the next patient has the following specification\n",
    "\n",
    "- It always returns the patient with the highest severity.\n",
    "- If there are more patients with the same severity you can pick one, it is up to\n",
    "  you which one is returned.\n",
    "- Patients with 0 severity can be skipped or removed from the queue.\n",
    "- You can return `null` if all the patients have 0 severity or the queue is empty\n",
    "\n",
    "#### ClassicQueue class\n",
    "\n",
    "The classic queue is a special queue which is not abstract anymore. Its method\n",
    "to retrieve the next patient has the following specification\n",
    "\n",
    "- It should return always the next patient. (You need to track who was the\n",
    "  last treated patient.)\n",
    "- It should handle the cycles, so after the last patient it must return the\n",
    "  first one again.\n",
    "- Patients with 0 severity won't be returned ever. (You can remove them from the\n",
    "  queue or just simple skip them)\n",
    "- You can return `null` if all the patients have 0 severity or the queue is empty"
   ]
  },
  {
   "cell_type": "code",
   "execution_count": 333,
   "metadata": {},
   "outputs": [],
   "source": [
    "from random import randint\n",
    "\n",
    "class Patient:\n",
    "    def __init__(self):\n",
    "        self.severity = randint(0, 10)\n",
    "        \n",
    "    def getSeverity(self):\n",
    "        return self.severity\n",
    "    \n",
    "    def treat(self):\n",
    "        if self.severity != 0:\n",
    "            self.severity -= 1\n",
    "            \n",
    "\n",
    "class Queue:\n",
    "    def __init__(self):\n",
    "        self.index = -1\n",
    "        self.queue = []\n",
    "        \n",
    "    def add(self, patient):\n",
    "        self.queue.append(patient)\n",
    "    \n",
    "    def nextP(self):\n",
    "        pass\n",
    "\n",
    "    \n",
    "class Hospital:\n",
    "    def __init__(self, Queue):\n",
    "        self.queue = Queue()\n",
    "        \n",
    "    def add(self, patient):\n",
    "        self.queue.add(patient)\n",
    "        \n",
    "    def treatNext(self):\n",
    "        p = self.queue.nextP()\n",
    "        if p != None:\n",
    "            p.treat()\n",
    "        else:\n",
    "            print(\"There is no more patient.\")\n",
    "\n",
    "        \n",
    "class SafeQueue(Queue):\n",
    "    def __init__(self):\n",
    "        super().__init__()\n",
    "        \n",
    "    def nextP(self):\n",
    "        PwithMaxiumSeverity = max(self.queue, key=lambda x: x.getSeverity())\n",
    "        if PwithMaxiumSeverity.getSeverity() != 0:\n",
    "            return PwithMaxiumSeverity\n",
    "        else:\n",
    "            return None\n",
    "\n",
    "\n",
    "class ClassicQueue(Queue):\n",
    "    def __init__(self):\n",
    "        self.index = -1\n",
    "        self.countZero = -1\n",
    "        super().__init__()\n",
    "        \n",
    "    def nextP(self):\n",
    "        self.index += 1\n",
    "        try:\n",
    "            patient = self.queue[self.index]\n",
    "            if patient.severity != 0:\n",
    "                return patient\n",
    "            else:\n",
    "                self.countZero += 1\n",
    "                self.nextP()\n",
    "        except IndexError:\n",
    "            if self.index == self.countZero:\n",
    "                return None\n",
    "            self.countZero = self.index = -1\n",
    "            self.nextP()"
   ]
  },
  {
   "cell_type": "code",
   "execution_count": 362,
   "metadata": {},
   "outputs": [
    {
     "name": "stdout",
     "output_type": "stream",
     "text": [
      "10\n",
      "0\n",
      "3\n"
     ]
    }
   ],
   "source": [
    "Joe = Patient()\n",
    "jh.add(Joe)\n",
    "print(Joe.getSeverity())\n",
    "\n",
    "Holmes = Patient()\n",
    "jh.add(Holmes)\n",
    "print(Holmes.getSeverity())\n",
    "\n",
    "Joan = Patient()\n",
    "jh.add(Joan)\n",
    "print(Joan.getSeverity())"
   ]
  },
  {
   "cell_type": "code",
   "execution_count": null,
   "metadata": {},
   "outputs": [],
   "source": [
    "jh = Hospital(SafeQueue)"
   ]
  },
  {
   "cell_type": "code",
   "execution_count": 361,
   "metadata": {},
   "outputs": [
    {
     "name": "stdout",
     "output_type": "stream",
     "text": [
      "There is no more patient.\n"
     ]
    },
    {
     "data": {
      "text/plain": [
       "0"
      ]
     },
     "execution_count": 361,
     "metadata": {},
     "output_type": "execute_result"
    }
   ],
   "source": [
    "# for i in range(13)\n",
    "jh.treatNext()\n",
    "Holmes.getSeverity()"
   ]
  },
  {
   "cell_type": "code",
   "execution_count": null,
   "metadata": {},
   "outputs": [],
   "source": [
    "jh = Hospital(ClassicQueue)"
   ]
  },
  {
   "cell_type": "code",
   "execution_count": 360,
   "metadata": {},
   "outputs": [
    {
     "name": "stdout",
     "output_type": "stream",
     "text": [
      "There is no more patient.\n",
      "Holmes: 0\n",
      "Joe: 0\n",
      "Joan: 0\n"
     ]
    }
   ],
   "source": [
    "# for i in range(13)\n",
    "jh.treatNext()\n",
    "print(f\"Holmes: {Holmes.getSeverity()}\\n\\\n",
    "Joe: {Joe.getSeverity()}\\n\\\n",
    "Joan: {Joan.getSeverity()}\")"
   ]
  },
  {
   "cell_type": "markdown",
   "metadata": {},
   "source": [
    "### Forest simulator\n",
    "\n",
    "You are going to model a Forest with rain and a lumberjack who cuts tall trees.\n",
    "\n",
    "#### Tree\n",
    "\n",
    "- Trees should have a height.\n",
    "- We must be able to create trees in two ways:\n",
    "  - providing `height`\n",
    "  - not providing `height`, in this case the height will be 0 by default.\n",
    "- It must have an `irrigate` method which will increase the height of the tree. It must be an abstract method and implementation should depend on the type of the tree.\n",
    "- It must have a `getHeight` method which returns the tree's height.\n",
    "\n",
    "##### WhitebarkPine\n",
    "\n",
    "- This tree type grows by 2 units each time its irrigated.\n",
    "\n",
    "##### FoxtailPine\n",
    "\n",
    "- This tree type grows by 1 unit each time its irrigated.\n",
    "\n",
    "#### Lumberjack\n",
    "\n",
    "You must be able to create a lumberjack without providing any parameters.\n",
    "\n",
    "- It must have a `canCut(tree)` method which takes a tree as parameter and returns true if its taller than 4 units.\n",
    "\n",
    "#### Forest\n",
    "\n",
    "- It should have a list of trees.\n",
    "- We should be able to create a forest by providing the trees that live there.\n",
    "- It must have a `rain` which should iterate through the trees and irrigate them one by one.\n",
    "- It must have a `cutTrees(lumberjack)` which should remove all the trees which can be cut by the lumberjack. (It calls the `canCut` method on the lumberjack).\n",
    "- It must have an `isEmpty` method which returns true if there is no tree in the forest.\n",
    "- It must have a `getStatus` method which returns an array with status reports about each tree in the forest. eg.:\n",
    "\n",
    "```\n",
    "[\n",
    "  'There is a 3 tall WhitebarkPine in the forest.',\n",
    "  'There is a 2 tall WhitebarkPine in the forest.',\n",
    "  'There is a 4 tall FoxtailPine in the forest.'\n",
    "]\n",
    "```"
   ]
  },
  {
   "cell_type": "code",
   "execution_count": 406,
   "metadata": {},
   "outputs": [],
   "source": [
    "class Tree:\n",
    "    def __init__(self, height=0):\n",
    "        self.height = height\n",
    "    \n",
    "    def irrigate(self):\n",
    "        pass\n",
    "    \n",
    "    def getHeight(self):\n",
    "        return self.height\n",
    "    \n",
    "\n",
    "class WhitebarkPine(Tree):\n",
    "    def __init__(self, height=0):\n",
    "        super().__init__(height)\n",
    "        \n",
    "    def irrigate(self):\n",
    "        self.height += 2\n",
    "        \n",
    "        \n",
    "class FoxtailPine(Tree):\n",
    "    def __init__(self, height=0):\n",
    "        super().__init__(height)\n",
    "        \n",
    "    def irrigate(self):\n",
    "        self.height += 1\n",
    "        \n",
    "        \n",
    "class Lumberjack:\n",
    "    def canCut(self, tree):\n",
    "        if tree.getHeight() > 4:\n",
    "            return True\n",
    "        \n",
    "        \n",
    "class Forest:\n",
    "    def __init__(self):\n",
    "        self.trees = []\n",
    "    \n",
    "    def plant(self, tree):\n",
    "        self.trees.append(tree)\n",
    "        \n",
    "    def rain(self):\n",
    "        for tree in self.trees:\n",
    "            tree.irrigate()  \n",
    "            \n",
    "    def cutTrees(self, lumberjack):\n",
    "        self.trees = [tree for tree in self.trees if not lumberjack.canCut(tree)]\n",
    "    \n",
    "    def isEmpty(self):\n",
    "        return len(self.trees) == 0\n",
    "        \n",
    "    def getStatus(self):\n",
    "        for tree in self.trees:\n",
    "            print(f\"There is a {tree.height} tall {type(tree).__name__} in the forest.\")"
   ]
  },
  {
   "cell_type": "code",
   "execution_count": 407,
   "metadata": {},
   "outputs": [],
   "source": [
    "forest = Forest()\n",
    "\n",
    "l = [WhitebarkPine, FoxtailPine]\n",
    "\n",
    "for i in range(8):\n",
    "    forest.plant(l[randint(0, 1)](height=randint(0, 8)))"
   ]
  },
  {
   "cell_type": "code",
   "execution_count": 408,
   "metadata": {},
   "outputs": [
    {
     "name": "stdout",
     "output_type": "stream",
     "text": [
      "There is a 6 tall WhitebarkPine in the forest.\n",
      "There is a 6 tall WhitebarkPine in the forest.\n",
      "There is a 7 tall WhitebarkPine in the forest.\n",
      "There is a 8 tall FoxtailPine in the forest.\n",
      "There is a 2 tall FoxtailPine in the forest.\n",
      "There is a 4 tall FoxtailPine in the forest.\n",
      "There is a 8 tall FoxtailPine in the forest.\n",
      "There is a 0 tall FoxtailPine in the forest.\n"
     ]
    }
   ],
   "source": [
    "forest.getStatus()"
   ]
  },
  {
   "cell_type": "code",
   "execution_count": 409,
   "metadata": {},
   "outputs": [],
   "source": [
    "forest.cutTrees(Lumberjack())"
   ]
  },
  {
   "cell_type": "code",
   "execution_count": 410,
   "metadata": {},
   "outputs": [
    {
     "name": "stdout",
     "output_type": "stream",
     "text": [
      "There is a 2 tall FoxtailPine in the forest.\n",
      "There is a 4 tall FoxtailPine in the forest.\n",
      "There is a 0 tall FoxtailPine in the forest.\n"
     ]
    }
   ],
   "source": [
    "forest.getStatus()"
   ]
  },
  {
   "cell_type": "code",
   "execution_count": 414,
   "metadata": {},
   "outputs": [],
   "source": [
    "forest.rain()\n",
    "forest.rain()\n",
    "forest.rain()\n",
    "forest.rain()"
   ]
  },
  {
   "cell_type": "code",
   "execution_count": 415,
   "metadata": {},
   "outputs": [
    {
     "name": "stdout",
     "output_type": "stream",
     "text": [
      "There is a 7 tall FoxtailPine in the forest.\n",
      "There is a 9 tall FoxtailPine in the forest.\n",
      "There is a 5 tall FoxtailPine in the forest.\n"
     ]
    }
   ],
   "source": [
    "forest.getStatus()"
   ]
  },
  {
   "cell_type": "code",
   "execution_count": null,
   "metadata": {},
   "outputs": [],
   "source": []
  }
 ],
 "metadata": {
  "kernelspec": {
   "display_name": "Python 3",
   "language": "python",
   "name": "python3"
  },
  "language_info": {
   "codemirror_mode": {
    "name": "ipython",
    "version": 3
   },
   "file_extension": ".py",
   "mimetype": "text/x-python",
   "name": "python",
   "nbconvert_exporter": "python",
   "pygments_lexer": "ipython3",
   "version": "3.7.3"
  }
 },
 "nbformat": 4,
 "nbformat_minor": 2
}

{
 "cells": [
  {
   "cell_type": "markdown",
   "metadata": {},
   "source": [
    "# Sorting algorithms\n",
    "\n",
    "## Materials & Resources\n",
    "\n",
    "| Material                                    | Time |\n",
    "|:--------------------------------------------|-----:|\n",
    "| [Bubble sort](https://youtu.be/lyZQPjUT5B4) | 5:15 |\n",
    "\n",
    "### Optional\n",
    "\n",
    "| Material                                       |  Time |\n",
    "|:-----------------------------------------------|------:|\n",
    "| [Insertion sort](https://youtu.be/ROalU379l3U) |  4:04 |\n",
    "| [Quicksort](https://youtu.be/ywWBy6J5gz8)      |  6:55 |\n",
    "| [Merge sort](https://youtu.be/XaqR3G_NVoo)     |  4:17 |\n",
    "| [Heapsort](https://youtu.be/Xw2D9aJRBY4)       | 10:25 |\n",
    "\n",
    "## Material Review\n",
    "\n",
    "- What is a sorting algorithm?\n",
    "  <!--\n",
    "    A sorting algorithm is an algorithm that puts elements of a list in a\n",
    "    certain order.\n",
    "  -->\n",
    "- Why do we have so many different sorting algorithms?\n",
    "  <!--\n",
    "    They satisfy different use-cases.\n",
    "    They were not developed at the same time.\n",
    "  -->\n",
    "\n",
    "## Workshop"
   ]
  },
  {
   "cell_type": "code",
   "execution_count": 41,
   "metadata": {},
   "outputs": [
    {
     "name": "stdout",
     "output_type": "stream",
     "text": [
      "The pycodestyle_magic extension is already loaded. To reload it, use:\n",
      "  %reload_ext pycodestyle_magic\n"
     ]
    }
   ],
   "source": [
    "# !pip install pycodestyle flake8 pycodestyle_magic\n",
    "%load_ext pycodestyle_magic\n",
    "\n",
    "## test cases\n",
    "array1 = []\n",
    "array2 = [1]\n",
    "array3 = [5, 0, 3, 2, 7, 1, 4, 6]\n",
    "\n",
    "def printTest(fun, *args):\n",
    "    for a in args:\n",
    "        print(fun(a))"
   ]
  },
  {
   "cell_type": "markdown",
   "metadata": {},
   "source": [
    "- Bubble sort"
   ]
  },
  {
   "cell_type": "code",
   "execution_count": 42,
   "metadata": {},
   "outputs": [
    {
     "name": "stdout",
     "output_type": "stream",
     "text": [
      "[]\n",
      "[1]\n",
      "[0, 1, 2, 3, 4, 5, 6, 7]\n"
     ]
    }
   ],
   "source": [
    "def bubbleSort(a):\n",
    "    n = len(a)\n",
    "    while n > 1:\n",
    "        for i in range(n - 1):\n",
    "            if a[i] > a[i + 1]:\n",
    "                a[i], a[i + 1] = a[i + 1], a[i]\n",
    "        n -= 1\n",
    "    return a\n",
    "\n",
    "\n",
    "printTest(bubbleSort, array1, array2, array3)"
   ]
  },
  {
   "cell_type": "markdown",
   "metadata": {},
   "source": [
    "- Insertion sort"
   ]
  },
  {
   "cell_type": "code",
   "execution_count": 46,
   "metadata": {},
   "outputs": [
    {
     "name": "stdout",
     "output_type": "stream",
     "text": [
      "[]\n",
      "[1]\n",
      "[0, 1, 2, 3, 4, 5, 6, 7]\n"
     ]
    }
   ],
   "source": [
    "def insertionSort(a):\n",
    "    for i in range(len(a) - 1):\n",
    "        while a[i] > a[i + 1]:\n",
    "            a[i], a[i + 1] = a[i + 1], a[i]\n",
    "            i -= 1\n",
    "    return(a)\n",
    "\n",
    "\n",
    "printTest(insertionSort, array1, array2, array3)"
   ]
  },
  {
   "cell_type": "markdown",
   "metadata": {},
   "source": [
    "- Quicksort"
   ]
  },
  {
   "cell_type": "code",
   "execution_count": null,
   "metadata": {},
   "outputs": [],
   "source": [
    "\n",
    "\n"
   ]
  },
  {
   "cell_type": "markdown",
   "metadata": {},
   "source": [
    "- Merge sort"
   ]
  },
  {
   "cell_type": "code",
   "execution_count": null,
   "metadata": {},
   "outputs": [],
   "source": []
  },
  {
   "cell_type": "markdown",
   "metadata": {},
   "source": [
    "- Heapsort"
   ]
  },
  {
   "cell_type": "code",
   "execution_count": null,
   "metadata": {},
   "outputs": [],
   "source": []
  }
 ],
 "metadata": {
  "kernelspec": {
   "display_name": "Python 3",
   "language": "python",
   "name": "python3"
  },
  "language_info": {
   "codemirror_mode": {
    "name": "ipython",
    "version": 3
   },
   "file_extension": ".py",
   "mimetype": "text/x-python",
   "name": "python",
   "nbconvert_exporter": "python",
   "pygments_lexer": "ipython3",
   "version": "3.7.3"
  }
 },
 "nbformat": 4,
 "nbformat_minor": 2
}

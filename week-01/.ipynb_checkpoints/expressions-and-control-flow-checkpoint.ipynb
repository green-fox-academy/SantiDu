{
 "cells": [
  {
   "cell_type": "markdown",
   "metadata": {},
   "source": [
    "# Expressions and Control Flow\n",
    "\n",
    "Get into *real* programming, installing a development environment and then\n",
    "running our first programs.\n",
    "\n",
    "## Materials & Resources\n",
    "\n",
    "| Material                                                                                             |  Time |\n",
    "|:-----------------------------------------------------------------------------------------------------|------:|\n",
    "| [Python Programming Tutorial - 1 - Installing Python](https://www.youtube.com/watch?v=HBxCHonP6Ro)   |  5:24 |\n",
    "| [Python Programming Tutorial - 2 - Numbers](https://www.youtube.com/watch?v=hnxIRVZ0EyU)             |  5:28 |\n",
    "| [Python Programming Tutorial - 3 - String](https://www.youtube.com/watch?v=nefopNkZmB4)              |  8:24 |\n",
    "| [Python Programming Tutorial - 4 - Slicing up Strings](https://www.youtube.com/watch?v=YbipxqSKx-E)  |  5:40 |\n",
    "| [Python Programming Tutorial - 5 - Lists](https://www.youtube.com/watch?v=1yUn-ydsgKk)               |  7:43 |\n",
    "| [Python Programming Tutorial - 7 - if elif else](https://www.youtube.com/watch?v=bk22K1m0890)        |  9:11 |\n",
    "| [Python Programming Tutorial - 8 - for](https://www.youtube.com/watch?v=llguiJHU0kk)                 |  7:08 |\n",
    "| [Python Programming Tutorial - 9 - Range and While](https://www.youtube.com/watch?v=Neir-vgPyxw)     |  6:13 |\n",
    "| [Python Programming Tutorial - 10 - Comments and Break](https://www.youtube.com/watch?v=k6rkvgQkW04) | 10:06 |\n",
    "| [Python 3 Programming Tutorial - Getting user input](https://www.youtube.com/watch?v=ArL54Nmx9oU0)   |  1:42 |\n",
    "| [Python Tutorial 4 - Input Function](https://www.youtube.com/watch?v=-Xyh9RUJuyE)                    |  6:40 |\n",
    "\n",
    "### Environment\n",
    "\n",
    "- Please install the latest Python from the 3.* version\n",
    "  [https://www.python.org/downloads/](https://www.python.org/downloads/)\n",
    "\n",
    "## Material Review\n",
    "\n",
    "- What is a programming language?\n",
    "- What type of programming language is Python?\n",
    "  <!-- an interpreted, high-level, general-purpose programming language -->\n",
    "- What do we need to write a program?\n",
    "  <!-- a text editor, VS Code, PyCharm -->\n",
    "- What is a statement?\n",
    "  <!-- syntactic unit that expresses some action to be carried out -->\n",
    "- What is a variable?\n",
    "- What is variable declaration?\n",
    "- What is variable assignment?\n",
    "- What kind of variable types do you know?\n",
    "  <!-- byte, int, float, boolean, char, String -->\n",
    "- What is an operator?\n",
    "- What type of operators do you know?\n",
    "  <!--\n",
    "    arithmetic operators:\n",
    "      additive (+),\n",
    "      subtraction (-),\n",
    "      multiplication (*),\n",
    "      division (/),\n",
    "      floor division (//),\n",
    "      remainder (%)\n",
    "\n",
    "    unary operators:\n",
    "      increment (++),\n",
    "      decrement (--),\n",
    "      logical complement (not)\n",
    "\n",
    "    equality and relational operators:\n",
    "      equal to (==),\n",
    "      not equal to (!=),\n",
    "      greater than (>),\n",
    "      greater than or equal to (>=),\n",
    "      less than (<),\n",
    "      less than or equal to (<=)\n",
    "\n",
    "    conditional operators:\n",
    "      conditional-AND (and),\n",
    "      conditional-OR (or)\n",
    "    -->\n",
    "- What is the *Hello World!* application?\n",
    "- What is string concatenation?\n",
    "- What is a *block*?\n",
    "- What is an *if* statement?\n",
    "- What is a *for-loop* statement?\n",
    "- What is a *while-loop* statement?\n",
    "- How can you get input from the user via command line?\n",
    "\n",
    "## Bookmark\n",
    "\n",
    "We recommend you to bookmark this online tool: http://pythontutor.com/\n",
    "\n",
    "It helps you to visualize code execution.\n",
    "\n",
    "## Workshop\n",
    "\n",
    "💪 : If you see this emoji, it means that you can skip the exercise if you are\n",
    "in lack of time. You can pracitce with these exercises later to deepen your\n",
    "knowledge (or to prepare for the exam).\n",
    "\n",
    "### Printing to the terminal window\n",
    "\n",
    "#### Hello World\n",
    "\n",
    "```python\n",
    "# Prints \"Hello, World!\" to the terminal window.\n",
    "print(\"Hello, World!\")\n",
    "```\n",
    "\n",
    "#### Exercises\n",
    "* hello-me"
   ]
  },
  {
   "cell_type": "code",
   "execution_count": 1,
   "metadata": {},
   "outputs": [
    {
     "name": "stdout",
     "output_type": "stream",
     "text": [
      "Hello, Santi!\n"
     ]
    }
   ],
   "source": [
    "# Modify this program to greet you instead of the World\n",
    "print(\"Hello, Santi!\")"
   ]
  },
  {
   "cell_type": "markdown",
   "metadata": {},
   "source": [
    "* humpty_dumpty"
   ]
  },
  {
   "cell_type": "code",
   "execution_count": 2,
   "metadata": {},
   "outputs": [
    {
     "name": "stdout",
     "output_type": "stream",
     "text": [
      "Humpty Dumpty sat on a wall,\n",
      "Humpty Dumpty had a great fall.\n",
      "All the king's horses and all the king's men\n",
      "Couldn't put Humpty together again.\n"
     ]
    }
   ],
   "source": [
    "# Modify this program to print Humpty Dumpty riddle correctly\n",
    "print(\"\"\"Humpty Dumpty sat on a wall,\n",
    "Humpty Dumpty had a great fall.\n",
    "All the king's horses and all the king's men\n",
    "Couldn't put Humpty together again.\"\"\")"
   ]
  },
  {
   "cell_type": "markdown",
   "metadata": {},
   "source": [
    "* hello_others"
   ]
  },
  {
   "cell_type": "code",
   "execution_count": 3,
   "metadata": {},
   "outputs": [
    {
     "name": "stdout",
     "output_type": "stream",
     "text": [
      "Hello, Yuan Liao!\n",
      "Hello, ChangDong!\n",
      "Hello, Ke!\n"
     ]
    }
   ],
   "source": [
    "# Greet 3 of your classmates with this program, in three separate lines\n",
    "# like:\n",
    "#\n",
    "# Hello, Esther!\n",
    "# Hello, Mary!\n",
    "# Hello, Joe!\n",
    "print(\"Hello, Yuan Liao!\\nHello, ChangDong!\\nHello, Ke!\")"
   ]
  },
  {
   "cell_type": "markdown",
   "metadata": {},
   "source": [
    "### Types\n",
    "\n",
    "#### Print values with different types\n",
    "\n",
    "```python\n",
    "# Prints a string to the terminal window.\n",
    "print(\"Hello, World!\")\n",
    "\n",
    "# Prints an integer to the terminal window.\n",
    "print(42)\n",
    "\n",
    "# Prints a floating point number to the terminal window.\n",
    "print(3.141592)\n",
    "```\n",
    "\n",
    "#### Integers\n",
    "\n",
    "```python\n",
    "# Positive, negative and zero\n",
    "print(42) # Prints 42\n",
    "print(-1) # Prints -1\n",
    "print(0) # Prints 0\n",
    "```\n",
    "\n",
    "#### Floats\n",
    "\n",
    "```python\n",
    "# Positive, negative and zero\n",
    "print(3.1415) # Prints 3.1415\n",
    "print(-1.5) # Prints -1.5\n",
    "print(0.0) # Prints 0.0\n",
    "\n",
    "# Leading and closing zero is not mandatory\n",
    "print(.5) # Prints 0.5\n",
    "print(5.) # Prints 5.0\n",
    "```\n",
    "\n",
    "#### Number Operations\n",
    "\n",
    "```python\n",
    "#Arithmetric operations\n",
    "print(1 + 1) # Prints 2\n",
    "print(5 - 2) # Prints 3\n",
    "print(3 * 4) # Prints 12\n",
    "print(6 / 2) # Prints 3.0\n",
    "print(5 / 2) # Prints 2.5\n",
    "print(5 // 2) # Prints 2\n",
    "print(5 % 2) # Prints 1\n",
    "```\n",
    "\n",
    "#### Booleans\n",
    "\n",
    "```python\n",
    "# true, false\n",
    "print(True) # Prints True\n",
    "print(False) # Prints False\n",
    "\n",
    "# Boolean Operators\n",
    "# Negation\n",
    "print(not True) # Prints False\n",
    "print(not False) # Prints True\n",
    "\n",
    "# And\n",
    "print(True and True) # Prints True\n",
    "print(True and False) # Prints False\n",
    "print(False and True) # Prints False\n",
    "print(False and False) # Prints False\n",
    "\n",
    "# Or\n",
    "print(True or True) # Prints True\n",
    "print(True or False) # Prints True\n",
    "print(False or True) # Prints True\n",
    "print(False or False) # Prints False\n",
    "```\n",
    "\n",
    "#### Strings\n",
    "\n",
    "```python\n",
    "# String and special characters\n",
    "print(\"apple\") # Prints apple\n",
    "print(\"don't\") # Prints don't\n",
    "print(\"\\\"Everything you can imagine is real.\\\" - Picasso\") # Prints \"Everything you can imagine is real.\" - Picasso\n",
    "\n",
    "# String Operators\n",
    "# Concatination\n",
    "print(\"tooth\" + \"brush\") # Prints toothbrush\n",
    "\n",
    "# Concat string with number\n",
    "print(\"My favorite number is: \" + str(8)) # Prints My favorite number is: 8\n",
    "```\n",
    "\n",
    "#### Exercises\n",
    "\n",
    "* intorduce_yourself"
   ]
  },
  {
   "cell_type": "code",
   "execution_count": 4,
   "metadata": {},
   "outputs": [
    {
     "name": "stdout",
     "output_type": "stream",
     "text": [
      "Santi Du\n",
      "25\n",
      "1.85\n"
     ]
    }
   ],
   "source": [
    "# Write a program that prints a few details to the terminal window about you\n",
    "# It should print each detail to a new line.\n",
    "#  - Your name\n",
    "#  - Your age\n",
    "#  - Your height in meters (as a decimal fraction)\n",
    "#\n",
    "#  Example output:\n",
    "#  John Doe\n",
    "#  31\n",
    "#  1.87\n",
    "print(\"Santi Du\\n25\\n1.85\")"
   ]
  },
  {
   "cell_type": "markdown",
   "metadata": {},
   "source": [
    "* two_numbers"
   ]
  },
  {
   "cell_type": "code",
   "execution_count": 5,
   "metadata": {},
   "outputs": [
    {
     "name": "stdout",
     "output_type": "stream",
     "text": [
      "35 9 286 1.6923076923076923 1 9\n"
     ]
    }
   ],
   "source": [
    "# Create a program that prints a few operations on two numbers: 22 and 13\n",
    "\n",
    "# Print the result of 13 added to 22\n",
    "\n",
    "# Print the result of 13 substracted from 22\n",
    "\n",
    "# Print the result of 22 multiplied by 13\n",
    "\n",
    "# Print the result of 22 divided by 13 (as a decimal fraction)\n",
    "\n",
    "# Print the integer part of 22 divided by 13\n",
    "\n",
    "# Print the remainder of 22 divided by 13\n",
    "print(22 + 13, 22 - 13, 22 * 13, 22/13, 22//13, 22%13)"
   ]
  },
  {
   "cell_type": "markdown",
   "metadata": {},
   "source": [
    "* coding_hours"
   ]
  },
  {
   "cell_type": "code",
   "execution_count": 6,
   "metadata": {},
   "outputs": [
    {
     "name": "stdout",
     "output_type": "stream",
     "text": [
      "510\n",
      "57.69%\n"
     ]
    }
   ],
   "source": [
    "# An average Green Fox attendee codes 6 hours daily\n",
    "# The semester is 17 weeks long\n",
    "#\n",
    "# Print how many hours is spent with coding in a semester by an attendee,\n",
    "# if the attendee only codes on workdays.\n",
    "#\n",
    "# Print the percentage of the coding hours in the semester if the average\n",
    "# work hours weekly is 52\n",
    "print(6 * 5 * 17)\n",
    "print(str(round(6 * 5 * 17 / (52 * 17) * 100, 2)) + \"%\")"
   ]
  },
  {
   "cell_type": "markdown",
   "metadata": {},
   "source": [
    "### Variables\n",
    "\n",
    "#### Creating different variables for each type\n",
    "\n",
    "```python\n",
    "# String\n",
    "welcome = \"Hello, World\"\n",
    "print(welcome)\n",
    "\n",
    "# Boolean\n",
    "is_awesome = True\n",
    "print(is_awesome)\n",
    "\n",
    "# Integer\n",
    "the_meaning_of_life_and_the_universe_and_everything = 42\n",
    "print(the_meaning_of_life_and_the_universe_and_everything)\n",
    "\n",
    "# Floating point number\n",
    "pi = 3.141592\n",
    "print(pi)\n",
    "\n",
    "# Assigning and creating a variable, (define its value)\n",
    "number = 12\n",
    "\n",
    "# Mutate a variable, (redefine its value)\n",
    "number = 23\n",
    "```\n",
    "\n",
    "#### Arithmetic Assignment Operators\n",
    "\n",
    "```python\n",
    "a = 12\n",
    "a += 4\n",
    "print(a) # Prints 16\n",
    "\n",
    "b = 12\n",
    "b -= 4\n",
    "print(b) # Prints 8\n",
    "\n",
    "c = 12\n",
    "c *= 3\n",
    "print(c) # Prints 36\n",
    "\n",
    "d = 12\n",
    "d /= 3\n",
    "print(d) # Prints 4\n",
    "\n",
    "e = 12\n",
    "e %= 7\n",
    "print(e) # Prints 5\n",
    "```\n",
    "\n",
    "#### Exercises\n",
    "\n",
    "* favorite_number"
   ]
  },
  {
   "cell_type": "code",
   "execution_count": 7,
   "metadata": {},
   "outputs": [
    {
     "name": "stdout",
     "output_type": "stream",
     "text": [
      "My favorite number is: 8\n"
     ]
    }
   ],
   "source": [
    "favorite_number = 8\n",
    "# Store your favorite number in a variable (as a number)\n",
    "# And print it like this: \"My favorite number is: 8\"\n",
    "print(f\"My favorite number is: {favorite_number}\")"
   ]
  },
  {
   "cell_type": "markdown",
   "metadata": {},
   "source": [
    "* swap"
   ]
  },
  {
   "cell_type": "code",
   "execution_count": 8,
   "metadata": {},
   "outputs": [
    {
     "name": "stdout",
     "output_type": "stream",
     "text": [
      "123\n",
      "526\n",
      "526\n",
      "123\n"
     ]
    }
   ],
   "source": [
    "# Swap the values of the variables\n",
    "a = 123\n",
    "b = 526\n",
    "\n",
    "print(a)\n",
    "print(b)\n",
    "\n",
    "a, b = b, a\n",
    "print(a)\n",
    "print(b)"
   ]
  },
  {
   "cell_type": "markdown",
   "metadata": {},
   "source": [
    "* bmi"
   ]
  },
  {
   "cell_type": "code",
   "execution_count": 9,
   "metadata": {},
   "outputs": [
    {
     "name": "stdout",
     "output_type": "stream",
     "text": [
      "25.628077262971846\n"
     ]
    }
   ],
   "source": [
    "massInKg = 81.2\n",
    "heightInM = 1.78\n",
    "\n",
    "#Print the Body mass index (BMI) based on these values\n",
    "BMI = massInKg / heightInM**2\n",
    "print(BMI)"
   ]
  },
  {
   "cell_type": "markdown",
   "metadata": {},
   "source": [
    "* define_basic_info"
   ]
  },
  {
   "cell_type": "code",
   "execution_count": 10,
   "metadata": {},
   "outputs": [
    {
     "name": "stdout",
     "output_type": "stream",
     "text": [
      " Santi \n",
      " 25 \n",
      " 1.85 \n",
      " False \n",
      "\n",
      "Santi\n",
      "25\n",
      "1.85\n",
      "False\n"
     ]
    }
   ],
   "source": [
    "# Define several things as a variable then print their values\n",
    "# Your name as a string\n",
    "# Your age as an integer\n",
    "# Your height in meters as a float\n",
    "# Whether you are married or not as a boolean\n",
    "name = \"Santi\"\n",
    "age = 25\n",
    "height = 1.85\n",
    "married = False\n",
    "print(\" \"+name, \"\\n\", age, \"\\n\", height, \"\\n\", married, \"\\n\")\n",
    "print(f\"{name}\\n{age}\\n{height}\\n{married}\")"
   ]
  },
  {
   "cell_type": "markdown",
   "metadata": {},
   "source": [
    "- variable_mutation"
   ]
  },
  {
   "cell_type": "code",
   "execution_count": 11,
   "metadata": {},
   "outputs": [
    {
     "name": "stdout",
     "output_type": "stream",
     "text": [
      "13\n",
      "93\n",
      "88\n",
      "25.0\n",
      "16777216\n",
      "False\n",
      "True\n",
      "True\n",
      "False\n",
      "True\n"
     ]
    }
   ],
   "source": [
    "a = 3\n",
    "# make the \"a\" variable's value bigger by 10\n",
    "a += 10\n",
    "print(a)\n",
    "\n",
    "\n",
    "b = 100\n",
    "# make b smaller by 7\n",
    "b -= 7\n",
    "print(b)\n",
    "\n",
    "c = 44\n",
    "# please double c's value\n",
    "c *= 2\n",
    "print(c)\n",
    "\n",
    "d = 125\n",
    "# please divide by 5 d's value\n",
    "d /= 5\n",
    "print(d)\n",
    "\n",
    "e = 8\n",
    "# please cube of e's value\n",
    "e **= 8\n",
    "print(e)\n",
    "\n",
    "f1 = 123\n",
    "f2 = 345\n",
    "# tell if f1 is bigger than f2 (pras a boolean)\n",
    "print(f1 > f2)\n",
    "\n",
    "g1 = 350\n",
    "g2 = 200\n",
    "# tell if the double of g2 is bigger than g1 (pras a boolean)\n",
    "print(2 * g2 > g1)\n",
    "\n",
    "h = 1357988018575474\n",
    "# tell if 11 is a divisor of h (pras a boolean)\n",
    "print(h%11 == 0)\n",
    "\n",
    "i1 = 10\n",
    "i2 = 3\n",
    "# tell if i1 is higher than i2 squared and smaller than i2 cubed (pras a boolean)\n",
    "print(i1 > i2**2 and i1 < i2**2)\n",
    "\n",
    "j = 1521\n",
    "# tell if j is divisible by 3 or 5 (pras a boolean)\n",
    "print(j%3 == 0 or j%5 == 0)"
   ]
  },
  {
   "cell_type": "markdown",
   "metadata": {},
   "source": [
    "- cuboid"
   ]
  },
  {
   "cell_type": "code",
   "execution_count": 12,
   "metadata": {},
   "outputs": [
    {
     "name": "stdout",
     "output_type": "stream",
     "text": [
      "Surface Area: 4920\n",
      "Volume: 716\n"
     ]
    }
   ],
   "source": [
    "# Write a program that stores 3 sides of a cuboid as variables (float)\n",
    "# The program should write the surface area and volume of the cuboid like:\n",
    "# \n",
    "# Surface Area: 600\n",
    "# Volume: 1000\n",
    "side1 = 10.2\n",
    "side2 = 234.\n",
    "side3 = .3\n",
    "\n",
    "SurfaceArea = 2*(side1 * side2 + side1 * side3 + side2*side3)\n",
    "Volume = side1 * side2 * side3\n",
    "\n",
    "print(f\"Surface Area: {round(SurfaceArea)}\\nVolume: {int(Volume)}\")"
   ]
  },
  {
   "cell_type": "markdown",
   "metadata": {},
   "source": [
    "- seconds_in_a_day"
   ]
  },
  {
   "cell_type": "code",
   "execution_count": 13,
   "metadata": {},
   "outputs": [
    {
     "data": {
      "text/plain": [
       "33918"
      ]
     },
     "execution_count": 13,
     "metadata": {},
     "output_type": "execute_result"
    }
   ],
   "source": [
    "current_hours = 14;\n",
    "current_minutes = 34;\n",
    "current_seconds = 42;\n",
    "\n",
    "# Write a program that prints the remaining seconds (as an integer) from a\n",
    "# day if the current time is represented by the variables\n",
    "SecondsOfDay = 60 * 60 * 24\n",
    "SecondsOfDay - current_hours * 60 * 60 - current_minutes * 60 - current_seconds"
   ]
  },
  {
   "cell_type": "markdown",
   "metadata": {},
   "source": [
    "### User input (scanner)\n",
    "\n",
    "```python\n",
    "# The program stops and waits for user input and to press enter\n",
    "user_input_1 = input()\n",
    "\n",
    "# It prints the whole line that the user entered\n",
    "print(user_input_1)\n",
    "\n",
    "# The program stops and waits for user input that is an integer and to press enter\n",
    "user_input_2 = int(input())\n",
    "\n",
    "# It prints the integer\n",
    "print(user_input_2)\n",
    "```\n",
    "\n",
    "#### Exercises\n",
    "\n",
    "- hello_user"
   ]
  },
  {
   "cell_type": "code",
   "execution_count": 14,
   "metadata": {},
   "outputs": [
    {
     "name": "stdout",
     "output_type": "stream",
     "text": [
      "What's your name?Santi\n",
      "Hello, Santi!\n"
     ]
    }
   ],
   "source": [
    "# Modify this program to greet the user instead of the World!\n",
    "# The program should ask for the name of the user\n",
    "print(\"Hello, \"+ input(\"What's your name?\") + \"!\")"
   ]
  },
  {
   "cell_type": "markdown",
   "metadata": {},
   "source": [
    "- mile_to_km_converter"
   ]
  },
  {
   "cell_type": "code",
   "execution_count": 15,
   "metadata": {},
   "outputs": [
    {
     "name": "stdout",
     "output_type": "stream",
     "text": [
      "Please enter miles in integer: 235\n",
      "235 is 378.19584000000003 kilometers\n"
     ]
    }
   ],
   "source": [
    "# Write a program that asks for an integer that is a distance in miles,\n",
    "# then it converts that value to kilometers and prints it\n",
    "DistanceInMiles = input(\"Please enter miles in integer: \")\n",
    "print(f\"{DistanceInMiles} is {int(DistanceInMiles) * 1.609344} kilometers\")"
   ]
  },
  {
   "cell_type": "markdown",
   "metadata": {},
   "source": [
    "- animals_and_legs"
   ]
  },
  {
   "cell_type": "code",
   "execution_count": 16,
   "metadata": {},
   "outputs": [
    {
     "name": "stdout",
     "output_type": "stream",
     "text": [
      "The number of chickens is: 8\n",
      "The number of pigs is: 2\n",
      "There are 20 legs.\n"
     ]
    }
   ],
   "source": [
    "# Write a program that asks for two integers\n",
    "# The first represents the number of chickens the farmer has\n",
    "# The second represents the number of pigs owned by the farmer\n",
    "# It should print how many legs all the animals have\n",
    "n_chicken = int(input(\"The number of chickens is: \"))\n",
    "n_pig = int(input(\"The number of pigs is: \"))\n",
    "print(f\"There are {n_chicken * 2 + n_pig * 2} legs.\")"
   ]
  },
  {
   "cell_type": "markdown",
   "metadata": {},
   "source": [
    "- average_of_input"
   ]
  },
  {
   "cell_type": "code",
   "execution_count": 17,
   "metadata": {},
   "outputs": [
    {
     "name": "stdout",
     "output_type": "stream",
     "text": [
      "Please enter 5 integers (separate by a whitespace): 2 3 5 3 2\n",
      "Sum: 15, Average: 3.0\n"
     ]
    }
   ],
   "source": [
    "# Write a program that asks for 5 integers in a row,\n",
    "# then it should print the sum and the average of these numbers like:\n",
    "#\n",
    "# Sum: 22, Average: 4.4\n",
    "integers = input(\"Please enter 5 integers (separate by a whitespace): \").split()\n",
    "s = sum([int(i) for i in integers])\n",
    "print(f\"Sum: {s}, Average: {s/5}\")"
   ]
  },
  {
   "cell_type": "markdown",
   "metadata": {},
   "source": [
    "### Conditionals\n",
    "\n",
    "```python\n",
    "a = 13\n",
    "\n",
    "if a == 13:\n",
    "  print(\"Yaaay! The value of the \\\"a\\\" variable is 13\") # This block will run\n",
    "\n",
    "if a == 8:\n",
    "  print(\"Yaaay! The value of the \\\"a\\\" variable is 8\") # This block will NOT run\n",
    "\n",
    "\n",
    "b = 20\n",
    "\n",
    "if b < 10:\n",
    "  print(\"Yaaay! The value of the \\\"b\\\" variable is lower than 10\") # This block will NOT run\n",
    "else:\n",
    "  print(\"Yaaay! The value of the \\\"b\\\" variable is higher than 10\") # This block will run\n",
    "\n",
    "\n",
    "c = 15\n",
    "\n",
    "if c < 10:\n",
    "  print(\"Yaaay! The value of the \\\"b\\\" variable is lower than 10\") # This block will NOT run\n",
    "elif c < 20:\n",
    "  print(\"Yaaay! The value of the \\\"b\\\" variable is higher than 10\") # This block will run\n",
    "else:\n",
    "  print(\"Yaaay! The value of the \\\"b\\\" variable is higher than 10\") # This block will NOT run\n",
    "\n",
    "\n",
    "thirsty = True\n",
    "hungry = False\n",
    "\n",
    "if thirsty and hungry:\n",
    "  print(\"Lunch time!\")\n",
    "elif thirsty or hungry:\n",
    "  print(\"Snack time!\")\n",
    "else:\n",
    "  print(\"No food for you, little fatty.\")\n",
    "```\n",
    "\n",
    "#### Exercises\n",
    "\n",
    "- odd_even"
   ]
  },
  {
   "cell_type": "code",
   "execution_count": 18,
   "metadata": {},
   "outputs": [
    {
     "name": "stdout",
     "output_type": "stream",
     "text": [
      "Please enter an integer: 83\n",
      "Odd\n"
     ]
    }
   ],
   "source": [
    "# Write a program that reads a number from the standard input,\n",
    "# Then prints \"Odd\" if the number is odd, or \"Even\" if it is even.\n",
    "n = int(input(\"Please enter an integer: \"))\n",
    "if n%2 == 0:\n",
    "    print(\"Even\")\n",
    "elif n%2 == 1:\n",
    "    print(\"Odd\")"
   ]
  },
  {
   "cell_type": "markdown",
   "metadata": {},
   "source": [
    "- one_two_a_lot"
   ]
  },
  {
   "cell_type": "code",
   "execution_count": 19,
   "metadata": {},
   "outputs": [
    {
     "name": "stdout",
     "output_type": "stream",
     "text": [
      "Please enter a number: 2\n",
      "Two\n"
     ]
    }
   ],
   "source": [
    "# Write a program that reads a number form the standard input,\n",
    "# If the number is zero or smaller it should print: Not enough\n",
    "# If the number is one it should print: One\n",
    "# If the number is two it should print: Two\n",
    "# If the number is more than two it should print: A lot\n",
    "n = int(input(\"Please enter a number: \"))\n",
    "if n <= 0:\n",
    "    print(\"Not enough\")\n",
    "elif n == 1:\n",
    "    print(\"One\")\n",
    "elif n == 2:\n",
    "    print(\"Two\")\n",
    "else:\n",
    "    print(\"A lot\")"
   ]
  },
  {
   "cell_type": "markdown",
   "metadata": {},
   "source": [
    "- print_bigger"
   ]
  },
  {
   "cell_type": "code",
   "execution_count": 20,
   "metadata": {},
   "outputs": [
    {
     "name": "stdout",
     "output_type": "stream",
     "text": [
      "Please enter two numbers (separate by a whitespace): 32 3\n",
      "32\n"
     ]
    }
   ],
   "source": [
    "# Write a program that asks for two numbers and prints the bigger one\n",
    "a,b = input(\"Please enter two numbers (separate by a whitespace): \").split()\n",
    "a = int(a)\n",
    "b = int(b)\n",
    "if a > b:\n",
    "    print(a)\n",
    "elif a < b:\n",
    "    print(b)\n",
    "else:\n",
    "    print(\"They are the same.\")"
   ]
  },
  {
   "cell_type": "markdown",
   "metadata": {},
   "source": [
    "- party_indicator"
   ]
  },
  {
   "cell_type": "code",
   "execution_count": 21,
   "metadata": {},
   "outputs": [
    {
     "name": "stdout",
     "output_type": "stream",
     "text": [
      "Please enter the number of girls: 34\n",
      "Please enter the number of boys: 34\n",
      "The party is exellent!\n"
     ]
    }
   ],
   "source": [
    "# Write a program that asks for two numbers\n",
    "# The first number represents the number of girls that comes to a party, the\n",
    "# second the boys\n",
    "# It should print: The party is exellent!\n",
    "# If the the number of girls and boys are equal and there are more people coming than 20\n",
    "#\n",
    "# It should print: Quite cool party!\n",
    "# It there are more than 20 people coming but the girl - boy ratio is not 1-1\n",
    "#\n",
    "# It should print: Average party...\n",
    "# If there are less people coming than 20\n",
    "#\n",
    "# It should print: Sausage party\n",
    "# If no girls are coming, regardless the count of the people\n",
    "n_girls = int(input(\"Please enter the number of girls: \"))\n",
    "n_boys = int(input(\"Please enter the number of boys: \"))\n",
    "\n",
    "if n_girls == 0:\n",
    "    print(\"Sausage party\")\n",
    "elif n_girls + n_boys > 20:\n",
    "    if n_girls == n_boys:\n",
    "        print(\"The party is exellent!\")\n",
    "    elif n_girls/n_boys != 1:\n",
    "        print(\"Quite cool party!\")\n",
    "else:#:\n",
    "    print(\"Average party...\")"
   ]
  },
  {
   "cell_type": "markdown",
   "metadata": {},
   "source": [
    "- conditional_variable_mutation"
   ]
  },
  {
   "cell_type": "code",
   "execution_count": 22,
   "metadata": {},
   "outputs": [
    {
     "name": "stdout",
     "output_type": "stream",
     "text": [
      "0\n",
      "Sweet!\n",
      "121\n",
      "check\n"
     ]
    }
   ],
   "source": [
    "a = 24\n",
    "out = 0\n",
    "# if a is even increment out by one\n",
    "if a%2 == 1:\n",
    "    out += 1\n",
    "\n",
    "print(out)\n",
    "\n",
    "\n",
    "\n",
    "\n",
    "b = 13\n",
    "out2 = \"\"\n",
    "# if b is between 10 and 20 set out2 to \"Sweet!\"\n",
    "# if less than 10 set out2 to \"Less!\",\n",
    "# if more than 20 set out2 to \"More!\"\n",
    "if b > 10 and b < 20:\n",
    "    out2 = \"Sweet!\"\n",
    "elif b <= 10:\n",
    "    out2 = \"Less!\"\n",
    "else:\n",
    "    out2 = \"More!\"\n",
    "\n",
    "print(out2)\n",
    "\n",
    "\n",
    "\n",
    "c = 123\n",
    "credits = 100\n",
    "is_bonus = False\n",
    "# if credits are at least 50,\n",
    "# and is_bonus is false decrement c by 2\n",
    "# if credits are smaller than 50,\n",
    "# and is_bonus is false decrement c by 1\n",
    "# if is_bonus is true c should remain the same\n",
    "if is_bonus == False:\n",
    "    if credits >= 50:\n",
    "        c -= 2\n",
    "    else:\n",
    "        c -= 1\n",
    "    \n",
    "\n",
    "print(c)\n",
    "\n",
    "\n",
    "\n",
    "\n",
    "d = 8\n",
    "time = 120\n",
    "out3 = \"\"\n",
    "# if d is dividable by 4\n",
    "# and time is not more than 200\n",
    "# set out3 to \"check\"\n",
    "# if time is more than 200\n",
    "# set out3 to \"Time out\"\n",
    "# otherwise set out3 to \"Run Forest Run!\"\n",
    "if d%4 == 0 and time <= 200:\n",
    "    out3 = \"check\"\n",
    "elif time > 200:\n",
    "    out3 = \"Time out\"\n",
    "else:\n",
    "    \"Run Forest Run!\"\n",
    "\n",
    "print(out3)"
   ]
  },
  {
   "cell_type": "markdown",
   "metadata": {},
   "source": [
    "### Loops\n",
    "\n",
    "```python\n",
    "a = 0:\n",
    "while a < 10:\n",
    "  print(a) # Prints the numbers from 0 to 9\n",
    "  a += 1\n",
    "\n",
    "for i in range(0, 100):\n",
    "  print(i) # Prints the numbers from 0 to 99\n",
    "```\n",
    "\n",
    "#### Exercises\n",
    "\n",
    "- i_wont_cheat_on_the_exams"
   ]
  },
  {
   "cell_type": "code",
   "execution_count": 23,
   "metadata": {},
   "outputs": [
    {
     "name": "stdout",
     "output_type": "stream",
     "text": [
      "I won't cheat on the exam!\n",
      "I won't cheat on the exam!\n",
      "I won't cheat on the exam!\n",
      "I won't cheat on the exam!\n",
      "I won't cheat on the exam!\n",
      "I won't cheat on the exam!\n",
      "I won't cheat on the exam!\n",
      "I won't cheat on the exam!\n",
      "I won't cheat on the exam!\n",
      "I won't cheat on the exam!\n",
      "I won't cheat on the exam!\n",
      "I won't cheat on the exam!\n",
      "I won't cheat on the exam!\n",
      "I won't cheat on the exam!\n",
      "I won't cheat on the exam!\n",
      "I won't cheat on the exam!\n",
      "I won't cheat on the exam!\n",
      "I won't cheat on the exam!\n",
      "I won't cheat on the exam!\n",
      "I won't cheat on the exam!\n",
      "I won't cheat on the exam!\n",
      "I won't cheat on the exam!\n",
      "I won't cheat on the exam!\n",
      "I won't cheat on the exam!\n",
      "I won't cheat on the exam!\n",
      "I won't cheat on the exam!\n",
      "I won't cheat on the exam!\n",
      "I won't cheat on the exam!\n",
      "I won't cheat on the exam!\n",
      "I won't cheat on the exam!\n",
      "I won't cheat on the exam!\n",
      "I won't cheat on the exam!\n",
      "I won't cheat on the exam!\n",
      "I won't cheat on the exam!\n",
      "I won't cheat on the exam!\n",
      "I won't cheat on the exam!\n",
      "I won't cheat on the exam!\n",
      "I won't cheat on the exam!\n",
      "I won't cheat on the exam!\n",
      "I won't cheat on the exam!\n",
      "I won't cheat on the exam!\n",
      "I won't cheat on the exam!\n",
      "I won't cheat on the exam!\n",
      "I won't cheat on the exam!\n",
      "I won't cheat on the exam!\n",
      "I won't cheat on the exam!\n",
      "I won't cheat on the exam!\n",
      "I won't cheat on the exam!\n",
      "I won't cheat on the exam!\n",
      "I won't cheat on the exam!\n",
      "I won't cheat on the exam!\n",
      "I won't cheat on the exam!\n",
      "I won't cheat on the exam!\n",
      "I won't cheat on the exam!\n",
      "I won't cheat on the exam!\n",
      "I won't cheat on the exam!\n",
      "I won't cheat on the exam!\n",
      "I won't cheat on the exam!\n",
      "I won't cheat on the exam!\n",
      "I won't cheat on the exam!\n",
      "I won't cheat on the exam!\n",
      "I won't cheat on the exam!\n",
      "I won't cheat on the exam!\n",
      "I won't cheat on the exam!\n",
      "I won't cheat on the exam!\n",
      "I won't cheat on the exam!\n",
      "I won't cheat on the exam!\n",
      "I won't cheat on the exam!\n",
      "I won't cheat on the exam!\n",
      "I won't cheat on the exam!\n",
      "I won't cheat on the exam!\n",
      "I won't cheat on the exam!\n",
      "I won't cheat on the exam!\n",
      "I won't cheat on the exam!\n",
      "I won't cheat on the exam!\n",
      "I won't cheat on the exam!\n",
      "I won't cheat on the exam!\n",
      "I won't cheat on the exam!\n",
      "I won't cheat on the exam!\n",
      "I won't cheat on the exam!\n",
      "I won't cheat on the exam!\n",
      "I won't cheat on the exam!\n",
      "I won't cheat on the exam!\n",
      "I won't cheat on the exam!\n",
      "I won't cheat on the exam!\n",
      "I won't cheat on the exam!\n",
      "I won't cheat on the exam!\n",
      "I won't cheat on the exam!\n",
      "I won't cheat on the exam!\n",
      "I won't cheat on the exam!\n",
      "I won't cheat on the exam!\n",
      "I won't cheat on the exam!\n",
      "I won't cheat on the exam!\n",
      "I won't cheat on the exam!\n",
      "I won't cheat on the exam!\n",
      "I won't cheat on the exam!\n",
      "I won't cheat on the exam!\n",
      "I won't cheat on the exam!\n",
      "I won't cheat on the exam!\n",
      "I won't cheat on the exam!\n"
     ]
    }
   ],
   "source": [
    "# Create a program that writes this line 100 times:\n",
    "# \"I won't cheat on the exam!\"\n",
    "for i in range(100):\n",
    "    print(\"I won't cheat on the exam!\")"
   ]
  },
  {
   "cell_type": "markdown",
   "metadata": {},
   "source": [
    "- print_even"
   ]
  },
  {
   "cell_type": "code",
   "execution_count": 24,
   "metadata": {},
   "outputs": [
    {
     "name": "stdout",
     "output_type": "stream",
     "text": [
      "0\n",
      "2\n",
      "4\n",
      "6\n",
      "8\n",
      "10\n",
      "12\n",
      "14\n",
      "16\n",
      "18\n",
      "20\n",
      "22\n",
      "24\n",
      "26\n",
      "28\n",
      "30\n",
      "32\n",
      "34\n",
      "36\n",
      "38\n",
      "40\n",
      "42\n",
      "44\n",
      "46\n",
      "48\n",
      "50\n",
      "52\n",
      "54\n",
      "56\n",
      "58\n",
      "60\n",
      "62\n",
      "64\n",
      "66\n",
      "68\n",
      "70\n",
      "72\n",
      "74\n",
      "76\n",
      "78\n",
      "80\n",
      "82\n",
      "84\n",
      "86\n",
      "88\n",
      "90\n",
      "92\n",
      "94\n",
      "96\n",
      "98\n",
      "100\n",
      "102\n",
      "104\n",
      "106\n",
      "108\n",
      "110\n",
      "112\n",
      "114\n",
      "116\n",
      "118\n",
      "120\n",
      "122\n",
      "124\n",
      "126\n",
      "128\n",
      "130\n",
      "132\n",
      "134\n",
      "136\n",
      "138\n",
      "140\n",
      "142\n",
      "144\n",
      "146\n",
      "148\n",
      "150\n",
      "152\n",
      "154\n",
      "156\n",
      "158\n",
      "160\n",
      "162\n",
      "164\n",
      "166\n",
      "168\n",
      "170\n",
      "172\n",
      "174\n",
      "176\n",
      "178\n",
      "180\n",
      "182\n",
      "184\n",
      "186\n",
      "188\n",
      "190\n",
      "192\n",
      "194\n",
      "196\n",
      "198\n",
      "200\n",
      "202\n",
      "204\n",
      "206\n",
      "208\n",
      "210\n",
      "212\n",
      "214\n",
      "216\n",
      "218\n",
      "220\n",
      "222\n",
      "224\n",
      "226\n",
      "228\n",
      "230\n",
      "232\n",
      "234\n",
      "236\n",
      "238\n",
      "240\n",
      "242\n",
      "244\n",
      "246\n",
      "248\n",
      "250\n",
      "252\n",
      "254\n",
      "256\n",
      "258\n",
      "260\n",
      "262\n",
      "264\n",
      "266\n",
      "268\n",
      "270\n",
      "272\n",
      "274\n",
      "276\n",
      "278\n",
      "280\n",
      "282\n",
      "284\n",
      "286\n",
      "288\n",
      "290\n",
      "292\n",
      "294\n",
      "296\n",
      "298\n",
      "300\n",
      "302\n",
      "304\n",
      "306\n",
      "308\n",
      "310\n",
      "312\n",
      "314\n",
      "316\n",
      "318\n",
      "320\n",
      "322\n",
      "324\n",
      "326\n",
      "328\n",
      "330\n",
      "332\n",
      "334\n",
      "336\n",
      "338\n",
      "340\n",
      "342\n",
      "344\n",
      "346\n",
      "348\n",
      "350\n",
      "352\n",
      "354\n",
      "356\n",
      "358\n",
      "360\n",
      "362\n",
      "364\n",
      "366\n",
      "368\n",
      "370\n",
      "372\n",
      "374\n",
      "376\n",
      "378\n",
      "380\n",
      "382\n",
      "384\n",
      "386\n",
      "388\n",
      "390\n",
      "392\n",
      "394\n",
      "396\n",
      "398\n",
      "400\n",
      "402\n",
      "404\n",
      "406\n",
      "408\n",
      "410\n",
      "412\n",
      "414\n",
      "416\n",
      "418\n",
      "420\n",
      "422\n",
      "424\n",
      "426\n",
      "428\n",
      "430\n",
      "432\n",
      "434\n",
      "436\n",
      "438\n",
      "440\n",
      "442\n",
      "444\n",
      "446\n",
      "448\n",
      "450\n",
      "452\n",
      "454\n",
      "456\n",
      "458\n",
      "460\n",
      "462\n",
      "464\n",
      "466\n",
      "468\n",
      "470\n",
      "472\n",
      "474\n",
      "476\n",
      "478\n",
      "480\n",
      "482\n",
      "484\n",
      "486\n",
      "488\n",
      "490\n",
      "492\n",
      "494\n",
      "496\n",
      "498\n",
      "500\n"
     ]
    }
   ],
   "source": [
    "# Create a program that prints all the even numbers between 0 and 500\n",
    "for i in range(0,502,2):\n",
    "    print(i)"
   ]
  },
  {
   "cell_type": "markdown",
   "metadata": {},
   "source": [
    "- multiplication_table"
   ]
  },
  {
   "cell_type": "code",
   "execution_count": 25,
   "metadata": {},
   "outputs": [
    {
     "name": "stdout",
     "output_type": "stream",
     "text": [
      "Please enter a number: 2\n",
      "1 * 2 = 2\n",
      "2 * 2 = 4\n",
      "3 * 2 = 6\n",
      "4 * 2 = 8\n",
      "5 * 2 = 10\n",
      "6 * 2 = 12\n",
      "7 * 2 = 14\n",
      "8 * 2 = 16\n",
      "9 * 2 = 18\n",
      "10 * 2 = 20\n"
     ]
    }
   ],
   "source": [
    "# Create a program that asks for a number and prints the multiplication table with that number\n",
    "#\n",
    "# Example:\n",
    "# The number 15 should print:\n",
    "#\n",
    "# 1 * 15 = 15\n",
    "# 2 * 15 = 30\n",
    "# 3 * 15 = 45\n",
    "# 4 * 15 = 60\n",
    "# 5 * 15 = 75\n",
    "# 6 * 15 = 90\n",
    "# 7 * 15 = 105\n",
    "# 8 * 15 = 120\n",
    "# 9 * 15 = 135\n",
    "# 10 * 15 = 150\n",
    "n = input(\"Please enter a number: \")\n",
    "for i in range(1, 11):\n",
    "    print(f\"{i} * {n} = {i * int(n)}\")"
   ]
  },
  {
   "cell_type": "markdown",
   "metadata": {},
   "source": [
    "- count_from_to"
   ]
  },
  {
   "cell_type": "code",
   "execution_count": 27,
   "metadata": {},
   "outputs": [
    {
     "name": "stdout",
     "output_type": "stream",
     "text": [
      "Please input two numbers (separte by a whitespace): 3 1\n",
      "The second number should be bigger\n",
      "Please input two numbers (separte by a whitespace): 1 3\n",
      "1\n",
      "2\n"
     ]
    }
   ],
   "source": [
    "# Create a program that asks for two numbers\n",
    "# If the second number is not bigger than the first one it should print:\n",
    "# \"The second number should be bigger\"\n",
    "#\n",
    "# If it is bigger it should count from the first number to the second by one\n",
    "# \n",
    "# example:\n",
    "#\n",
    "# first number: 3, second number: 6, should print:\n",
    "#\n",
    "# 3\n",
    "# 4\n",
    "# 5\n",
    "while True:\n",
    "    a, b = input(\"Please input two numbers (separte by a whitespace): \").split()\n",
    "    a = int(a)\n",
    "    b = int(b)\n",
    "    if b > a:\n",
    "        for i in range(a, b):\n",
    "            print(i)\n",
    "        break\n",
    "    else:\n",
    "        print(\"The second number should be bigger\")\n"
   ]
  },
  {
   "cell_type": "markdown",
   "metadata": {},
   "source": [
    "- fizz_buzz"
   ]
  },
  {
   "cell_type": "code",
   "execution_count": 28,
   "metadata": {},
   "outputs": [
    {
     "name": "stdout",
     "output_type": "stream",
     "text": [
      "1\n",
      "2\n",
      "3\n",
      "Fizz\n",
      "4\n",
      "5\n",
      "Buzz\n",
      "6\n",
      "Fizz\n",
      "7\n",
      "8\n",
      "9\n",
      "Fizz\n",
      "10\n",
      "Buzz\n",
      "11\n",
      "12\n",
      "Fizz\n",
      "13\n",
      "14\n",
      "15\n",
      "FizzBuzz\n",
      "16\n",
      "17\n",
      "18\n",
      "Fizz\n",
      "19\n",
      "20\n",
      "Buzz\n",
      "21\n",
      "Fizz\n",
      "22\n",
      "23\n",
      "24\n",
      "Fizz\n",
      "25\n",
      "Buzz\n",
      "26\n",
      "27\n",
      "Fizz\n",
      "28\n",
      "29\n",
      "30\n",
      "FizzBuzz\n",
      "31\n",
      "32\n",
      "33\n",
      "Fizz\n",
      "34\n",
      "35\n",
      "Buzz\n",
      "36\n",
      "Fizz\n",
      "37\n",
      "38\n",
      "39\n",
      "Fizz\n",
      "40\n",
      "Buzz\n",
      "41\n",
      "42\n",
      "Fizz\n",
      "43\n",
      "44\n",
      "45\n",
      "FizzBuzz\n",
      "46\n",
      "47\n",
      "48\n",
      "Fizz\n",
      "49\n",
      "50\n",
      "Buzz\n",
      "51\n",
      "Fizz\n",
      "52\n",
      "53\n",
      "54\n",
      "Fizz\n",
      "55\n",
      "Buzz\n",
      "56\n",
      "57\n",
      "Fizz\n",
      "58\n",
      "59\n",
      "60\n",
      "FizzBuzz\n",
      "61\n",
      "62\n",
      "63\n",
      "Fizz\n",
      "64\n",
      "65\n",
      "Buzz\n",
      "66\n",
      "Fizz\n",
      "67\n",
      "68\n",
      "69\n",
      "Fizz\n",
      "70\n",
      "Buzz\n",
      "71\n",
      "72\n",
      "Fizz\n",
      "73\n",
      "74\n",
      "75\n",
      "FizzBuzz\n",
      "76\n",
      "77\n",
      "78\n",
      "Fizz\n",
      "79\n",
      "80\n",
      "Buzz\n",
      "81\n",
      "Fizz\n",
      "82\n",
      "83\n",
      "84\n",
      "Fizz\n",
      "85\n",
      "Buzz\n",
      "86\n",
      "87\n",
      "Fizz\n",
      "88\n",
      "89\n",
      "90\n",
      "FizzBuzz\n",
      "91\n",
      "92\n",
      "93\n",
      "Fizz\n",
      "94\n",
      "95\n",
      "Buzz\n",
      "96\n",
      "Fizz\n",
      "97\n",
      "98\n",
      "99\n",
      "Fizz\n",
      "100\n",
      "Buzz\n"
     ]
    }
   ],
   "source": [
    "# Write a program that prints the numbers from 1 to 100.\n",
    "# But for multiples of three print “Fizz” instead of the number\n",
    "# and for the multiples of five print “Buzz”.\n",
    "# For numbers which are multiples of both three and five print “FizzBuzz”.\n",
    "for i in range(1, 101):\n",
    "    print(i)\n",
    "    if i%3 == 0 and i%5 == 0:\n",
    "        print(\"FizzBuzz\")\n",
    "    elif i%3 == 0:\n",
    "        print(\"Fizz\")\n",
    "    elif i%5 == 0:\n",
    "        print(\"Buzz\")\n",
    "    "
   ]
  },
  {
   "cell_type": "markdown",
   "metadata": {},
   "source": [
    "- draw_triangle"
   ]
  },
  {
   "cell_type": "code",
   "execution_count": 30,
   "metadata": {},
   "outputs": [
    {
     "name": "stdout",
     "output_type": "stream",
     "text": [
      "Please enter an integer: 5\n",
      "    *\n",
      "   ***\n",
      "  *****\n",
      " *******\n",
      "*********\n"
     ]
    }
   ],
   "source": [
    "# Write a program that reads a number from the standard input, then draws a\n",
    "# pyramid like this:\n",
    "#\n",
    "#\n",
    "#    *\n",
    "#   ***\n",
    "#  *****\n",
    "# *******\n",
    "#\n",
    "# The pyramid should have as many lines as the number was\n",
    "\n",
    "n = int(input(\"Please enter an integer: \"))\n",
    "for i in range(0, n):\n",
    "    num_star = 1 + 2*i\n",
    "    space = 2*n - 1\n",
    "    print((space - num_star)//2 * \" \"  +  num_star * \"*\")"
   ]
  },
  {
   "cell_type": "markdown",
   "metadata": {},
   "source": [
    "- draw_pyramid"
   ]
  },
  {
   "cell_type": "code",
   "execution_count": 31,
   "metadata": {},
   "outputs": [
    {
     "name": "stdout",
     "output_type": "stream",
     "text": [
      "Please enter an integer: 6\n",
      "   *\n",
      "  ***\n",
      " *****\n",
      " *****\n",
      "  ***\n",
      "   *\n"
     ]
    }
   ],
   "source": [
    "# Write a program that reads a number from the standard input, then draws a\n",
    "# diamond like this:\n",
    "#\n",
    "#\n",
    "#    *\n",
    "#   ***\n",
    "#  *****\n",
    "# *******\n",
    "#  *****\n",
    "#   ***\n",
    "#    *\n",
    "#\n",
    "# The diamond should have as many lines as the number was\n",
    "\n",
    "n = int(input(\"Please enter an integer: \"))\n",
    "mid = n//2\n",
    "count = 1\n",
    "for i in range(mid, 0, -1):\n",
    "    print(i*\" \" + (2*count-1) * \"*\")\n",
    "    count += 1\n",
    "if n%2 == 1:\n",
    "    print((2*count-1) * \"*\")\n",
    "count -= 1\n",
    "for i in range(1, mid+1):\n",
    "    print(i*\" \" + (2*count-1) * \"*\")\n",
    "    count -= 1"
   ]
  },
  {
   "cell_type": "markdown",
   "metadata": {},
   "source": [
    "#### - draw_square"
   ]
  },
  {
   "cell_type": "code",
   "execution_count": 32,
   "metadata": {},
   "outputs": [
    {
     "name": "stdout",
     "output_type": "stream",
     "text": [
      "Please enter a number: 5\n",
      "%%%%%\n",
      "%   %\n",
      "%   %\n",
      "%   %\n",
      "%%%%%\n"
     ]
    }
   ],
   "source": [
    "# Write a program that reads a number from the standard input, then draws a\n",
    "# square like this:\n",
    "#\n",
    "#\n",
    "# %%%%%%\n",
    "# %    %\n",
    "# %    %\n",
    "# %    %\n",
    "# %    %\n",
    "# %%%%%%\n",
    "#\n",
    "# The square should have as many lines as the number was\n",
    "n = int(input(\"Please enter a number: \"))\n",
    "print(\"%\" * n)\n",
    "for i in range(0, n-2):\n",
    "    print(\"%\" + \" \" * (n-2) + \"%\")\n",
    "print(\"%\" * n)"
   ]
  },
  {
   "cell_type": "markdown",
   "metadata": {},
   "source": [
    "- draw_diagonal"
   ]
  },
  {
   "cell_type": "code",
   "execution_count": 33,
   "metadata": {},
   "outputs": [
    {
     "name": "stdout",
     "output_type": "stream",
     "text": [
      "Please enter a number: 4\n",
      "%%%%\n",
      "%% %\n",
      "% %%\n",
      "%%%%\n"
     ]
    }
   ],
   "source": [
    "# Write a program that reads a number from the standard input, then draws a\n",
    "# square like this:\n",
    "#\n",
    "# %%%%%\n",
    "# %%  %\n",
    "# % % %\n",
    "# %  %%\n",
    "# %%%%%\n",
    "#\n",
    "# The square should have as many lines as the number was\n",
    "n = int(input(\"Please enter a number: \"))\n",
    "print(\"%\" * n)\n",
    "for i in range(0, n-2):\n",
    "    print(\"%\" + i*\" \" +\"%\" + \" \"* (n-3-i)+ \"%\")\n",
    "    \n",
    "print(\"%\" * n)"
   ]
  },
  {
   "cell_type": "markdown",
   "metadata": {},
   "source": [
    "- guess_the_number"
   ]
  },
  {
   "cell_type": "code",
   "execution_count": 34,
   "metadata": {},
   "outputs": [
    {
     "name": "stdout",
     "output_type": "stream",
     "text": [
      "Please input a guess: 8\n",
      "You found the number\n"
     ]
    }
   ],
   "source": [
    "# Write a program that stores a number, and the user has to figure it out.\n",
    "# The user can input guesses, after each guess the program would tell one\n",
    "# of the following:\n",
    "#\n",
    "# The stored number is higher\n",
    "# The stried number is lower\n",
    "# You found the number: 8\n",
    "n = None\n",
    "while n != 8:   \n",
    "    n = int(input(\"Please input a guess: \"))\n",
    "    if n > 8:\n",
    "        print(\"The stored number is lower\\n\")\n",
    "    elif n < 8:\n",
    "        print(\"The stored number is higher\\n\")\n",
    "print(\"You found the number\")"
   ]
  },
  {
   "cell_type": "markdown",
   "metadata": {},
   "source": [
    "- parametric_average"
   ]
  },
  {
   "cell_type": "code",
   "execution_count": 35,
   "metadata": {},
   "outputs": [
    {
     "name": "stdout",
     "output_type": "stream",
     "text": [
      "Please enter an integer: 3\n",
      "All the integers are entered? (y/n)y\n",
      "\n",
      "\n",
      "Sum: 3, Average: 3.0\n"
     ]
    }
   ],
   "source": [
    "# Write a program that asks for a number.\n",
    "# It would ask this many times to enter an integer,\n",
    "# if all the integers are entered, it should print the sum and average of these\n",
    "# integers like:\n",
    "#\n",
    "# Sum: 22, Average: 4.4\n",
    "resp = \"n\"\n",
    "Sum = 0\n",
    "count = 0\n",
    "while resp == \"n\":\n",
    "    n = int(input(\"Please enter an integer: \"))\n",
    "    Sum += n\n",
    "    count += 1\n",
    "    resp = input(\"All the integers are entered? (y/n)\")\n",
    "    print(\"\")\n",
    "print(f\"\\nSum: {Sum}, Average: {Sum/count}\")"
   ]
  },
  {
   "cell_type": "markdown",
   "metadata": {},
   "source": [
    "- draw_chess_table"
   ]
  },
  {
   "cell_type": "code",
   "execution_count": 36,
   "metadata": {},
   "outputs": [
    {
     "name": "stdout",
     "output_type": "stream",
     "text": [
      "% % % % \n",
      " % % % % \n",
      "% % % % \n",
      " % % % % \n",
      "% % % % \n",
      " % % % % \n",
      "% % % % \n",
      " % % % % \n"
     ]
    }
   ],
   "source": [
    "# Crate a program that draws a chess table like this\n",
    "#\n",
    "# % % % % \n",
    "#  % % % %\n",
    "# % % % %\n",
    "#  % % % %\n",
    "# % % % %\n",
    "#  % % % %\n",
    "# % % % % \n",
    "#  % % % %\n",
    "#\n",
    "for i in range(4):\n",
    "    print(4 * \"% \" + \"\\n \" + 4 * \"% \")"
   ]
  },
  {
   "cell_type": "markdown",
   "metadata": {},
   "source": [
    "### Plus one\n",
    "\n",
    "Be aware that it potentially uses concepts that you have to research.\n",
    "\n",
    "- Find the substring"
   ]
  },
  {
   "cell_type": "code",
   "execution_count": 37,
   "metadata": {},
   "outputs": [
    {
     "name": "stdout",
     "output_type": "stream",
     "text": [
      "17\n",
      "-1\n"
     ]
    }
   ],
   "source": [
    "#  Create a function that takes two strings as a parameter\n",
    "#  Returns the starting index where the second one is starting in the first one\n",
    "#  Returns `-1` if the second string is not in the first one\n",
    "\n",
    "def substr(str, keyword):\n",
    "    return str.find(keyword)\n",
    "\n",
    "#  Example\n",
    "# should print: `17`\n",
    "print(substr(\"this is what I'm searching in\", \"searching\"))\n",
    "\n",
    "# should print: `-1`\n",
    "print(substr(\"this is what I'm searching in\", \"not\"))"
   ]
  },
  {
   "cell_type": "markdown",
   "metadata": {},
   "source": [
    "## Individual Workshop Review\n",
    "\n",
    "Please follow the styleguide:\n",
    "[Our Python styleguide](../../styleguide/python.md)\n",
    "\n",
    "- Is the directory structure and the name of the files correct?\n",
    "- Are the includes palced on the top of the files?\n",
    "- Is the indentation good in each file?\n",
    "- Is there unnecessary code?\n",
    "- Can you find unnecessary code in comments?\n",
    "- Is there unnecessary code duplication?\n",
    "- Are there unnecessary empty blocks?\n",
    "- Can you spot unused variables?\n",
    "- Is the commit message meaningful?\n",
    "- Are the names of things following the styleguide?\n",
    "- Are all of the brackets in the perfect place?\n",
    "- Whitespaces, where they should be, where shouldn't?"
   ]
  }
 ],
 "metadata": {
  "kernelspec": {
   "display_name": "Python 3",
   "language": "python",
   "name": "python3"
  },
  "language_info": {
   "codemirror_mode": {
    "name": "ipython",
    "version": 3
   },
   "file_extension": ".py",
   "mimetype": "text/x-python",
   "name": "python",
   "nbconvert_exporter": "python",
   "pygments_lexer": "ipython3",
   "version": "3.7.3"
  }
 },
 "nbformat": 4,
 "nbformat_minor": 2
}

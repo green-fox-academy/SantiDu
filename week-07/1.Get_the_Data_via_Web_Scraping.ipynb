{
 "cells": [
  {
   "cell_type": "code",
   "execution_count": 1,
   "metadata": {},
   "outputs": [],
   "source": [
    "import requests\n",
    "from bs4 import BeautifulSoup as bs\n",
    "import re\n",
    "import json"
   ]
  },
  {
   "cell_type": "code",
   "execution_count": 2,
   "metadata": {},
   "outputs": [],
   "source": [
    "response = requests.get(\"https://www.rightmove.co.uk/house-prices-in-Somerset.html\")"
   ]
  },
  {
   "cell_type": "code",
   "execution_count": 3,
   "metadata": {},
   "outputs": [],
   "source": [
    "soup = bs(response.text)"
   ]
  },
  {
   "cell_type": "code",
   "execution_count": 40,
   "metadata": {},
   "outputs": [],
   "source": [
    "all_cities = soup.find_all(\"li\", id=re.compile(\"sidemenu\"))"
   ]
  },
  {
   "cell_type": "code",
   "execution_count": 42,
   "metadata": {},
   "outputs": [],
   "source": [
    "cities = soup.find_all(\"li\", class_=re.compile(\"highlightMapRegion\"))"
   ]
  },
  {
   "cell_type": "code",
   "execution_count": 43,
   "metadata": {},
   "outputs": [],
   "source": [
    "city_code = {}\n",
    "for city in cities:\n",
    "    citycode = re.search(\"(?<=highlightMapRegion).+\", city[\"class\"][0]).group()\n",
    "    href = city.find(\"a\")[\"href\"]\n",
    "    cityname = re.search(\"(?<=house-prices/).+(?=.html)\", href).group()\n",
    "    city_code[cityname] = [citycode, href]"
   ]
  },
  {
   "cell_type": "code",
   "execution_count": 44,
   "metadata": {},
   "outputs": [],
   "source": [
    "city_code2 = {}\n",
    "for city in all_cities:\n",
    "    citycode = re.search(\"(?<=sidemenu).+\", city[\"id\"]).group()\n",
    "    href = city.find(\"a\")[\"href\"]\n",
    "    cityname = re.search(\"(?<=house-prices/).+(?=.html)\", href).group()\n",
    "    city_code2[cityname] = [citycode, href]"
   ]
  },
  {
   "cell_type": "code",
   "execution_count": 45,
   "metadata": {},
   "outputs": [],
   "source": [
    "city_code_rest = {}\n",
    "for c in city_code2.keys():\n",
    "    if c not in city_code.keys():\n",
    "        city_code_rest[c] = city_code2[c]"
   ]
  },
  {
   "cell_type": "code",
   "execution_count": 56,
   "metadata": {},
   "outputs": [],
   "source": [
    "def extract_data(div, cityname):\n",
    "    dic = {}\n",
    "    if div.find(\"a\"):\n",
    "        dic[\"city\"] = cityname\n",
    "        dic[\"building\"] = div.find(\"a\").text\n",
    "        dic[\"soldPrice\"] = div.find(\"td\", class_=\"soldPrice\").text\n",
    "        dic[\"soldType\"] = div.find(\"td\", class_=\"soldType\").text\n",
    "        dic[\"soldDate\"] = div.find(\"td\", class_=\"soldDate\").text\n",
    "        dic[\"bednumber\"] = div.find(\"td\", class_=\"noBed\").text\n",
    "    return dic"
   ]
  },
  {
   "cell_type": "code",
   "execution_count": 57,
   "metadata": {},
   "outputs": [],
   "source": [
    "# contents = []\n",
    "\n",
    "# for city in city_code:\n",
    "#     url = city_code[city][1]\n",
    "#     citycode = city_code[city][0]\n",
    "#     for index in range(0, 40*25, 25):\n",
    "#         response = requests.get(url + \n",
    "#                             f\"?country=england&locationIdentifier=REGION%5E{citycode}&searchLocation={city}&index={index}\")\n",
    "#         for d in bs(response.text).find_all(\"div\", \"soldDetails\"):\n",
    "#             data = extract_data(d, city)\n",
    "#             if data:\n",
    "#                 contents.append(data)"
   ]
  },
  {
   "cell_type": "code",
   "execution_count": 66,
   "metadata": {},
   "outputs": [],
   "source": [
    "contents = []\n",
    "\n",
    "for city in city_code_rest:\n",
    "    url = city_code_rest[city][1]\n",
    "    citycode = city_code_rest[city][0]\n",
    "    for index in range(0, 40*25, 25):\n",
    "        response = requests.get(url + \n",
    "                            f\"?country=england&locationIdentifier=REGION%5E{citycode}&searchLocation={city}&index={index}\")\n",
    "        details = bs(response.text).find_all(\"div\", \"soldDetails\")\n",
    "        if details:\n",
    "            for d in details:\n",
    "                data = extract_data(d, city)\n",
    "                if data:\n",
    "                    contents.append(data)\n",
    "        else:\n",
    "            break"
   ]
  },
  {
   "cell_type": "code",
   "execution_count": 67,
   "metadata": {},
   "outputs": [
    {
     "data": {
      "text/plain": [
       "22433"
      ]
     },
     "execution_count": 67,
     "metadata": {},
     "output_type": "execute_result"
    }
   ],
   "source": [
    "len(contents)"
   ]
  },
  {
   "cell_type": "code",
   "execution_count": 68,
   "metadata": {},
   "outputs": [],
   "source": [
    "with open(\"house2.json\", \"w\") as f:\n",
    "    json.dump(contents, f)"
   ]
  },
  {
   "cell_type": "code",
   "execution_count": 219,
   "metadata": {},
   "outputs": [],
   "source": [
    "# with open(\"house.json\", \"w\") as f:\n",
    "#     json.dump(contents, f)"
   ]
  }
 ],
 "metadata": {
  "kernelspec": {
   "display_name": "Python 3",
   "language": "python",
   "name": "python3"
  },
  "language_info": {
   "codemirror_mode": {
    "name": "ipython",
    "version": 3
   },
   "file_extension": ".py",
   "mimetype": "text/x-python",
   "name": "python",
   "nbconvert_exporter": "python",
   "pygments_lexer": "ipython3",
   "version": "3.7.3"
  }
 },
 "nbformat": 4,
 "nbformat_minor": 2
}

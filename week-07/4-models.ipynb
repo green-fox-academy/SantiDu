{
 "cells": [
  {
   "cell_type": "code",
   "execution_count": 25,
   "metadata": {},
   "outputs": [],
   "source": [
    "import numpy as np\n",
    "import pandas as pd\n",
    "from sklearn.linear_model import LinearRegression\n",
    "from sklearn.model_selection import train_test_split\n",
    "from sklearn.metrics import mean_squared_error\n",
    "from sklearn.preprocessing import PolynomialFeatures\n",
    "import pickle"
   ]
  },
  {
   "cell_type": "code",
   "execution_count": 29,
   "metadata": {},
   "outputs": [],
   "source": [
    "df = pd.read_csv(\"data2.csv\")\n",
    "df_with_dummy = pd.get_dummies(df, columns=[\"propertyType\"])\n",
    "df_with_dummy.drop(columns=[\"Unnamed: 0\"], inplace=True)\n",
    "\n",
    "y = df_with_dummy.loc[:, \"soldPrice\"]\n",
    "X = df_with_dummy.loc[:, \"bednumber\":]"
   ]
  },
  {
   "cell_type": "code",
   "execution_count": 17,
   "metadata": {},
   "outputs": [
    {
     "name": "stdout",
     "output_type": "stream",
     "text": [
      "R squrad: 0.4466778162681652\n",
      "MSE: 11850209436.386202\n"
     ]
    }
   ],
   "source": [
    "X_train, X_test, y_train, y_test = train_test_split(X, y, test_size=0.2, random_state=42)\n",
    "model = LinearRegression()\n",
    "\n",
    "model.fit(X_train, y_train)\n",
    "\n",
    "predictions = model.predict(X_test)\n",
    "\n",
    "print(f\"R squrad: {model.score(X_test, y_test)}\")\n",
    "print(f\"MSE: {mean_squared_error(predictions, y_test)}\")"
   ]
  },
  {
   "cell_type": "code",
   "execution_count": 27,
   "metadata": {},
   "outputs": [],
   "source": [
    "X[\"bednumber\"] = X[\"bednumber\"] ** 2"
   ]
  },
  {
   "cell_type": "code",
   "execution_count": 28,
   "metadata": {},
   "outputs": [
    {
     "name": "stdout",
     "output_type": "stream",
     "text": [
      "R squrad: 0.4722466980215473\n",
      "MSE: 11302614178.613892\n"
     ]
    }
   ],
   "source": [
    "X_train, X_test, y_train, y_test = train_test_split(X, y, test_size=0.2, random_state=42)\n",
    "model = LinearRegression()\n",
    "\n",
    "model.fit(X_train, y_train)\n",
    "\n",
    "predictions = model.predict(X_test)\n",
    "\n",
    "print(f\"R squrad: {model.score(X_test, y_test)}\")\n",
    "print(f\"MSE: {mean_squared_error(predictions, y_test)}\")"
   ]
  },
  {
   "cell_type": "code",
   "execution_count": 4,
   "metadata": {},
   "outputs": [],
   "source": [
    "def serialize(obj, path):\n",
    "    \"\"\"\n",
    "    Pickle a Python object\n",
    "    \"\"\"\n",
    "    with open(path, \"wb\") as pfile:\n",
    "        pickle.dump(obj, pfile)"
   ]
  },
  {
   "cell_type": "code",
   "execution_count": 5,
   "metadata": {},
   "outputs": [],
   "source": [
    "pkl_path = \"./app/linear_regression.pkl\"\n",
    "serialize(model, pkl_path)"
   ]
  },
  {
   "cell_type": "code",
   "execution_count": null,
   "metadata": {},
   "outputs": [],
   "source": [
    "# from sklearn.ensemble import RandomForestRegressor\n",
    "# from sklearn.model_selection import train_test_split\n",
    "# from sklearn.preprocessing import StandardScaler\n",
    "# import numpy as np\n",
    "# import matplotlib.pyplot as plt\n",
    "\n",
    "# scaler = StandardScaler()\n",
    "# scaler.fit(X_train)\n",
    "# X_train = scaler.transform(X_train)\n",
    "# X_test = scaler.transform(X_test)\n",
    "\n",
    "# model = RandomForestRegressor(n_jobs=-1)\n",
    "\n",
    "# estimators = np.arange(10, 200, 10)\n",
    "# scores = []\n",
    "# for n in estimators:\n",
    "#     model.set_params(n_estimators=n)\n",
    "#     model.fit(X_train, y_train)\n",
    "#     scores.append(model.score(X_test, y_test))\n",
    "# plt.title(\"Effect of n_estimators\")\n",
    "# plt.xlabel(\"n_estimator\")\n",
    "# plt.ylabel(\"score\")\n",
    "# plt.plot(estimators, scores)\n",
    "\n",
    "# scores"
   ]
  },
  {
   "cell_type": "code",
   "execution_count": null,
   "metadata": {},
   "outputs": [],
   "source": []
  }
 ],
 "metadata": {
  "kernelspec": {
   "display_name": "Python 3",
   "language": "python",
   "name": "python3"
  },
  "language_info": {
   "codemirror_mode": {
    "name": "ipython",
    "version": 3
   },
   "file_extension": ".py",
   "mimetype": "text/x-python",
   "name": "python",
   "nbconvert_exporter": "python",
   "pygments_lexer": "ipython3",
   "version": "3.7.3"
  }
 },
 "nbformat": 4,
 "nbformat_minor": 2
}

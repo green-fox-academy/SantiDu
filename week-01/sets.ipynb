{
 "cells": [
  {
   "cell_type": "markdown",
   "metadata": {},
   "source": [
    "# Sets\n",
    "\n",
    "## Materials & Resources\n",
    "\n",
    "| Material                                                      | Time |\n",
    "|:--------------------------------------------------------------|-----:|\n",
    "| [Sets in Python](https://www.youtube.com/watch?v=sBvaPopWOmQ) | 6:33 |\n",
    "\n",
    "## Material Review\n",
    "\n",
    "- What is a set?\n",
    "- How is it different than a list?\n",
    "- When to use sets?\n",
    "\n",
    "## Workshop\n",
    "\n",
    "##### Set introduction\n",
    "\n",
    "1. Create a set\n",
    "1. Add at least 5 members to the set\n",
    "1. Remove at most 2 members from the set\n",
    "1. Iterate over the set and print its members\n",
    "1. Remove 482 from the set if it is present\n",
    "1. Remove 42 from the set even if it is not present"
   ]
  },
  {
   "cell_type": "code",
   "execution_count": 1,
   "metadata": {},
   "outputs": [],
   "source": [
    "aset = set()\n",
    "for i in range(5):\n",
    "    aset.add(i)"
   ]
  },
  {
   "cell_type": "code",
   "execution_count": 2,
   "metadata": {},
   "outputs": [
    {
     "data": {
      "text/plain": [
       "0"
      ]
     },
     "execution_count": 2,
     "metadata": {},
     "output_type": "execute_result"
    }
   ],
   "source": [
    "aset.pop()"
   ]
  },
  {
   "cell_type": "code",
   "execution_count": 3,
   "metadata": {},
   "outputs": [
    {
     "data": {
      "text/plain": [
       "1"
      ]
     },
     "execution_count": 3,
     "metadata": {},
     "output_type": "execute_result"
    }
   ],
   "source": [
    "aset.pop()"
   ]
  },
  {
   "cell_type": "code",
   "execution_count": 4,
   "metadata": {},
   "outputs": [
    {
     "name": "stdout",
     "output_type": "stream",
     "text": [
      "2\n",
      "3\n",
      "4\n"
     ]
    },
    {
     "ename": "KeyError",
     "evalue": "42",
     "output_type": "error",
     "traceback": [
      "\u001b[1;31m---------------------------------------------------------------------------\u001b[0m",
      "\u001b[1;31mKeyError\u001b[0m                                  Traceback (most recent call last)",
      "\u001b[1;32m<ipython-input-4-e3d7fad0cc73>\u001b[0m in \u001b[0;36m<module>\u001b[1;34m\u001b[0m\n\u001b[0;32m      4\u001b[0m \u001b[0maset\u001b[0m\u001b[1;33m.\u001b[0m\u001b[0mdiscard\u001b[0m\u001b[1;33m(\u001b[0m\u001b[1;36m482\u001b[0m\u001b[1;33m)\u001b[0m\u001b[1;33m\u001b[0m\u001b[1;33m\u001b[0m\u001b[0m\n\u001b[0;32m      5\u001b[0m \u001b[1;33m\u001b[0m\u001b[0m\n\u001b[1;32m----> 6\u001b[1;33m \u001b[0maset\u001b[0m\u001b[1;33m.\u001b[0m\u001b[0mremove\u001b[0m\u001b[1;33m(\u001b[0m\u001b[1;36m42\u001b[0m\u001b[1;33m)\u001b[0m\u001b[1;33m\u001b[0m\u001b[1;33m\u001b[0m\u001b[0m\n\u001b[0m",
      "\u001b[1;31mKeyError\u001b[0m: 42"
     ]
    }
   ],
   "source": [
    "for e in aset:\n",
    "    print(e)\n",
    "    \n",
    "aset.discard(482)\n",
    "\n",
    "aset.remove(42)"
   ]
  },
  {
   "cell_type": "markdown",
   "metadata": {},
   "source": [
    "##### What's in my bag\n",
    "\n",
    "We are going to represent bags using sets.\n",
    "\n",
    "Oliver's bag contains the following items\n",
    "\n",
    "- Laptop\n",
    "- Notebook\n",
    "- Pen\n",
    "- Sunglasses\n",
    "- Hand sanitizer\n",
    "\n",
    "Ethan's bag contains the following items\n",
    "\n",
    "- Sunglasses\n",
    "- Notebook\n",
    "- Phone\n",
    "\n",
    "Mia's bag contains the following items\n",
    "\n",
    "- Laptop\n",
    "- Sunglasses\n",
    "- Hand sanitizer\n",
    "\n",
    "Write an application that answers the following questions\n",
    "\n",
    "- What are the common items in Oliver's and Ethan's bag?\n",
    "- What are the items that in Oliver's bag but not in Mia's bag?\n",
    "- What are the common items in Oliver's, Ethan's and Mia's bag?"
   ]
  },
  {
   "cell_type": "code",
   "execution_count": 5,
   "metadata": {
    "scrolled": true
   },
   "outputs": [],
   "source": [
    "bagOliver = {\"Laptop\", \"Notebook\", \"Pen\", \"Sunglasses\", \"Hand sanitizer\"}\n",
    "bagEthan = {\"Sunglasses\", \"Notebook\", \"Phone\"}\n",
    "bagMia = {\"Laptop\", \"Sunglasses\", \"Hand sanitizer\"}"
   ]
  },
  {
   "cell_type": "code",
   "execution_count": 6,
   "metadata": {},
   "outputs": [
    {
     "data": {
      "text/plain": [
       "{'Notebook', 'Sunglasses'}"
      ]
     },
     "execution_count": 6,
     "metadata": {},
     "output_type": "execute_result"
    }
   ],
   "source": [
    "bagOliver.intersection(bagEthan)"
   ]
  },
  {
   "cell_type": "code",
   "execution_count": 7,
   "metadata": {},
   "outputs": [
    {
     "data": {
      "text/plain": [
       "{'Notebook', 'Pen'}"
      ]
     },
     "execution_count": 7,
     "metadata": {},
     "output_type": "execute_result"
    }
   ],
   "source": [
    "bagOliver.difference(bagMia)"
   ]
  },
  {
   "cell_type": "code",
   "execution_count": 8,
   "metadata": {},
   "outputs": [
    {
     "data": {
      "text/plain": [
       "{'Sunglasses'}"
      ]
     },
     "execution_count": 8,
     "metadata": {},
     "output_type": "execute_result"
    }
   ],
   "source": [
    "bagOliver.intersection(bagEthan).intersection(bagMia)"
   ]
  },
  {
   "cell_type": "markdown",
   "metadata": {},
   "source": [
    "##### Unique with set\n",
    "\n",
    "Create a list with the following names\n",
    "\n",
    "- Ava\n",
    "- Oliver\n",
    "- Ethan\n",
    "- Amelia\n",
    "- Oliver\n",
    "- Mia\n",
    "- Lucas\n",
    "- Ava\n",
    "- Ethan\n",
    "- Enzo\n",
    "\n",
    "Print out each unique name using sets."
   ]
  },
  {
   "cell_type": "code",
   "execution_count": 9,
   "metadata": {},
   "outputs": [
    {
     "name": "stdout",
     "output_type": "stream",
     "text": [
      "{'Oliver', 'Amelia', 'Enzo', 'Ava', 'Ethan', 'Mia', 'Lucas'}\n"
     ]
    }
   ],
   "source": [
    "List = [\"Ava\", \"Oliver\", \"Ethan\", \"Amelia\", \"Oliver\", \"Mia\", \"Lucas\", \"Ava\", \"Ethan\", \"Enzo\"]\n",
    "print(set(List))"
   ]
  }
 ],
 "metadata": {
  "kernelspec": {
   "display_name": "Python 3",
   "language": "python",
   "name": "python3"
  },
  "language_info": {
   "codemirror_mode": {
    "name": "ipython",
    "version": 3
   },
   "file_extension": ".py",
   "mimetype": "text/x-python",
   "name": "python",
   "nbconvert_exporter": "python",
   "pygments_lexer": "ipython3",
   "version": "3.7.3"
  }
 },
 "nbformat": 4,
 "nbformat_minor": 2
}

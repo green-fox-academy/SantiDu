{
 "cells": [
  {
   "cell_type": "markdown",
   "metadata": {},
   "source": [
    "# File Formats\n",
    "\n",
    "There are thousands of file formats for different purpose. Like\n",
    "\n",
    "- Audio files\n",
    "- Binary files\n",
    "- Database files\n",
    "- Documents\n",
    "- Image files\n",
    "- Source codes\n",
    "- Video files\n",
    "- ...\n",
    "\n",
    "In this workshop we will focus on markup and generic text based files used\n",
    "all over the web.\n",
    "\n",
    "## Materials & Resources\n",
    "\n",
    "| Material                                                                                              | Time |\n",
    "|:------------------------------------------------------------------------------------------------------|-----:|\n",
    "| [Files & File Systems: Crash Course Computer Science #20](https://youtu.be/KN8YgJnShPM) (*till 4:45*) | 4:45 |\n",
    "| [Text Files (Part 1) What is a text file?](https://youtu.be/H7R0LN41N8c)                              | 3:56 |\n",
    "| [5 Minute Metadata - What is a CSV?](https://youtu.be/_blfh7uR05A)                                    | 4:42 |\n",
    "| [XML Tutorial for Beginners \\| What is XML \\| Learn XML](https://youtu.be/KeLiQXqVgMI)                | 6:38 |\n",
    "| [What is JSON? - 3 Minutes of Code](https://youtu.be/sSL2to7Jg5g)                                     | 2:33 |\n",
    "\n",
    "## Material Review\n",
    "\n",
    "- What is XML?\n",
    "  <!--\n",
    "    It stands for eXtensible Markup Language. A simple text file format to store\n",
    "    and transport data.\n",
    "  -->\n",
    "- How the data is stored in XML files?\n",
    "  <!--\n",
    "    It is stored between an opening and a closing tag. More tags can follow each\n",
    "    other so it can represent any complex structure. It is similar to HTML however\n",
    "    in XML there are no predefined tags. It is flexible and customizable.\n",
    "  -->\n",
    "- Can we nest data in XML files?\n",
    "  <!--\n",
    "    Just like in HTML any tag can contain 0 or more other tags, so you can nest\n",
    "    data.\n",
    "    <employee>\n",
    "      <name>...</name>\n",
    "      <department>...</department>\n",
    "    </employee>\n",
    "  -->\n",
    "- How can we add special information to the data in XML?\n",
    "  <!--\n",
    "    We can define attributes on the tags just like in HTML.\n",
    "  -->\n",
    "- What is the CSV format used for?\n",
    "  <!--\n",
    "    CSV can describe data as it would be a table. It has columns and rows.\n",
    "    Columns are separated by a colon.\n",
    "  -->\n",
    "- What is the difference between CSV and TSV?\n",
    "  <!--\n",
    "    In TSV the columns are separated with tabs.\n",
    "  -->\n",
    "- Are there different types of CSV?\n",
    "  <!--\n",
    "    Sometimes we separate the columns with a semi-colon, to prevent the confusion\n",
    "    when a value contains a colon.\n",
    "  -->\n",
    "- What is JSON?\n",
    "  <!--\n",
    "    JavaScript Object Notation, a widely used file format to transfer and store\n",
    "    data. It comes from the JS object format.\n",
    "  -->\n",
    "- What are the valid data types in JSON?\n",
    "  <!--\n",
    "    Array, boolean, number, string, null, object\n",
    "  -->\n",
    "- What is the benefit/drawback of JSON over XML?\n",
    "  <!--\n",
    "    JSON is much shorter so it takes less space.\n",
    "    XML can add metadata to the values.\n",
    "  -->\n",
    "\n",
    "## Workshop"
   ]
  },
  {
   "cell_type": "code",
   "execution_count": 1,
   "metadata": {},
   "outputs": [],
   "source": [
    "from pandas import read_json, read_csv\n",
    "import xml"
   ]
  },
  {
   "cell_type": "code",
   "execution_count": 10,
   "metadata": {},
   "outputs": [],
   "source": [
    "%load_ext pycodestyle_magic"
   ]
  },
  {
   "cell_type": "markdown",
   "metadata": {},
   "source": [
    "### Find oldest movie\n",
    "\n",
    "Read this [input file](./movies.csv) and print the title of the oldest movie.\n",
    "The file has the following columns:\n",
    "\n",
    "- Title\n",
    "- Year\n",
    "- Director"
   ]
  },
  {
   "cell_type": "code",
   "execution_count": 13,
   "metadata": {},
   "outputs": [],
   "source": [
    "df = read_csv(\"movies.csv\", sep=\";\", header=None)"
   ]
  },
  {
   "cell_type": "code",
   "execution_count": 37,
   "metadata": {},
   "outputs": [
    {
     "data": {
      "text/plain": [
       "'The Dark Knight Rises'"
      ]
     },
     "execution_count": 37,
     "metadata": {},
     "output_type": "execute_result"
    }
   ],
   "source": [
    "df.iloc[df[1].idxmax(),0]"
   ]
  },
  {
   "cell_type": "markdown",
   "metadata": {},
   "source": [
    "### Remove useless data\n",
    "\n",
    "In [this file](./election.csv) you can find the raw data of a public election.\n",
    "Unfortunately something went wrong and there are some row which cannot be used\n",
    "(a value is missing). We need to remove these rows and then print them to the\n",
    "console. Columns (mandatory fields are signed with *):\n",
    "\n",
    "- Name *\n",
    "- Candidate *\n",
    "- Time\n",
    "- State *"
   ]
  },
  {
   "cell_type": "code",
   "execution_count": 54,
   "metadata": {},
   "outputs": [],
   "source": [
    "df = read_csv(\"election.csv\", header=None)"
   ]
  },
  {
   "cell_type": "code",
   "execution_count": 55,
   "metadata": {},
   "outputs": [
    {
     "data": {
      "text/html": [
       "<div>\n",
       "<style scoped>\n",
       "    .dataframe tbody tr th:only-of-type {\n",
       "        vertical-align: middle;\n",
       "    }\n",
       "\n",
       "    .dataframe tbody tr th {\n",
       "        vertical-align: top;\n",
       "    }\n",
       "\n",
       "    .dataframe thead th {\n",
       "        text-align: right;\n",
       "    }\n",
       "</style>\n",
       "<table border=\"1\" class=\"dataframe\">\n",
       "  <thead>\n",
       "    <tr style=\"text-align: right;\">\n",
       "      <th></th>\n",
       "      <th>0</th>\n",
       "      <th>1</th>\n",
       "      <th>2</th>\n",
       "      <th>3</th>\n",
       "    </tr>\n",
       "  </thead>\n",
       "  <tbody>\n",
       "    <tr>\n",
       "      <th>2</th>\n",
       "      <td>Richard Gere</td>\n",
       "      <td>NaN</td>\n",
       "      <td>2018-09-21 11:41:53</td>\n",
       "      <td>FL</td>\n",
       "    </tr>\n",
       "    <tr>\n",
       "      <th>4</th>\n",
       "      <td>NaN</td>\n",
       "      <td>John Doe</td>\n",
       "      <td>2018-09-21 12:50:29</td>\n",
       "      <td>WA</td>\n",
       "    </tr>\n",
       "    <tr>\n",
       "      <th>5</th>\n",
       "      <td>Michael Jackson</td>\n",
       "      <td>Jane Doe</td>\n",
       "      <td>2018-09-21 16:11:57</td>\n",
       "      <td>NaN</td>\n",
       "    </tr>\n",
       "  </tbody>\n",
       "</table>\n",
       "</div>"
      ],
      "text/plain": [
       "                 0         1                    2    3\n",
       "2     Richard Gere       NaN  2018-09-21 11:41:53   FL\n",
       "4              NaN  John Doe  2018-09-21 12:50:29   WA\n",
       "5  Michael Jackson  Jane Doe  2018-09-21 16:11:57  NaN"
      ]
     },
     "execution_count": 55,
     "metadata": {},
     "output_type": "execute_result"
    }
   ],
   "source": [
    "df[~df.index.isin(df.dropna().index)]"
   ]
  },
  {
   "cell_type": "markdown",
   "metadata": {},
   "source": [
    "### Find the post with the most popular comments\n",
    "\n",
    "You can find some posts and their comments in [this file](./posts.json). Now\n",
    "you need to find the post which got the most popular comments. Most popular\n",
    "comments mean the sum of the likes on the comments."
   ]
  },
  {
   "cell_type": "code",
   "execution_count": null,
   "metadata": {},
   "outputs": [],
   "source": []
  },
  {
   "cell_type": "markdown",
   "metadata": {},
   "source": [
    "### USD transactions\n",
    "\n",
    "In the [transactions.xml](./transactions.xml) you can find money transfers. Your\n",
    "task is to filter all USD transactions and print them to the console in a user\n",
    "friendly format."
   ]
  },
  {
   "cell_type": "code",
   "execution_count": null,
   "metadata": {},
   "outputs": [],
   "source": []
  },
  {
   "cell_type": "markdown",
   "metadata": {},
   "source": [
    "### Exam performance\n",
    "\n",
    "Here is a fictive [result](./exams.tsv) of an exam. The examiners have tracked\n",
    "the user id, the result and time spent on the exam. There were no standard time\n",
    "format so each mentor used their own. Now you need to find the user who has got\n",
    "the most points within one min. Your task is to find the highest points/mins\n",
    "ratio within the dataset."
   ]
  },
  {
   "cell_type": "code",
   "execution_count": null,
   "metadata": {},
   "outputs": [],
   "source": []
  },
  {
   "cell_type": "markdown",
   "metadata": {},
   "source": [
    "### Transform data\n",
    "\n",
    "- Transform [users.csv](./users.csv) into `json` and save it.\n",
    "- Transform [flowers.json](./flowers.json) into `xml` and save it."
   ]
  },
  {
   "cell_type": "code",
   "execution_count": null,
   "metadata": {},
   "outputs": [],
   "source": []
  }
 ],
 "metadata": {
  "kernelspec": {
   "display_name": "Python 3",
   "language": "python",
   "name": "python3"
  },
  "language_info": {
   "codemirror_mode": {
    "name": "ipython",
    "version": 3
   },
   "file_extension": ".py",
   "mimetype": "text/x-python",
   "name": "python",
   "nbconvert_exporter": "python",
   "pygments_lexer": "ipython3",
   "version": "3.7.3"
  }
 },
 "nbformat": 4,
 "nbformat_minor": 2
}

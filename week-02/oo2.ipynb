{
 "cells": [
  {
   "cell_type": "markdown",
   "metadata": {},
   "source": [
    "### Altogether\n",
    "\n",
    "# Pirates *exam*\n",
    "\n",
    "## Pirates\n",
    "Create a `Pirate` class.  While you can add other fields and methods, you must have these methods:-\n",
    "- `drink_some_rum()` - intoxicates the Pirate some\n",
    "- `hows_it_going_mate()` - when called, the Pirate replies, if `drink_some_run` was called:-\n",
    "  - 0 to 4 times, \"Pour me anudder!\"\n",
    "  - else, \"Arghh, I'ma Pirate. How d'ya d'ink its goin?\", the pirate passes out and sleeps it off.\n",
    "\n",
    "If you manage to get this far, then you can try to do the following.\n",
    "- `die()` - this kills off the pirate, in which case, drinkSomeRum, etc. just result in `he's dead`.\n",
    "- `brawl(x)` - where pirate fights another pirate (if that other pirate is alive) and there's a 1/3 chance, 1 dies, the other dies or they both pass out.\n",
    "\n",
    "And... if you get that far...\n",
    "\n",
    "Add a parrot."
   ]
  },
  {
   "cell_type": "code",
   "execution_count": 30,
   "metadata": {},
   "outputs": [],
   "source": [
    "from random import randint\n",
    "\n",
    "class Pirate:\n",
    "    def __init__(self, name):\n",
    "        self.initblood = 30\n",
    "        self.name = name\n",
    "        self.blood = self.initblood\n",
    "        self.rum_there = 0\n",
    "        \n",
    "    def drink_some_rum(self):\n",
    "        print(\"Yo ho ho and a bottle of rum!\")\n",
    "        self.blood -= 2\n",
    "        self.rum_there += 1\n",
    "        \n",
    "    def hows_it_going_mate(self):\n",
    "        if not self.passOut(): # pirate not passed out\n",
    "            print(\"Pour me anudder!\")\n",
    "            self.drink_some_rum()\n",
    "        elif not self.die(): # passed out but not dead\n",
    "            print(\"Arghh, I'ma Pirate. How d'ya d'ink its goin?\")\n",
    "            print(self.passOut())\n",
    "            self.rum_there -= 2\n",
    "            self.blood += 4\n",
    "        else: # dead\n",
    "            self.die()\n",
    "            \n",
    "    def passOut(self):\n",
    "        if (self.blood != 0 and self.blood <= .2 * self.initblood) or self.rum_there > 4:\n",
    "            return \"The pirate passes out.\"\n",
    "        \n",
    "    def die(self):\n",
    "        if self.blood == 0:\n",
    "            return \"The pirate is dead.\"\n",
    "            \n",
    "    def brawl(self, theOtherPirate):\n",
    "        if self.blood != 0 and self.blood > .2 * self.initblood and self.rum_there < 4:\n",
    "            n = randint(1, 3)\n",
    "            if n == 1:\n",
    "                self.blood == 0\n",
    "                print(self.die())\n",
    "            elif n == 2:\n",
    "                theOtherPirate.blood == 0\n",
    "                print(theOtherPirate.die())\n",
    "            else:\n",
    "                self.blood = .2 * self.initblood\n",
    "                theOtherPirate.blood = .2 * self.initblood\n",
    "                print(self.passOut())\n",
    "                print(theOtherPirate.passOut())\n",
    "        else:\n",
    "            print(\"The pirate can't fight.\")\n",
    "            \n",
    "    def parrot(self):\n",
    "        print(\"pirrot! pirrot!\")"
   ]
  },
  {
   "cell_type": "markdown",
   "metadata": {},
   "source": [
    "## The Pirate Ship\n",
    "*The place for the Pirates*\n",
    "\n",
    "- Create a `Ship` class.\n",
    "- The `Ship` stores `Pirate`-s instances in a list as the crew and has one captain who is also a `Pirate`.\n",
    "- When a ship is created it doesn't have a crew or a captain.\n",
    "- The ship can be filled with pirates and a captain via `fill_ship()` method.\n",
    "    - Filling the ship with a captain and random number of pirates.\n",
    "- Ships should be represented in a nice way on command line including information about\n",
    "    - captains consumed rum, state (passed out / died)\n",
    "    - number of alive pirates in the crew\n",
    "- Ships should have a method to battle other ships: `ship.battle(otherShip)`\n",
    "    - should return `true` if the actual ship (`this`) wins\n",
    "    - the ship should win if its calculated score is higher\n",
    "    - calculate score: Number of Alive pirates in the crew - Number of consumed rum by the captain\n",
    "    - The loser crew has a random number of losses (deaths).\n",
    "    - The winner captain and crew has a party, including a random number of rum :)"
   ]
  },
  {
   "cell_type": "code",
   "execution_count": null,
   "metadata": {},
   "outputs": [],
   "source": [
    "class Ship:\n",
    "    def __init__(self):\n",
    "        self.captain = None\n",
    "        self.crews = []\n",
    "        \n",
    "    def fill_ship(self, captain, n_crew):\n",
    "        self.crews = [Pirate() for i in range(n_crew)]\n",
    "        self.captain = captain\n",
    "        \n",
    "    def alive_crew(self):\n",
    "        self.crews = [c for c in self.crews if not c.die()]\n",
    "    \n",
    "    def __str__(self):\n",
    "        print(f\"Captain: consumed rum: {captain.rum_there}, \\\n",
    "state: {captain.die()}{captain.passOut()}\\nNumber of alive \\\n",
    "crews: {len(self.crews)}\"\n",
    "    \n",
    "    def battle(self, otherShip):\n",
    "        "
   ]
  },
  {
   "cell_type": "markdown",
   "metadata": {},
   "source": [
    "### BattleApp\n",
    "- Create a `battle_app.py` file\n",
    "- Create 2 ships, fill them with pirates\n",
    "- Have a battle!"
   ]
  },
  {
   "cell_type": "code",
   "execution_count": null,
   "metadata": {},
   "outputs": [],
   "source": []
  },
  {
   "cell_type": "markdown",
   "metadata": {},
   "source": [
    "## Armada\n",
    "- Create an `Armada` class\n",
    "- Contains `Ship`-s as a list\n",
    "- Have a `armada.war(otherArmada)` method where two armada can engage in war\n",
    "    - it should work like merge sort\n",
    "    - first ship from the first armada battles the first of the other\n",
    "    - the loser gets skipped so the next ship comes in play from that armada\n",
    "    - whichever armada gets to the end of its ships loses the war\n",
    "    - return `true` if `this` is the winner"
   ]
  },
  {
   "cell_type": "code",
   "execution_count": null,
   "metadata": {},
   "outputs": [],
   "source": []
  },
  {
   "cell_type": "markdown",
   "metadata": {},
   "source": [
    "### WarApp\n",
    "- Create a `war_app.py` file\n",
    "- Create 2 armadas, fill them with ships\n",
    "- Have a war!"
   ]
  },
  {
   "cell_type": "code",
   "execution_count": null,
   "metadata": {},
   "outputs": [],
   "source": []
  },
  {
   "cell_type": "markdown",
   "metadata": {},
   "source": [
    "# Redo the 5 trees homework (with classes)"
   ]
  }
 ],
 "metadata": {
  "kernelspec": {
   "display_name": "Python 3",
   "language": "python",
   "name": "python3"
  },
  "language_info": {
   "codemirror_mode": {
    "name": "ipython",
    "version": 3
   },
   "file_extension": ".py",
   "mimetype": "text/x-python",
   "name": "python",
   "nbconvert_exporter": "python",
   "pygments_lexer": "ipython3",
   "version": "3.7.3"
  }
 },
 "nbformat": 4,
 "nbformat_minor": 2
}

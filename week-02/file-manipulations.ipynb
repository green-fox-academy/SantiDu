{
 "cells": [
  {
   "cell_type": "markdown",
   "metadata": {},
   "source": [
    "# File manipulation exercises\n",
    "\n",
    "## Materials & Resources\n",
    "\n",
    "| Material                                                                                                      | Time    |\n",
    "|:--------------------------------------------------------------------------------------------------------------|--------:|\n",
    "| [Python Programming Tutorial - 23 - How to Read and Write Files](https://www.youtube.com/watch?v=YV6qm6erphk) |    6:26 |\n",
    "| [Python Programming Tutorial - You are the only Exception](https://www.youtube.com/watch?v=1cCU0owdiR4)       |   11:40 |\n",
    "| [General introduction to modules](http://pymbook.readthedocs.org/en/latest/modules.html)                      | reading |\n",
    "| [General introduction to file handling / IO](http://pymbook.readthedocs.org/en/latest/file.html)              | reading |\n",
    "| Optional                                                                                                      |         |\n",
    "| [Errors and Exceptions](https://docs.python.org/3/tutorial/errors.html)                                       | reading |\n",
    "\n",
    "## Material review\n",
    "\n",
    "- What is the difference between compile time errors and runtime errors?\n",
    "  <!--\n",
    "    Compile time rises when the computer builds your application.\n",
    "    Runtime error rises when the code is executed.\n",
    "  -->\n",
    "- Is syntax error a runtime error? Why?\n",
    "  <!--\n",
    "    Nope, it means the computer doesn't understand your code.\n",
    "  -->\n",
    "- Is semantic error a runtime error? Why?\n",
    "  <!--\n",
    "    Yes it means something went wrong in your program logic but syntactically it\n",
    "    is correct. Eg, You want to add 2 numbers but unfortunately you have used\n",
    "    subtraction operator.\n",
    "  -->\n",
    "\n",
    "### Exception handling\n",
    "\n",
    "- What are the Exceptions?\n",
    "  <!--\n",
    "    Events that the computer cannot handle and fails to execute the code unless\n",
    "    it is explicitly handled by the developer\n",
    "  -->\n",
    "- What kind of errors do we have in Python?\n",
    "  <!--\n",
    "    There are a lot of predefined errors out there. Like NameError, ValueError,\n",
    "    SyntaxError, TypeError, etc..\n",
    "  -->\n",
    "- Can I throw exceptions/errors?\n",
    "  <!--\n",
    "    Yes, you can rise errors with the raise keyword.\n",
    "  -->\n",
    "- Can I handle these exceptions?\n",
    "  <!--\n",
    "    Not all of them. Eg out of memory or stack trace error cannot be handled.\n",
    "    The others can be caught with\n",
    "      try:\n",
    "        ...\n",
    "      except:\n",
    "        ...\n",
    "      finally:\n",
    "        ...\n",
    "  -->\n",
    "- What is the try block used for?\n",
    "  <!--\n",
    "    Any error, which was thrown in this block or in any function called from\n",
    "    this block, can be handled in the preceding catch block\n",
    "  -->\n",
    "- What is the catch block used for?\n",
    "  <!--\n",
    "    You can handle the caught error. Eg, print something to the console. Create\n",
    "    logs, notify the user, etc...\n",
    "  -->\n",
    "- Can I handle different kind of errors?\n",
    "  <!--\n",
    "    Yes, just specify the error in type in the catch argument. Pay attention to\n",
    "    the precedence, generic errors go to bottom, specific ones go to the top.\n",
    "  -->\n",
    "- What is the point of the finally block?\n",
    "  <!--\n",
    "    The finally block executed anyway, if an exception has been caught if not,\n",
    "    even if you don't have any catch block at all. You can use it to free\n",
    "    resources, close files or even send a log to a server.\n",
    "  -->\n",
    "- Is it executed even if I return from the try block?\n",
    "  <!--\n",
    "    Yes, it is. It will be executed right after the return but before the control\n",
    "    have been given back to the callee.\n",
    "  -->\n",
    "\n",
    "### File IO\n",
    "\n",
    "- `help()`\n",
    "- `os` library\n",
    "\n",
    "- What is the File System?\n",
    "  <!--\n",
    "    A filesystem is the methods and data structures that an operating system uses\n",
    "    to keep track of files on a disk; that is, the way the files are organized\n",
    "    on the disk\n",
    "  -->\n",
    "- What is a file path?\n",
    "  <!--\n",
    "    The route where the given file can be found. You can look at the file system\n",
    "    as a tree upside down. Each directory is a new branch and the leaves are the\n",
    "    files.\n",
    "  -->\n",
    "- What is the difference between relative and absolute path?\n",
    "  <!--\n",
    "    Absolute goes from the route of the tree, relative goes from your current\n",
    "    position.\n",
    "  -->\n",
    "- What is character encoding?\n",
    "  <!--\n",
    "    Of course our files are stored on the disk as 0's and 1's. The computer must\n",
    "    transform our letters into their more and more abstract representations.\n",
    "    Which will produce something understandable to the computer. This\n",
    "    transformation is the encoding.\n",
    "  -->\n",
    "- What is UTF-8?\n",
    "  <!--\n",
    "    We have different character encodings, they are evolving of course. UTF-8 is\n",
    "    currently the most popular on the World Wide Web. ASCII is also quite common.\n",
    "  -->\n",
    "- What are file permissions?\n",
    "  <!--\n",
    "    Each file has an owner and of course it cannot be read or modified by anybody\n",
    "    r - read, w - write, x - execute. These permissions can be defined for the\n",
    "    owner, groups and anybody.\n",
    "  -->\n",
    "- What is the `os` module?\n",
    "  <!--\n",
    "    It is a built-in python module to access the operating system in the runner\n",
    "    environment. You can reach the filesystem, user management and other services\n",
    "    through the os module.\n",
    "  -->\n",
    "- How to read file content?\n",
    "  <!--\n",
    "    First you need to open the file in read mode.\n",
    "    Then you can read the content with the read method.\n",
    "  -->\n",
    "- Can I read the file line by line?\n",
    "  <!--\n",
    "    There is a readline() method which returns the next line in the file,\n",
    "    meanwhile you can read all the lines into a list as well with the readlines()\n",
    "    method.\n",
    "  -->\n",
    "- How to write a file?\n",
    "  <!--\n",
    "    First you need to open the file in write mode.\n",
    "    Then you can write the content with the write method.\n",
    "  -->\n",
    "- How can I append something to a file?\n",
    "  <!--\n",
    "    First you need to open the file in append mode.\n",
    "    Then you can append the content with the write method.\n",
    "  -->\n",
    "- What happens if a file not found?\n",
    "  <!--\n",
    "    An error will be thrown, must be handled in a try except block.\n",
    "  -->\n",
    "- Why is it necessary to close a file?\n",
    "  <!--\n",
    "    The file will take place in the memory until it is closed.\n",
    "  -->\n",
    "- What does the `help()` do?\n",
    "  <!--\n",
    "    It calls the built-in Python help system. You can pass types, methods as\n",
    "    parameters to it and the manual will be printed.\n",
    "  -->\n",
    "\n",
    "## Workshop"
   ]
  },
  {
   "cell_type": "code",
   "execution_count": 19,
   "metadata": {},
   "outputs": [
    {
     "name": "stdout",
     "output_type": "stream",
     "text": [
      "The pycodestyle_magic extension is already loaded. To reload it, use:\n",
      "  %reload_ext pycodestyle_magic\n"
     ]
    }
   ],
   "source": [
    "%load_ext pycodestyle_magic"
   ]
  },
  {
   "cell_type": "markdown",
   "metadata": {},
   "source": [
    "### Exceptions\n",
    "\n",
    "```python\n",
    "divisor = input()\n",
    "\n",
    "result = 12 / divisor # If the input value for divisor was 0 the program breaks\n",
    "print(result) # The program doesn't reach this line if the input was 0\n",
    "```\n",
    "\n",
    "The result if the input value was zero:\n",
    "\n",
    "```python\n",
    "Traceback (most recent call last):\n",
    "  File \"div.py\", line 3, in <module>\n",
    "    result = 12 / divisor\n",
    "ZeroDivisionError: integer division or modulo by zero\n",
    "```\n",
    "\n",
    "Handle the exception:\n",
    "\n",
    "```python\n",
    "divisor = input()\n",
    "\n",
    "try: # Prevents the program breaking when attempting dividing by zero\n",
    "    result = 12 / divisor # If the input value for divisor was 0 it stops the try block\n",
    "    print(result) # The program doesn't reach this line if the input was 0\n",
    "except ZeroDivisionError:\n",
    "    print('Can\\'t divide by zero!') # This line only runs if the input was 0\n",
    "```\n",
    "\n",
    "#### Practice\n",
    "\n",
    "- Divide by zero"
   ]
  },
  {
   "cell_type": "code",
   "execution_count": 26,
   "metadata": {},
   "outputs": [
    {
     "name": "stdout",
     "output_type": "stream",
     "text": [
      "fail\n"
     ]
    }
   ],
   "source": [
    "# Create a function that takes a number,\n",
    "# divides ten with it,\n",
    "# and prints the result.\n",
    "# It should print \"fail\" if the parameter is 0\n",
    "\n",
    "\n",
    "def division(num):\n",
    "    try:\n",
    "        10 / num\n",
    "    except ZeroDivisionError:\n",
    "        print(\"fail\")\n",
    "\n",
    "\n",
    "division(0)"
   ]
  },
  {
   "cell_type": "markdown",
   "metadata": {},
   "source": [
    "### Reading files\n",
    "\n",
    "```python\n",
    "my_file = open('file-name.txt', 'r')\n",
    "```\n",
    "\n",
    "4 different ways of reading:\n",
    "\n",
    "```python\n",
    "# reads the entire file as a string\n",
    "print(my_file.read())\n",
    "\n",
    "# reads a line from the file\n",
    "print(my_file.readline())\n",
    "\n",
    "# reads all lines as a list\n",
    "print(my_file.readlines())\n",
    "\n",
    "# loops through on each of the lines of the file\n",
    "for line in my_file:\n",
    "    print(line.rstrip()) # rstrip() removes the newline character from the line\n",
    "```\n",
    "\n",
    "```python\n",
    "file_name = 'file-name.txt'\n",
    "try:\n",
    "    f = open(file_name, 'r')\n",
    "except IOError:\n",
    "    print('cannot open', file_name)\n",
    "```\n",
    "\n",
    "#### Practice\n",
    "\n",
    "- Print each line"
   ]
  },
  {
   "cell_type": "code",
   "execution_count": 29,
   "metadata": {},
   "outputs": [
    {
     "name": "stdout",
     "output_type": "stream",
     "text": [
      "Unable to read file: my-file.txt\n"
     ]
    }
   ],
   "source": [
    "# Write a program that opens a file called \"my-file.txt\", then prints\n",
    "# each line from the file.\n",
    "# If the program is unable to read the file (for example it does not exist),\n",
    "# then it should print the following error message: \"Unable to read file: my-file.txt\"\n",
    "\n",
    "\n",
    "file_name = \"my-file.txt\"\n",
    "try:\n",
    "    with open(file_name, \"r\") as f:\n",
    "        for line in f:\n",
    "            print(line, end=\"\")\n",
    "except IOError:\n",
    "    print(\"Unable to read file: my-file.txt\")"
   ]
  },
  {
   "cell_type": "markdown",
   "metadata": {},
   "source": [
    "- Count lines"
   ]
  },
  {
   "cell_type": "code",
   "execution_count": 30,
   "metadata": {},
   "outputs": [],
   "source": [
    "# Write a function that takes a filename as string,\n",
    "# then returns the number of lines the file contains.\n",
    "# It should return zero if it can't open the file, and\n",
    "# should not raise any error.\n",
    "\n",
    "\n",
    "def filelines(file_name):\n",
    "    try:\n",
    "        count = 0\n",
    "        with open(file_name, \"r\") as f:\n",
    "            for line in f:\n",
    "                count += 0\n",
    "            return count\n",
    "    except IOError:\n",
    "        return 0"
   ]
  },
  {
   "cell_type": "markdown",
   "metadata": {},
   "source": [
    "### Writing files\n",
    "\n",
    "```python\n",
    "my_file = open('file-name.txt', 'w')\n",
    "my_file.write('Apple') # Writes the string \"Apple\" to the file\n",
    "```\n",
    "\n",
    "#### Practice\n",
    "\n",
    "- Write single line"
   ]
  },
  {
   "cell_type": "code",
   "execution_count": 31,
   "metadata": {},
   "outputs": [],
   "source": [
    "# Write a function that is able to manipulate a file\n",
    "# By writing your name into it as a single line\n",
    "# The file should be named \"my-file.txt\"\n",
    "# In case the program is unable to write the file,\n",
    "# It should print the following error message: \"Unable to write file: my-file.txt\"\n",
    "\n",
    "\n",
    "def wname():\n",
    "    try:\n",
    "        with open(\"my-file.txt\", \"w\") as f:\n",
    "            f.write(\"myname\")\n",
    "    except IOError:\n",
    "        print(\"Unable to write file: my-file.txt\")"
   ]
  },
  {
   "cell_type": "markdown",
   "metadata": {},
   "source": [
    "- Write multiple lines"
   ]
  },
  {
   "cell_type": "code",
   "execution_count": 39,
   "metadata": {},
   "outputs": [],
   "source": [
    "# Create a function that takes 3 parameters: a path, a word and a number\n",
    "# and is able to write into a file.\n",
    "# The path parameter should be a string that describes the location of the file you wish to modify\n",
    "# The word parameter should also be a string that will be written to the file as individual lines\n",
    "# The number parameter should describe how many lines the file should have.\n",
    "# If the word is \"apple\" and the number is 5, it should write 5 lines\n",
    "# into the file and each line should read \"apple\"\n",
    "# The function should not raise any errors if it could not write the file.\n",
    "\n",
    "\n",
    "def wlines(path, word, number):\n",
    "    with open(path, \"w\") as f:\n",
    "        for i in range(number):\n",
    "            f.write(word + \"\\n\")"
   ]
  },
  {
   "cell_type": "markdown",
   "metadata": {},
   "source": [
    "### Exercises\n",
    "\n",
    "#### Core\n",
    "\n",
    "- Copy file"
   ]
  },
  {
   "cell_type": "code",
   "execution_count": 43,
   "metadata": {},
   "outputs": [],
   "source": [
    "# Write a function that copies the contents of a file into another\n",
    "# It should take the filenames as parameters\n",
    "# It should return a boolean that shows if the copy was successful\n",
    "\n",
    "\n",
    "def copyf(file1, file2):\n",
    "    with open(file1, \"r\") as f1:\n",
    "        content = f1.read()\n",
    "    with open(file2, \"w\") as f2:\n",
    "        f2.write(content)\n",
    "    return True"
   ]
  },
  {
   "cell_type": "markdown",
   "metadata": {},
   "source": [
    "- Tic-Tac-Toe"
   ]
  },
  {
   "cell_type": "code",
   "execution_count": null,
   "metadata": {},
   "outputs": [],
   "source": [
    "# Write a function that takes a filename as a parameter\n",
    "# The file contains an ended Tic-Tac-Toe match\n",
    "# We have provided you some example files (draw.txt, win-x.txt, win-o.txt)\n",
    "# Return \"X\", \"O\" or \"Draw\" based on the input file\n",
    "\n",
    "\n",
    "def tic_tac_result(filename):\n",
    "    pass\n",
    "\n",
    "print(tic_tac_result(\"win-o.txt\"))\n",
    "# Should print \"O\"\n",
    "\n",
    "print(tic_tac_result(\"win-x.txt\"))\n",
    "# Should print \"X\"\n",
    "\n",
    "print(tic_tac_result(\"draw.txt\"))\n",
    "# Should print \"Draw\"\n"
   ]
  },
  {
   "cell_type": "markdown",
   "metadata": {},
   "source": [
    "- Logs"
   ]
  },
  {
   "cell_type": "code",
   "execution_count": 80,
   "metadata": {},
   "outputs": [],
   "source": [
    "# Read all data from 'log.txt'.\n",
    "# Each line represents a log message from a web server\n",
    "# Write a function that returns an array with the unique IP adresses.\n",
    "# Write a function that returns the GET / POST request ratio.\n",
    "\n",
    "\n",
    "import re\n",
    "\n",
    "def log_ip(file):\n",
    "    with open(file, \"r\") as f:\n",
    "        content = f.read()\n",
    "        return re.findall(\"\\d\\d\\.\\d\\d\\.\\d\\d\\.\\d\\d\", content)\n",
    "        \n",
    "def log_request(file):\n",
    "    with open(file, \"r\") as f:\n",
    "        content = f.read()\n",
    "        getsposts = re.findall(\"(GET|POST)\", content)\n",
    "        n_get = sum(True for e in getsposts if e == \"GET\")\n",
    "        return n_get / (len(getsposts) - n_get)"
   ]
  },
  {
   "cell_type": "code",
   "execution_count": 81,
   "metadata": {},
   "outputs": [],
   "source": [
    "ips = log_ip(\"log.txt\")\n",
    "requests = log_request(\"log.txt\")"
   ]
  },
  {
   "cell_type": "code",
   "execution_count": 82,
   "metadata": {},
   "outputs": [
    {
     "data": {
      "text/plain": [
       "1.3584905660377358"
      ]
     },
     "execution_count": 82,
     "metadata": {},
     "output_type": "execute_result"
    }
   ],
   "source": [
    "requests"
   ]
  },
  {
   "cell_type": "markdown",
   "metadata": {},
   "source": [
    "#### Decryption\n",
    "\n",
    "- Doubled"
   ]
  },
  {
   "cell_type": "code",
   "execution_count": 88,
   "metadata": {},
   "outputs": [
    {
     "name": "stdout",
     "output_type": "stream",
     "text": [
      "The Zen of Python\n",
      "by Tim Peters\n",
      "Beautiful is better than ugly.Explicit is better than implicit.\n",
      "Simple is better than complex.Complex is better than complicated.\n",
      "Flat is better than nested.Sparse is better than dense.\n",
      "Readability counts.Special cases aren't special enough to break the rules.\n",
      "Although practicality beats purity.Errors should never pass silently.\n",
      "Unless explicitly silenced.In the face of ambiguity, refuse the temptation to guess.\n",
      "There should be one-- and preferably only one --obvious way to do it.Although that way may not be obvious at first unless you're Dutch.\n",
      "Now is better than never.Although never is often better than *right* now.\n",
      "If the implementation is hard to explain, it's a bad idea.If the implementation is easy to explain, it may be a good idea.\n",
      "Namespaces are one honking great idea -- let's do more of those!\n"
     ]
    }
   ],
   "source": [
    "# Create a method that decrypts the duplicated-chars.txt\n",
    "\n",
    "\n",
    "def decrypt(file_name):\n",
    "    with open(file_name) as f:\n",
    "        content = f.read()\n",
    "        return content[::2]\n",
    "\n",
    "\n",
    "print(decrypt(\"duplicated-chars.txt\"))"
   ]
  },
  {
   "cell_type": "markdown",
   "metadata": {},
   "source": [
    "- Reversed lines"
   ]
  },
  {
   "cell_type": "code",
   "execution_count": 90,
   "metadata": {},
   "outputs": [
    {
     "name": "stdout",
     "output_type": "stream",
     "text": [
      "\n",
      "Namespaces are one honking great idea -- let's do more of those!\n",
      "If the implementation is easy to explain, it may be a good idea.\n",
      "If the implementation is hard to explain, it's a bad idea.\n",
      "Although never is often better than *right* now.\n",
      "Now is better than never.\n",
      "Although that way may not be obvious at first unless you're Dutch.\n",
      "There should be one-- and preferably only one --obvious way to do it.\n",
      "In the face of ambiguity, refuse the temptation to guess.\n",
      "Unless explicitly silenced.\n",
      "Errors should never pass silently.\n",
      "Although practicality beats purity.\n",
      "Special cases aren't special enough to break the rules.\n",
      "Readability counts.\n",
      "Sparse is better than dense.\n",
      "Flat is better than nested.\n",
      "Complex is better than complicated.\n",
      "Simple is better than complex.\n",
      "Explicit is better than implicit.\n",
      "Beautiful is better than ugly.\n",
      "\n",
      "by Tim Peters\n",
      "The Zen of Python\n"
     ]
    }
   ],
   "source": [
    "# Create a method that decrypts reversed-lines.txt\n",
    "\n",
    "\n",
    "def decrypt(file_name):\n",
    "    with open(file_name) as f:\n",
    "        content = f.read()\n",
    "        return content[::-1]\n",
    "\n",
    "\n",
    "print(decrypt(\"reversed-lines.txt\"))"
   ]
  },
  {
   "cell_type": "markdown",
   "metadata": {},
   "source": [
    "- Reversed order"
   ]
  },
  {
   "cell_type": "code",
   "execution_count": 45,
   "metadata": {},
   "outputs": [],
   "source": [
    "# Create a method that decrypts reversed-order.txt\n",
    "def decrypt(file_name):\n",
    "    pass\n"
   ]
  },
  {
   "cell_type": "markdown",
   "metadata": {},
   "source": [
    "#### Optional exercises\n",
    "\n",
    "- [Encoded lines](decrypt-encoded/encoded_lines.py), source file is [here](decrypt-encoded/encoded-lines.txt)\n",
    "- [Lottery](lottery/lottery.py), source file is [here](lottery/lottery.csv)"
   ]
  }
 ],
 "metadata": {
  "kernelspec": {
   "display_name": "Python 3",
   "language": "python",
   "name": "python3"
  },
  "language_info": {
   "codemirror_mode": {
    "name": "ipython",
    "version": 3
   },
   "file_extension": ".py",
   "mimetype": "text/x-python",
   "name": "python",
   "nbconvert_exporter": "python",
   "pygments_lexer": "ipython3",
   "version": "3.7.3"
  }
 },
 "nbformat": 4,
 "nbformat_minor": 2
}

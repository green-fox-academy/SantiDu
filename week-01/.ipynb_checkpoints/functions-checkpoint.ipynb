{
 "cells": [
  {
   "cell_type": "markdown",
   "metadata": {},
   "source": [
    "# Functions\n",
    "\n",
    "Dive deeper into *real* programming, and learn to reuse code.\n",
    "\n",
    "## Materials & Resources\n",
    "\n",
    "| Material                                                                                                       | Time |\n",
    "|:---------------------------------------------------------------------------------------------------------------|-----:|\n",
    "| [Python Programming Tutorial - 12 - Functions](https://www.youtube.com/watch?v=j2xhtI0WTew)                    | 6:41 |\n",
    "| [Python Programming Tutorial - 13 - Return Values](https://www.youtube.com/watch?v=xRIzPZlei9I)                | 6:05 |\n",
    "| [Python Programming Tutorial - 14 - Default Values for Arguments](https://www.youtube.com/watch?v=mwr1AtpLMpI) | 4:04 |\n",
    "| [Python Programming Tutorial - 15 - Variable Scope](https://www.youtube.com/watch?v=f3TVuuhe-fY)               | 3:08 |\n",
    "| [Python Programming Tutorial - 16 - Keyword Arguments](https://www.youtube.com/watch?v=DASOXeFFkCg)            | 4:20 |\n",
    "| [Python Programming Tutorial - 17 - Flexible Number of Arguments](https://www.youtube.com/watch?v=QSTo9F8E6GE) | 3:37 |\n",
    "| [Python Programming Tutorial - 18 - Unpacking Arguments](https://www.youtube.com/watch?v=DJ2HSCT6Z8w)          | 4:16 |\n",
    "\n",
    "### Optional\n",
    "\n",
    "| Material                                                            |  Time |\n",
    "|:--------------------------------------------------------------------|------:|\n",
    "| [Debugging in PyCharm](https://www.youtube.com/watch?v=sRGpvbhOhQs) | 11:46 |\n",
    "| [Debugging in VS Code](https://www.youtube.com/watch?v=w8QHoVam1-I) |  6:08 |\n",
    "\n",
    "*If you've got time and/or want to dig deeper, consider the following:*\n",
    "\n",
    "- [General introduction to functions][1]\n",
    "- [Introduction to Python built-in data structures][2]\n",
    "- [Hands-on Python Tutorial: Defining Functions of your Own][3]\n",
    "\n",
    "[1]: http://www.cs.utah.edu/~germain/PPS/Topics/functions.html\n",
    "[2]: http://pymbook.readthedocs.org/en/latest/datastructure.html\n",
    "[3]: http://anh.cs.luc.edu/python/hands-on/3.1/handsonHtml/functions.html\n",
    "\n",
    "## Material Review\n",
    "\n",
    "- purpose of functions\n",
    "  - reusability\n",
    "  - reducing code duplication\n",
    "  - abstraction, parameterization\n",
    "    <!--\n",
    "      By parameterization the code will be independent from the circumstances\n",
    "      eg.:\n",
    "        - say_hello(\"Mike\") -> you don't need to write different function for\n",
    "          each person\n",
    "        - create_matrix(10) -> you can create matrices with any size\n",
    "    -->\n",
    "- functions we already knew\n",
    "  - `print()`\n",
    "  - `input()`\n",
    "  - `str()`\n",
    "  - `int()`\n",
    "  - `float()`\n",
    "- function\n",
    "- return value\n",
    "- argument\n",
    "  - default value\n",
    "  - keyword arguments\n",
    "  - unpacking\n",
    "- variable scope\n",
    "\n",
    "## Workshop\n",
    "\n",
    "### Functions\n",
    "\n",
    "```python\n",
    "def greet_fox():\n",
    "    print(\"Hello Green Fox!\")\n",
    "\n",
    "greet_fox()\n",
    "greet_fox()\n",
    "```\n",
    "\n",
    "#### Function arguments\n",
    "\n",
    "```python\n",
    "def greet_by_name(name):\n",
    "    print(\"Well hi there,\", name)\n",
    "\n",
    "greet_by_name(\"Tojas\")\n",
    "greet_by_name(\"Barbi\")\n",
    "```\n",
    "\n",
    "#### Default values for function arguments\n",
    "\n",
    "```python\n",
    "def greet(greet=\"Hi\", name=\"pal\"):\n",
    "    print(greet, name)\n",
    "\n",
    "greet(\"Hello\", \"Tojas\")\n",
    "greet(\"Howdy\", \"Barbi\")\n",
    "greet(\"Hey\")\n",
    "greet(name=\"Everyone\")\n",
    "```\n",
    "\n",
    "#### Function return values\n",
    "\n",
    "```python\n",
    "def make_green(name):\n",
    "    new_name = \"Green \" + name\n",
    "    return new_name\n",
    "\n",
    "name = make_green(\"Tojas\")\n",
    "greet_by_name(name)\n",
    "```\n",
    "\n",
    "#### Exercises\n",
    "\n",
    "- Doubling"
   ]
  },
  {
   "cell_type": "code",
   "execution_count": 1,
   "metadata": {},
   "outputs": [
    {
     "name": "stdout",
     "output_type": "stream",
     "text": [
      "246\n"
     ]
    }
   ],
   "source": [
    "# - Create a variable named `base_num` and assign the value `123` to it\n",
    "# - Create a function called `doubling` that doubles it's input parameter and returns with an integer\n",
    "# - Print the result of `doubling(base_num)`\n",
    "base_sum = 123\n",
    "\n",
    "def doubling(num):\n",
    "    return 2*num\n",
    "print(doubling(base_sum))"
   ]
  },
  {
   "cell_type": "markdown",
   "metadata": {},
   "source": [
    "- Greeter function"
   ]
  },
  {
   "cell_type": "code",
   "execution_count": 2,
   "metadata": {},
   "outputs": [
    {
     "name": "stdout",
     "output_type": "stream",
     "text": [
      "Greetings, dearGreenfox\n"
     ]
    }
   ],
   "source": [
    "# - Create variable named `al` and assign the value `Greenfox` to it\n",
    "# - Create a function called `greet` that greets it's input parameter\n",
    "#     - Greeting is printing e.g. `Greetings, dear Greenfox`\n",
    "# - Greet `al`\n",
    "al = \"Greenfox\"\n",
    "\n",
    "def greet(name):\n",
    "    print(f\"Greetings, dear{name}\")\n",
    "\n",
    "greet(al)"
   ]
  },
  {
   "cell_type": "markdown",
   "metadata": {},
   "source": [
    "- Append a"
   ]
  },
  {
   "cell_type": "code",
   "execution_count": 3,
   "metadata": {},
   "outputs": [
    {
     "name": "stdout",
     "output_type": "stream",
     "text": [
      "Chinchilla\n"
     ]
    }
   ],
   "source": [
    "# - Create a variable named `typo` and assign the value `Chinchill` to it\n",
    "# - Write a function called `append_a_func` that gets a string as an input,\n",
    "#   appends an 'a' character to its end and returns with a string\n",
    "# - Print the result of `append_a_func(typo)`\n",
    "typo = \"Chinchill\"\n",
    "\n",
    "def append_a_func(string):\n",
    "    string += \"a\"\n",
    "    return string\n",
    "\n",
    "print(append_a_func(typo))"
   ]
  },
  {
   "cell_type": "markdown",
   "metadata": {},
   "source": [
    "- Summing"
   ]
  },
  {
   "cell_type": "code",
   "execution_count": 4,
   "metadata": {},
   "outputs": [
    {
     "data": {
      "text/plain": [
       "55"
      ]
     },
     "execution_count": 4,
     "metadata": {},
     "output_type": "execute_result"
    }
   ],
   "source": [
    "# Write a function called `sum` that returns the sum of numbers from zero to the given parameter\n",
    "def sum(n):\n",
    "    s = n\n",
    "    for i in range(n-1, 0, -1):\n",
    "        s += i\n",
    "    return s\n",
    "sum(10)"
   ]
  },
  {
   "cell_type": "markdown",
   "metadata": {},
   "source": [
    "- Factorial"
   ]
  },
  {
   "cell_type": "code",
   "execution_count": 5,
   "metadata": {},
   "outputs": [
    {
     "data": {
      "text/plain": [
       "0"
      ]
     },
     "execution_count": 5,
     "metadata": {},
     "output_type": "execute_result"
    }
   ],
   "source": [
    "# - Create a function called `factorio`\n",
    "#   that returns it's input's factorial\n",
    "def factorio(n):\n",
    "    f = n\n",
    "    for i in range(n-1, 0, -1):\n",
    "        f *= i\n",
    "    return f\n",
    "\n",
    "factorio(0)"
   ]
  },
  {
   "cell_type": "markdown",
   "metadata": {},
   "source": [
    "- Print arguments"
   ]
  },
  {
   "cell_type": "code",
   "execution_count": 6,
   "metadata": {},
   "outputs": [
    {
     "name": "stdout",
     "output_type": "stream",
     "text": [
      "(1, 3, 3)\n"
     ]
    }
   ],
   "source": [
    "# - Create a function called `print_params`\n",
    "#   which prints the input parameters\n",
    "#   (can have multiple number of arguments)\n",
    "def print_params(*arg):\n",
    "    print(arg)\n",
    "    \n",
    "print_params(1,3,3)"
   ]
  },
  {
   "cell_type": "markdown",
   "metadata": {},
   "source": [
    "### Hard Ones\n",
    "\n",
    "[Arrays workshop](../arrays/python.md) is a prerequisite for the following\n",
    "exercises.\n",
    "\n",
    "- Find part of an integer"
   ]
  },
  {
   "cell_type": "code",
   "execution_count": 7,
   "metadata": {},
   "outputs": [
    {
     "name": "stdout",
     "output_type": "stream",
     "text": [
      "[0, 1, 4]\n",
      "[]\n"
     ]
    }
   ],
   "source": [
    "#  Create a function that takes a number and a list of numbers as a parameter\n",
    "#  Returns the indeces of the numbers in the list where the first number is part of\n",
    "#  Or returns an empty list if the number is not part of any of the numbers in the list\n",
    "def subint(number, numL):\n",
    "    output = []\n",
    "    for i in range(len(numL)):\n",
    "        if str(number) in str(numL[i]):\n",
    "            output.append(i)\n",
    "    return(output)\n",
    "\n",
    "# Example\n",
    "print(subint(1, [1, 11, 34, 52, 61]))\n",
    "# should print: `[0, 1, 4]`\n",
    "print(subint(9, [1, 11, 34, 52, 61]))\n",
    "# should print: '[]'"
   ]
  },
  {
   "cell_type": "markdown",
   "metadata": {},
   "source": [
    "- Unique"
   ]
  },
  {
   "cell_type": "code",
   "execution_count": 8,
   "metadata": {},
   "outputs": [
    {
     "name": "stdout",
     "output_type": "stream",
     "text": [
      "[1, 11, 34, 52, 61]\n"
     ]
    }
   ],
   "source": [
    "#  Create a function that takes a list of numbers as a parameter\n",
    "#  Returns a list of numbers where every number in the list occurs only once\n",
    "\n",
    "def unique(arr):\n",
    "    return sorted(list(set(arr)))\n",
    "\n",
    "#  Example\n",
    "print(unique([1, 11, 34, 11, 52, 61, 1, 34]))\n",
    "#  should print: `[1, 11, 34, 52, 61]`"
   ]
  },
  {
   "cell_type": "markdown",
   "metadata": {},
   "source": [
    "- Anagram\n",
    "\n",
    "##### What the hell is an anagram?\n",
    "\n",
    "> An anagram is direct word switch or word play, the result of rearranging the letters of a word or phrase to produce a new word or phrase, using all the original letters exactly once; for example, the word anagram can be rearranged into nag-a-ram.\n",
    "> *[for more detail check [anagram](https://en.wikipedia.org/wiki/Anagram) on Wikipedia]*\n",
    "\n",
    "##### Exercise\n",
    "\n",
    "Create a function named **is anagram** following your current language's style guide. It should take two strings and return a boolean value depending on whether its an anagram or not.\n",
    "\n",
    "##### Examples\n",
    "\n",
    "|input 1|input 2|output|\n",
    "|:-----:|:-----:|:---:|\n",
    "|\"dog\"|\"god\"|true|\n",
    "|\"green\"|\"fox\"|false|"
   ]
  },
  {
   "cell_type": "code",
   "execution_count": 9,
   "metadata": {},
   "outputs": [],
   "source": [
    "def isAnagram1(s, t):\n",
    "    input1 = sorted(s)\n",
    "    input2 = sorted(t)\n",
    "    count = 0\n",
    "    while True:\n",
    "        if count == len(input1) == len(input2):\n",
    "            return True\n",
    "        try:\n",
    "            if input1[count] != input2[count]:\n",
    "                return False\n",
    "            count += 1\n",
    "        except IndexError:\n",
    "            return False          \n",
    "\n",
    "def isAnagram2(s, t):\n",
    "    dic = {}\n",
    "    dic2 = {}\n",
    "    for c in s:\n",
    "        dic.setdefault(c, 0)\n",
    "        dic[c] += 1\n",
    "    for c in t:\n",
    "        dic2.setdefault(c, 0)\n",
    "        dic2[c] += 1\n",
    "    return dic == dic2\n",
    "\n",
    "def isAnagram3(s, t):\n",
    "    dic = {}\n",
    "    L = []\n",
    "    for c in s:\n",
    "        dic.setdefault(c, 0)\n",
    "        dic[c] += 1\n",
    "    for c in t:\n",
    "        if dic.get(c):\n",
    "            dic[c] -= 1\n",
    "        else:\n",
    "            L.append(c)          \n",
    "    return not any(L) and not any(dic.values())"
   ]
  },
  {
   "cell_type": "markdown",
   "metadata": {},
   "source": [
    "- Palindrome builder\n",
    "\n",
    "##### What the hell is a palindrome?\n",
    "\n",
    "> A palindrome is a word, phrase, number, or other sequence of characters which reads the same backward as forward, such as madam or racecar.\n",
    "> *[for more detail check [palindrome](https://en.wikipedia.org/wiki/Palindrome) on Wikipedia]*\n",
    "\n",
    "##### Exercise\n",
    "\n",
    "Create a function named **create palindrome** following your current language's style guide. It should take a string, create a palindrome from it and then return it.\n",
    "\n",
    "##### Examples\n",
    "\n",
    "|input|output|\n",
    "|:---:|:---:|\n",
    "|\"\"|\"\"|\n",
    "|\"greenfox\"|\"greenfoxxofneerg\"|\n",
    "|\"123\"|\"123321\"|"
   ]
  },
  {
   "cell_type": "code",
   "execution_count": 10,
   "metadata": {},
   "outputs": [],
   "source": [
    "def create_palindrome(string):\n",
    "    return string + string[::-1]"
   ]
  },
  {
   "cell_type": "markdown",
   "metadata": {},
   "source": [
    "- Palindrome searcher\n",
    "\n",
    "[What the hell is a palindrome?](palindrome-builder/palindrome-builder.md)\n",
    "\n",
    "##### Exercise\n",
    "\n",
    "Create a function named **search palindrome** following your current language's style guide. It should take a string, search for palindromes that at least 3 characters long and return a list with the found palindromes.\n",
    "\n",
    "##### Examples\n",
    "\n",
    "|input|output|\n",
    "|:---:|:---:|\n",
    "|\"dog goat dad duck doodle never\"|[\"og go\", \"g g\", \" dad \", \"dad\", \"d d\", \"dood\", \"eve\"]|\n",
    "|\"apple\"|[]|\n",
    "|\"racecar\"|[\"racecar\", \"aceca\", \"cec\"]|\n",
    "|\"\"|[]|"
   ]
  },
  {
   "cell_type": "code",
   "execution_count": null,
   "metadata": {},
   "outputs": [],
   "source": []
  },
  {
   "cell_type": "markdown",
   "metadata": {},
   "source": [
    "- Sort that list"
   ]
  },
  {
   "cell_type": "code",
   "execution_count": null,
   "metadata": {},
   "outputs": [],
   "source": [
    "#  Create a function that takes a list of numbers as parameter\n",
    "#  Returns a list where the elements are sorted in ascending numerical order\n",
    "#  Make a second boolean parameter, if it's `True` sort that list descending\n",
    "\n",
    "\n",
    "def bubble(arr):\n",
    "    pass\n",
    "\n",
    "\n",
    "def advanced_bubble(arr, is_descending):\n",
    "    pass\n",
    "\n",
    "\n",
    "#  Example:\n",
    "print(bubble([43, 12, 24, 9, 5]))\n",
    "#  should print [5, 9, 12, 24, 34]\n",
    "print(advanced_bubble([43, 12, 24, 9, 5], True))\n",
    "#  should print [34, 24, 9, 5]"
   ]
  },
  {
   "cell_type": "markdown",
   "metadata": {},
   "source": [
    "## Individual Workshop Review\n",
    "\n",
    "Please follow the styleguide: [Our Python styleguide](../../styleguide/python.md)\n",
    "\n",
    "- Is the directory structure and the name of the files correct?\n",
    "- Are the includes palced on the top of the files?\n",
    "- Is the indentation good in each file?\n",
    "- Is there unnecessary code?\n",
    "- Can you find unnecessary code in comments?\n",
    "- Is there unnecessary code duplication?\n",
    "- Are there unnecessary empty blocks?\n",
    "- Can you spot unused variables?\n",
    "- Is the commit message meaningful?\n",
    "- Are the names of things following the styleguide?\n",
    "- Are all of the brackets in the perfect place?\n",
    "- Whitespaces, where they should be, where shouldn't?"
   ]
  }
 ],
 "metadata": {
  "kernelspec": {
   "display_name": "Python 3",
   "language": "python",
   "name": "python3"
  },
  "language_info": {
   "codemirror_mode": {
    "name": "ipython",
    "version": 3
   },
   "file_extension": ".py",
   "mimetype": "text/x-python",
   "name": "python",
   "nbconvert_exporter": "python",
   "pygments_lexer": "ipython3",
   "version": "3.7.3"
  }
 },
 "nbformat": 4,
 "nbformat_minor": 2
}

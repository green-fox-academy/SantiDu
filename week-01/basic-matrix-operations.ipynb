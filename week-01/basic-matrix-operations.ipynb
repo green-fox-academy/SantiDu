{
 "cells": [
  {
   "cell_type": "markdown",
   "metadata": {},
   "source": [
    "# Basic matrix operations\n",
    "\n",
    "## Materials & Resources\n",
    "\n",
    "| Material                                                            |  Time |\n",
    "|:--------------------------------------------------------------------|------:|\n",
    "| [Introduction to matrices](https://youtu.be/xyAuNHPsq-g)            | 11:50 |\n",
    "| [Matrix addition and subtraction](https://youtu.be/WR9qCSXJlyY)     |  5:34 |\n",
    "| [Scalar multiplication](https://youtu.be/TbaltFbJ3wE)               |  2:17 |\n",
    "| [Transpose of a matrix](https://youtu.be/TZrKrNVhbjI)               |  3:41 |\n",
    "| [Matrix multiplication introduction](https://youtu.be/kT4Mp9EdVqs)  |  6:25 |\n",
    "| [Multiplying a matrix by a matrix](https://youtu.be/OMA2Mwo0aZg)    |  5:29 |\n",
    "\n",
    "## Material Review\n",
    "\n",
    "- What is a matrix?\n",
    "  <!--\n",
    "    A table of numbers. It has rows and columns. It's just a data\n",
    "    representation. It can represent tons of things like pixels on your screen.\n",
    "  -->\n",
    "- How do you add two matrices?\n",
    "  <!--\n",
    "    Just add A[ij] to B[ij].\n",
    "  -->\n",
    "- Is `A + B` equals `B + A`?\n",
    "  <!--\n",
    "    Yes, addition on matrices are commutative.\n",
    "  -->\n",
    "- How do you subtract two matrices?\n",
    "  <!--\n",
    "    Just subtract A[ij] from B[ij].\n",
    "  -->\n",
    "- Can you apply add or subtract operation on matrices with different dimensions?\n",
    "  <!--\n",
    "    No, because the output would be undefined.\n",
    "  -->\n",
    "- What is a scalar?\n",
    "  <!--\n",
    "    A regular number like 2, π, 4+2i...\n",
    "  -->\n",
    "- How do you do scalar multiplication?\n",
    "  <!--\n",
    "    Just multiply A[ij] with the scalar.\n",
    "  -->\n",
    "- What does transpose of a matrix mean?\n",
    "  <!--\n",
    "    It means that rows become columns and columns become rows\n",
    "    A[ij] to B[ji].\n",
    "  -->\n",
    "- Can you always multiply two matrices?\n",
    "  <!--\n",
    "    No you can't. You can only multiply two matrices if the number of columns of\n",
    "    A matrix equals to the number of rows of B matrix.\n",
    "  -->\n",
    "- How do you multiply two matrices?\n",
    "  <!--\n",
    "    You multiply A's row with B's column.\n",
    "  -->\n",
    "- Is `A × B` equals `B × A`?\n",
    "  <!--\n",
    "    Not necessarily.\n",
    "  -->\n",
    "- Which operations change the output matrix's dimensions?\n",
    "  <!--\n",
    "    Transposition: m×n to n×m\n",
    "    Matrix multiplication: A(m×n), B(m×k) to C(n×k)\n",
    "    Addition, subtraction, scalar multiplication and transposition won't change.\n",
    "  -->\n",
    "\n",
    "## Workshop\n",
    "\n",
    "- Addition\n",
    "\n",
    "Create a program that can add two matrices together."
   ]
  },
  {
   "cell_type": "code",
   "execution_count": 56,
   "metadata": {},
   "outputs": [
    {
     "data": {
      "text/plain": [
       "[[3, 3], [3, 3]]"
      ]
     },
     "execution_count": 56,
     "metadata": {},
     "output_type": "execute_result"
    }
   ],
   "source": [
    "def add(a, b):\n",
    "    s = []\n",
    "    for i in range(len(a)):\n",
    "        s.append([])\n",
    "        for j in range(len(a[i])):\n",
    "            s[i].append(a[i][j] + b[i][j])\n",
    "    return s\n",
    "\n",
    "\n",
    "add([[1, 2],[1, 2]], [[2, 1],[2, 1]])"
   ]
  },
  {
   "cell_type": "markdown",
   "metadata": {},
   "source": [
    "- Subtraction\n",
    "\n",
    "Create a program that can subtract two matrices from each other."
   ]
  },
  {
   "cell_type": "code",
   "execution_count": 57,
   "metadata": {},
   "outputs": [
    {
     "data": {
      "text/plain": [
       "[[0, 0], [0, 0]]"
      ]
     },
     "execution_count": 57,
     "metadata": {},
     "output_type": "execute_result"
    }
   ],
   "source": [
    "def sub(a, b):\n",
    "    d = []\n",
    "    for i in range(len(a)):\n",
    "        d.append([])\n",
    "        for j in range(len(a[i])):\n",
    "            d[i].append(a[i][j] - b[i][j])\n",
    "    return d\n",
    "\n",
    "\n",
    "sub([[1, 1],[1, 1]], [[1, 1],[1, 1]])"
   ]
  },
  {
   "cell_type": "markdown",
   "metadata": {},
   "source": [
    "- Scalar multiplication\n",
    "\n",
    "Create a program that can multiply a matrix with a scalar."
   ]
  },
  {
   "cell_type": "code",
   "execution_count": 58,
   "metadata": {},
   "outputs": [
    {
     "data": {
      "text/plain": [
       "[[9]]"
      ]
     },
     "execution_count": 58,
     "metadata": {},
     "output_type": "execute_result"
    }
   ],
   "source": [
    "def sMul(scalar, a):\n",
    "    p = []\n",
    "    for i in range(len(a)):\n",
    "        p.append([])\n",
    "        for j in range(len(a[i])):\n",
    "            p[i].append(scalar * a[i][j])\n",
    "    return p\n",
    "\n",
    "\n",
    "sMul(3, [[1, 1],[1, 1]])\n",
    "sMul(3, [[3]])"
   ]
  },
  {
   "cell_type": "markdown",
   "metadata": {},
   "source": [
    "- Transposition\n",
    "\n",
    "Create a program that calculates the transposition of a matrix."
   ]
  },
  {
   "cell_type": "code",
   "execution_count": 59,
   "metadata": {},
   "outputs": [
    {
     "name": "stdout",
     "output_type": "stream",
     "text": [
      "[[1, 2]]\n",
      "[[1], [2]]\n",
      "[[1, 1], [2, 2]]\n"
     ]
    }
   ],
   "source": [
    "def t(a):\n",
    "    t = []\n",
    "    count = 0\n",
    "    for row in a:\n",
    "        i = 0\n",
    "        for e in row:\n",
    "            if count == 0:\n",
    "                t.append([e])\n",
    "            else:\n",
    "                t[i].append(e)\n",
    "            i += 1\n",
    "        count += 1\n",
    "    return t\n",
    "\n",
    "\n",
    "print(t([[1],[2]]))\n",
    "print(t([[1, 2]]))\n",
    "print(t([[1, 2], [1, 2]]))"
   ]
  },
  {
   "cell_type": "markdown",
   "metadata": {},
   "source": [
    "- Matrix multiplication\n",
    "\n",
    "Create a program that does matrix multiplication."
   ]
  },
  {
   "cell_type": "code",
   "execution_count": 61,
   "metadata": {},
   "outputs": [],
   "source": [
    "def mMul(a, b):\n",
    "    pass"
   ]
  },
  {
   "cell_type": "markdown",
   "metadata": {},
   "source": [
    "- Vertical flipping\n",
    "\n",
    "Create a program that can vertically flip a matrix."
   ]
  },
  {
   "cell_type": "code",
   "execution_count": 77,
   "metadata": {},
   "outputs": [
    {
     "name": "stdout",
     "output_type": "stream",
     "text": [
      "[[3, 3], [2, 2], [1, 1]]\n",
      "[[2, 2], [1, 1]]\n"
     ]
    }
   ],
   "source": [
    "def vflip(a):\n",
    "    i = 0\n",
    "    j = len(a) - 1\n",
    "    while i != j and j + 1 != i:\n",
    "        a[i], a[j] = a[j], a[i]\n",
    "        i += 1\n",
    "        j -= 1\n",
    "    return a\n",
    "            \n",
    "\n",
    "print(vflip([[1, 1], [2, 2], [3, 3]]))\n",
    "print(vflip([[1, 1], [2, 2]]))"
   ]
  },
  {
   "cell_type": "markdown",
   "metadata": {},
   "source": [
    "- Main anti-diagonal mirroring\n",
    "\n",
    "Create a program that can mirror the given matrix across the main anti-diagonal."
   ]
  },
  {
   "cell_type": "code",
   "execution_count": null,
   "metadata": {},
   "outputs": [],
   "source": [
    "antiDiagMirr"
   ]
  },
  {
   "cell_type": "markdown",
   "metadata": {},
   "source": [
    "- Horizontal flipping\n",
    "\n",
    "Create a program that can horizontally flip a matrix."
   ]
  },
  {
   "cell_type": "code",
   "execution_count": null,
   "metadata": {},
   "outputs": [],
   "source": [
    "hflip"
   ]
  },
  {
   "cell_type": "markdown",
   "metadata": {},
   "source": [
    "- Matrix rotation\n",
    "\n",
    "Create a program that can rotate a matrix by 90 degree.\n",
    "\n",
    "Extend your program to work with any multiplication of 90 degree."
   ]
  },
  {
   "cell_type": "code",
   "execution_count": null,
   "metadata": {},
   "outputs": [],
   "source": [
    "mRot"
   ]
  }
 ],
 "metadata": {
  "kernelspec": {
   "display_name": "Python 3",
   "language": "python",
   "name": "python3"
  },
  "language_info": {
   "codemirror_mode": {
    "name": "ipython",
    "version": 3
   },
   "file_extension": ".py",
   "mimetype": "text/x-python",
   "name": "python",
   "nbconvert_exporter": "python",
   "pygments_lexer": "ipython3",
   "version": "3.7.3"
  }
 },
 "nbformat": 4,
 "nbformat_minor": 2
}

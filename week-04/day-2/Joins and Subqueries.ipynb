{
 "cells": [
  {
   "cell_type": "markdown",
   "metadata": {},
   "source": [
    "How can you produce a list of the start times for bookings by members named 'David Farrell'?\n",
    "```mysql\n",
    "SELECT starttime\n",
    "FROM cd.bookings\n",
    "JOIN cd.members\n",
    "\tON cd.bookings.memid = cd.members.memid\n",
    "WHERE CONCAT(cd.members.firstname, ' ', cd.members.surname) = 'David Farrell';\n",
    "```"
   ]
  },
  {
   "cell_type": "markdown",
   "metadata": {},
   "source": [
    "Work out the start times of bookings for tennis courts\n",
    "```mysql\n",
    "SELECT cd.bookings.starttime AS start, cd.facilities.name AS name\n",
    "FROM cd.bookings\n",
    "JOIN cd.facilities\n",
    "\tON cd.facilities.facid = cd.bookings.facid\n",
    "WHERE cd.bookings.starttime::DATE = '2012-09-21'::DATE\n",
    "\tAND name LIKE 'Tennis Court _'\n",
    "ORDER BY start;\n",
    "```"
   ]
  },
  {
   "cell_type": "markdown",
   "metadata": {},
   "source": [
    "How can you output a list of all members who have recommended another member? Ensure that there are no duplicates in the list, and that results are ordered by (surname, firstname).\n",
    "```mysql\n",
    "SELECT firstname, surname\n",
    "FROM cd.members\n",
    "WHERE memid IN (SELECT recommendedby \n",
    "\t\t\t\tFROM cd.members)\n",
    "ORDER BY surname, firstname;\n",
    "```"
   ]
  },
  {
   "cell_type": "markdown",
   "metadata": {},
   "source": [
    "How can you output a list of all members, including the individual who recommended them (if any)? Ensure that results are ordered by (surname, firstname).\n",
    "```mysql\n",
    "SELECT cd.members.firstname AS memfname, \n",
    "\tcd.members.surname AS memsname, \n",
    "\trecfname, \n",
    "\trecsname\n",
    "FROM cd.members\n",
    "LEFT JOIN (SELECT cd.members.memid,\n",
    "\t\t    cd.members.firstname AS recfname,\n",
    "\t  \t\tcd.members.surname AS recsname\n",
    "\t\t  FROM cd.members) AS rec\n",
    "\tON cd.members.recommendedby = rec.memid\n",
    "ORDER BY memsname, memfname;\n",
    "```"
   ]
  },
  {
   "cell_type": "markdown",
   "metadata": {},
   "source": [
    "How can you produce a list of all members who have used a tennis court? Include in your output the name of the court, and the name of the member formatted as a single column. Ensure no duplicate data, and order by the member name.\n",
    "```mysql\n",
    "SELECT DISTINCT CONCAT(firstname, ' ', surname) AS member, cd.facilities.name AS facility\n",
    "FROM cd.members\n",
    "JOIN cd.bookings\n",
    "\tON cd.members.memid = cd.bookings.memid\n",
    "JOIN cd.facilities\n",
    "\tON cd.facilities.facid = cd.bookings.facid\n",
    "WHERE cd.facilities.name LIKE 'Tennis Court _'\n",
    "ORDER BY member;\n",
    "```"
   ]
  },
  {
   "cell_type": "markdown",
   "metadata": {},
   "source": [
    "How can you produce a list of bookings on the day of 2012-09-14 which will cost the member (or guest) more than $30? Remember that guests have different costs to members (the listed costs are per half-hour 'slot'), and the guest user is always ID 0. Include in your output the name of the facility, the name of the member formatted as a single column, and the cost. Order by descending cost, and do not use any subqueries.\n",
    "```mysql\n",
    "\n",
    "```"
   ]
  },
  {
   "cell_type": "code",
   "execution_count": null,
   "metadata": {},
   "outputs": [],
   "source": []
  }
 ],
 "metadata": {
  "kernelspec": {
   "display_name": "Python 3",
   "language": "python",
   "name": "python3"
  },
  "language_info": {
   "codemirror_mode": {
    "name": "ipython",
    "version": 3
   },
   "file_extension": ".py",
   "mimetype": "text/x-python",
   "name": "python",
   "nbconvert_exporter": "python",
   "pygments_lexer": "ipython3",
   "version": "3.7.3"
  }
 },
 "nbformat": 4,
 "nbformat_minor": 2
}

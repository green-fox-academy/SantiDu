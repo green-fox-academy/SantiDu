{
 "cells": [
  {
   "cell_type": "code",
   "execution_count": 14,
   "metadata": {},
   "outputs": [],
   "source": [
    "import sqlalchemy"
   ]
  },
  {
   "cell_type": "markdown",
   "metadata": {},
   "source": [
    "### Exercise 2\n",
    "\n",
    "* List the users who registered in 2018 with a `.com` email address and living in China\n",
    "\n",
    "```mysql\n",
    "SELECT * \n",
    "FROM users   \n",
    "WHERE email LIKE '%.com' AND  \n",
    "    EXTRACT(YEAR FROM date_of_registration) = 2018 AND  \n",
    "    country = 'China';\n",
    "```"
   ]
  },
  {
   "cell_type": "markdown",
   "metadata": {},
   "source": [
    "* How many users are there?\n",
    "\n",
    "```mysql\n",
    "SELECT COUNT(*) \n",
    "FROM users;\n",
    "```"
   ]
  },
  {
   "cell_type": "markdown",
   "metadata": {},
   "source": [
    "* How many users registered in 2019?\n",
    "```mysql\n",
    "SELECT COUNT(*) \n",
    "FROM users\n",
    "WHERE EXTRACT(YEAR FROM date_of_registration) = 2019;\n",
    "```"
   ]
  },
  {
   "cell_type": "markdown",
   "metadata": {},
   "source": [
    "* How many users registered in January?\n",
    "```mysql\n",
    "SELECT * \n",
    "FROM users\n",
    "WHERE EXTRACT(MON FROM date_of_registration) = 1;\n",
    "```"
   ]
  },
  {
   "cell_type": "markdown",
   "metadata": {},
   "source": [
    "* Which country has the most users?\n",
    "```mysql\n",
    "SELECT country, COUNT(*) AS N_users \n",
    "FROM users\n",
    "GROUP BY country\n",
    "ORDER BY N_users DESC\n",
    "LIMIT 1;\n",
    "```"
   ]
  },
  {
   "cell_type": "markdown",
   "metadata": {},
   "source": [
    "* What is the gender ratio?\n",
    "\n",
    "Solution 1.\n",
    "```mysql\n",
    "SELECT\n",
    "    SUM ( CASE WHEN gender = 'Male' THEN 1 ELSE 0 END )::DECIMAL \n",
    "    /\n",
    "    SUM ( CASE WHEN gender = 'Female' THEN 1 ELSE 0 END ) \n",
    "FROM users;\n",
    "```\n",
    "\n",
    "Solution 2.\n",
    "```mysql\n",
    "SELECT (\n",
    "    SELECT COUNT(*)\n",
    "    FROM users\n",
    "    WHERE gender = 'Male'\n",
    "    )::DECIMAL\n",
    "    /\n",
    "    (\n",
    "     SELECT COUNT(*)\n",
    "     FROM users\n",
    "     WHERE gender = 'Female'\n",
    "    );\n",
    "```"
   ]
  },
  {
   "cell_type": "markdown",
   "metadata": {},
   "source": [
    "* How many users left at least one field blank?\n",
    "```mysql\n",
    "SELECT COUNT(*) \n",
    "FROM users\n",
    "WHERE gender IS NULL\n",
    "    OR country IS NULL\n",
    "    OR last_name IS NULL\n",
    "    OR first_name IS NULL\n",
    "    OR date_of_registration IS NULL\n",
    "    OR email IS NULL\n",
    "    OR username IS NULL;\n",
    "```"
   ]
  },
  {
   "cell_type": "markdown",
   "metadata": {},
   "source": [
    "* Which are the 3 most expensive products?\n",
    "```mysql\n",
    "SELECT name\n",
    "FROM products\n",
    "ORDER BY price DESC\n",
    "LIMIT 3;\n",
    "```"
   ]
  },
  {
   "cell_type": "markdown",
   "metadata": {},
   "source": [
    "* Which are the 4th and 5th cheapest products?\n",
    "```mysql\n",
    "SELECT name\n",
    "FROM products\n",
    "ORDER BY price DESC\n",
    "LIMIT 2 OFFSET 3;\n",
    "```"
   ]
  },
  {
   "cell_type": "markdown",
   "metadata": {},
   "source": [
    "* What is the average price for an electric product?\n",
    "```mysql\n",
    "SELECT ROUND(AVG(price), 2) AS ave_price\n",
    "FROM products\n",
    "WHERE category = 'Electronics';\n",
    "```"
   ]
  },
  {
   "cell_type": "markdown",
   "metadata": {},
   "source": [
    "* How much would it cost me to buy all the toys?\n",
    "```mysql\n",
    "SELECT SUM(price) AS cost\n",
    "FROM products\n",
    "WHERE category = 'Toys';\n",
    "```"
   ]
  },
  {
   "cell_type": "markdown",
   "metadata": {},
   "source": [
    "* What is the average rating?\n",
    "```mysql\n",
    "SELECT AVG(rating)\n",
    "FROM reviews;\n",
    "```"
   ]
  },
  {
   "cell_type": "markdown",
   "metadata": {},
   "source": [
    "* Which product has the best average rating?\n",
    "```mysql\n",
    "/* THIS ONE IS WRONG! */\n",
    "SELECT products.name, AVG(reviews.rating) AS avg_rating\n",
    "FROM products\n",
    "INNER JOIN reviews\n",
    "    ON products.id = reviews.product_id\n",
    "GROUP BY products.name /* Should group by products.id */\n",
    "ORDER BY avg_rating DESC\n",
    "LIMIT 10;\n",
    "```\n",
    "```mysql\n",
    "/* This suppose to be the correct one */\n",
    "SELECT products.name, avg_rating\n",
    "FROM products\n",
    "INNER JOIN (SELECT product_id, AVG(reviews.rating) AS avg_rating\n",
    "            FROM reviews\n",
    "            GROUP BY product_id\n",
    "           ) AS avg_review\n",
    "           ON avg_review.product_id = products.id\n",
    "ORDER BY avg_rating DESC \n",
    "LIMIT 10;\n",
    "``` "
   ]
  },
  {
   "cell_type": "markdown",
   "metadata": {},
   "source": [
    "* Which product has the worst rating?\n",
    "```mysql\n",
    "SELECT products.name, avg_rating\n",
    "FROM products\n",
    "INNER JOIN (SELECT product_id, AVG(reviews.rating) AS avg_rating\n",
    "            FROM reviews\n",
    "            GROUP BY product_id\n",
    "           ) AS avg_review\n",
    "           ON avg_review.product_id = products.id\n",
    "ORDER BY avg_rating\n",
    "LIMIT 10;\n",
    "``` "
   ]
  },
  {
   "cell_type": "markdown",
   "metadata": {},
   "source": [
    "* Which products have no review?\n",
    "```mysql\n",
    "SELECT *\n",
    "FROM products\n",
    "LEFT JOIN reviews\n",
    "    ON products.id = reviews.product_id\n",
    "WHERE reviews.product_id IS NULL;\n",
    "```"
   ]
  },
  {
   "cell_type": "markdown",
   "metadata": {},
   "source": [
    "* How many reviews are 3 or below without comment?\n",
    "```mysql\n",
    "SELECT COUNT(*)\n",
    "FROM reviews\n",
    "WHERE reviews.comment IS NULL AND\n",
    "    rating < 3;\n",
    "```"
   ]
  },
  {
   "cell_type": "markdown",
   "metadata": {},
   "source": [
    "* Which user reviewed the most?\n",
    "```mysql\n",
    "SELECT users.username\n",
    "FROM users\n",
    "WHERE users.id = (\n",
    "    SELECT users.id\n",
    "    FROM users\n",
    "    INNER JOIN reviews\n",
    "        ON reviews.user_id = users.id\n",
    "    GROUP BY users.id\n",
    "    ORDER BY COUNT(*) DESC\n",
    "    LIMIT 1\n",
    "    );\n",
    "```"
   ]
  },
  {
   "cell_type": "markdown",
   "metadata": {},
   "source": [
    "* List the average rating for each product\n",
    "\n",
    "```mysql\n",
    "SELECT products.name, avg_rating\n",
    "FROM products\n",
    "INNER JOIN(\n",
    "    SELECT product_id, AVG(reviews.rating) AS avg_rating\n",
    "    FROM reviews\n",
    "    GROUP BY product_id\n",
    "    ) AS avg_review\n",
    "    ON avg_review.product_id = products.id;\n",
    "```"
   ]
  },
  {
   "cell_type": "markdown",
   "metadata": {},
   "source": [
    "* How many days passed since the last review?\n",
    "```mysql\n",
    "SELECT EXTRACT(DAY FROM NOW() - (SELECT reviews.date \n",
    "                                 FROM reviews \n",
    "                                 ORDER BY reviews.date DESC\n",
    "                                 LIMIT 1));\n",
    "```"
   ]
  },
  {
   "cell_type": "markdown",
   "metadata": {},
   "source": [
    "### Exercise 3"
   ]
  },
  {
   "cell_type": "markdown",
   "metadata": {},
   "source": [
    "We would like to store data about our employees.\n",
    "\n",
    "- First name\n",
    "- Last name\n",
    "- Username\n",
    "- Date of employment\n",
    "- Date of exit\n",
    "- Role\n",
    "- Salary\n",
    "\n",
    "Your task is to\n",
    "\n",
    "- Create the necessary tables and maybe add the necessary fields\n",
    "- Alter the existing tables so that an employee belongs to a department as well\n",
    "- Remove the username field from the table\n",
    "- Rename a column"
   ]
  },
  {
   "cell_type": "markdown",
   "metadata": {},
   "source": [
    "```mysql\n",
    "CREATE TABLE employees(\n",
    "    id SERIAL PRIMARY KEY,\n",
    "    first_name VARCHAR,\n",
    "    last_name VARCHAR,\n",
    "    username VARCHAR,\n",
    "    date_of_employment TIMESTAMP,\n",
    "    date_of_exit TIMESTAMP,\n",
    "    role VARCHAR,\n",
    "    Salary_in_cents INTEGER);\n",
    "```\n",
    "\n",
    "```mysql\n",
    "ALTER TABLE employees\n",
    "ADD COLUMN department VARCHAR;\n",
    "```\n",
    "\n",
    "```mysql\n",
    "ALTER TABLE employees\n",
    "DROP COLUMN username;\n",
    "```\n",
    "\n",
    "```mysql\n",
    "ALTER TABLE employees\n",
    "RENAME COLUMN Salary_in_cents TO Salary;\n",
    "```"
   ]
  }
 ],
 "metadata": {
  "kernelspec": {
   "display_name": "Python 3",
   "language": "python",
   "name": "python3"
  },
  "language_info": {
   "codemirror_mode": {
    "name": "ipython",
    "version": 3
   },
   "file_extension": ".py",
   "mimetype": "text/x-python",
   "name": "python",
   "nbconvert_exporter": "python",
   "pygments_lexer": "ipython3",
   "version": "3.7.3"
  }
 },
 "nbformat": 4,
 "nbformat_minor": 2
}
